{
  "nbformat": 4,
  "nbformat_minor": 0,
  "metadata": {
    "colab": {
      "name": "NLP_2_spacy.ipynb",
      "provenance": [],
      "collapsed_sections": [],
      "authorship_tag": "ABX9TyPpO1qgqMKSwh9z94oTFY5Y",
      "include_colab_link": true
    },
    "kernelspec": {
      "name": "python3",
      "display_name": "Python 3"
    },
    "accelerator": "TPU"
  },
  "cells": [
    {
      "cell_type": "markdown",
      "metadata": {
        "id": "view-in-github",
        "colab_type": "text"
      },
      "source": [
        "<a href=\"https://colab.research.google.com/github/RafsanJany-44/NLP_Research/blob/master/NLP_2_spacy.ipynb\" target=\"_parent\"><img src=\"https://colab.research.google.com/assets/colab-badge.svg\" alt=\"Open In Colab\"/></a>"
      ]
    },
    {
      "cell_type": "code",
      "metadata": {
        "id": "M_0Q7QFH3n8H"
      },
      "source": [
        "import spacy\n",
        "nlp=spacy.load(\"en\")"
      ],
      "execution_count": 2,
      "outputs": []
    },
    {
      "cell_type": "markdown",
      "metadata": {
        "id": "hS1Z4mn65B7S"
      },
      "source": [
        "<font color=\"red\"><h1>Parts of Speech Tagging</h1></font>"
      ]
    },
    {
      "cell_type": "markdown",
      "metadata": {
        "id": "hUblwykgpmDs"
      },
      "source": [
        "<font color=\"red\"><h1>the def</font>"
      ]
    },
    {
      "cell_type": "code",
      "metadata": {
        "id": "0JOHraswArAs",
        "outputId": "991dd653-a9ab-4a92-c6c2-e6453e309ff6",
        "colab": {
          "base_uri": "https://localhost:8080/",
          "height": 34
        }
      },
      "source": [
        "def check_sent(sent):\n",
        "  aux=[\"am\",\"is\",\"are\",\"was\",\"were\",\"have\",\"has\",\"had\",\"have been\",\"has been\",\"had been\"]\n",
        "  k=0\n",
        "  if sent[0].pos_==\"ADV\":\n",
        "    k=1\n",
        "  if (sent[k].tag_==\"VB\"):\n",
        "    return \"This is a command sentence\"\n",
        "  elif (sent[k].tag_==\"VBP\" and str(sent[k]).lower() not in aux):\n",
        "    if len(sent)>k+1:\n",
        "      if sent[k+1].dep_!=\"nsubj\":\n",
        "        return \"This is a command sentence\"\n",
        "      else:\n",
        "        return \"other sentence\"\n",
        "    else:\n",
        "      return \"This is a command sentence\"\n",
        "  else:\n",
        "    return \"other sentence\"\n",
        "  \n",
        "print(check_sent(nlp(\"Now take a cup of tea\")))"
      ],
      "execution_count": 4,
      "outputs": [
        {
          "output_type": "stream",
          "text": [
            "This is a command sentence\n"
          ],
          "name": "stdout"
        }
      ]
    },
    {
      "cell_type": "code",
      "metadata": {
        "id": "GqJzk4biRv16",
        "outputId": "53457a9d-e3f2-4db8-849d-4d002669a590",
        "colab": {
          "base_uri": "https://localhost:8080/",
          "height": 221
        }
      },
      "source": [
        "s=nlp(\" go for a walk\")\n",
        "\n",
        "for i in s:\n",
        "  print(i)\n",
        "  print(i.pos_,\"---\",i.tag_,\"---\",i.dep_)"
      ],
      "execution_count": 21,
      "outputs": [
        {
          "output_type": "stream",
          "text": [
            "Let\n",
            "VERB --- VB --- ROOT\n",
            "'s\n",
            "PRON --- PRP --- nsubj\n",
            "go\n",
            "VERB --- VB --- ccomp\n",
            "for\n",
            "ADP --- IN --- prep\n",
            "a\n",
            "DET --- DT --- det\n",
            "walk\n",
            "NOUN --- NN --- pobj\n"
          ],
          "name": "stdout"
        }
      ]
    },
    {
      "cell_type": "code",
      "metadata": {
        "id": "0UiQQWN_wH25"
      },
      "source": [
        ""
      ],
      "execution_count": 2,
      "outputs": []
    },
    {
      "cell_type": "code",
      "metadata": {
        "id": "aDeZVPxcRvnR"
      },
      "source": [
        ""
      ],
      "execution_count": 2,
      "outputs": []
    },
    {
      "cell_type": "markdown",
      "metadata": {
        "id": "47AV0eDvKoow"
      },
      "source": [
        "<font color=\"red\"><h1>Stopwords"
      ]
    },
    {
      "cell_type": "code",
      "metadata": {
        "id": "MZdoNZsnKno6",
        "outputId": "f797b816-be3e-4186-b98a-ff8a4d7211d3",
        "colab": {
          "base_uri": "https://localhost:8080/",
          "height": 34
        }
      },
      "source": [
        "spacy_stopwords = spacy.lang.en.stop_words.STOP_WORDS\n",
        "print(len(spacy_stopwords))"
      ],
      "execution_count": 3,
      "outputs": [
        {
          "output_type": "stream",
          "text": [
            "326\n"
          ],
          "name": "stdout"
        }
      ]
    },
    {
      "cell_type": "code",
      "metadata": {
        "id": "xc4hCJpDKzFS"
      },
      "source": [
        ""
      ],
      "execution_count": 3,
      "outputs": []
    }
  ]
}