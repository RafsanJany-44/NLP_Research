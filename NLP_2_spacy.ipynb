{
  "nbformat": 4,
  "nbformat_minor": 0,
  "metadata": {
    "colab": {
      "name": "NLP_2_spacy.ipynb",
      "provenance": [],
      "collapsed_sections": [],
      "include_colab_link": true
    },
    "kernelspec": {
      "name": "python3",
      "display_name": "Python 3"
    },
    "accelerator": "TPU"
  },
  "cells": [
    {
      "cell_type": "markdown",
      "metadata": {
        "id": "view-in-github",
        "colab_type": "text"
      },
      "source": [
        "<a href=\"https://colab.research.google.com/github/RafsanJany-44/NLP_Research/blob/master/NLP_2_spacy.ipynb\" target=\"_parent\"><img src=\"https://colab.research.google.com/assets/colab-badge.svg\" alt=\"Open In Colab\"/></a>"
      ]
    },
    {
      "cell_type": "markdown",
      "metadata": {
        "id": "hUblwykgpmDs"
      },
      "source": [
        "<font color=\"#DAF7A6\"><h1>The workable and ffinal part</font><br>\r\n",
        "<font color=\"#DAF7A6\"><h1>..................................................................................................................................................</font>"
      ]
    },
    {
      "cell_type": "code",
      "metadata": {
        "id": "Yw9jhQkvSzxH",
        "outputId": "e5f5a4ae-0b50-442c-9d45-8d5255f7fa7d",
        "colab": {
          "base_uri": "https://localhost:8080/"
        }
      },
      "source": [
        "! python -m spacy download en_core_web_sm"
      ],
      "execution_count": 1,
      "outputs": [
        {
          "output_type": "stream",
          "text": [
            "Requirement already satisfied: en_core_web_sm==2.2.5 from https://github.com/explosion/spacy-models/releases/download/en_core_web_sm-2.2.5/en_core_web_sm-2.2.5.tar.gz#egg=en_core_web_sm==2.2.5 in /usr/local/lib/python3.7/dist-packages (2.2.5)\n",
            "Requirement already satisfied: spacy>=2.2.2 in /usr/local/lib/python3.7/dist-packages (from en_core_web_sm==2.2.5) (2.2.4)\n",
            "Requirement already satisfied: wasabi<1.1.0,>=0.4.0 in /usr/local/lib/python3.7/dist-packages (from spacy>=2.2.2->en_core_web_sm==2.2.5) (0.8.2)\n",
            "Requirement already satisfied: plac<1.2.0,>=0.9.6 in /usr/local/lib/python3.7/dist-packages (from spacy>=2.2.2->en_core_web_sm==2.2.5) (1.1.3)\n",
            "Requirement already satisfied: requests<3.0.0,>=2.13.0 in /usr/local/lib/python3.7/dist-packages (from spacy>=2.2.2->en_core_web_sm==2.2.5) (2.23.0)\n",
            "Requirement already satisfied: blis<0.5.0,>=0.4.0 in /usr/local/lib/python3.7/dist-packages (from spacy>=2.2.2->en_core_web_sm==2.2.5) (0.4.1)\n",
            "Requirement already satisfied: cymem<2.1.0,>=2.0.2 in /usr/local/lib/python3.7/dist-packages (from spacy>=2.2.2->en_core_web_sm==2.2.5) (2.0.5)\n",
            "Requirement already satisfied: tqdm<5.0.0,>=4.38.0 in /usr/local/lib/python3.7/dist-packages (from spacy>=2.2.2->en_core_web_sm==2.2.5) (4.41.1)\n",
            "Requirement already satisfied: numpy>=1.15.0 in /usr/local/lib/python3.7/dist-packages (from spacy>=2.2.2->en_core_web_sm==2.2.5) (1.19.5)\n",
            "Requirement already satisfied: setuptools in /usr/local/lib/python3.7/dist-packages (from spacy>=2.2.2->en_core_web_sm==2.2.5) (54.0.0)\n",
            "Requirement already satisfied: preshed<3.1.0,>=3.0.2 in /usr/local/lib/python3.7/dist-packages (from spacy>=2.2.2->en_core_web_sm==2.2.5) (3.0.5)\n",
            "Requirement already satisfied: srsly<1.1.0,>=1.0.2 in /usr/local/lib/python3.7/dist-packages (from spacy>=2.2.2->en_core_web_sm==2.2.5) (1.0.5)\n",
            "Requirement already satisfied: catalogue<1.1.0,>=0.0.7 in /usr/local/lib/python3.7/dist-packages (from spacy>=2.2.2->en_core_web_sm==2.2.5) (1.0.0)\n",
            "Requirement already satisfied: murmurhash<1.1.0,>=0.28.0 in /usr/local/lib/python3.7/dist-packages (from spacy>=2.2.2->en_core_web_sm==2.2.5) (1.0.5)\n",
            "Requirement already satisfied: thinc==7.4.0 in /usr/local/lib/python3.7/dist-packages (from spacy>=2.2.2->en_core_web_sm==2.2.5) (7.4.0)\n",
            "Requirement already satisfied: urllib3!=1.25.0,!=1.25.1,<1.26,>=1.21.1 in /usr/local/lib/python3.7/dist-packages (from requests<3.0.0,>=2.13.0->spacy>=2.2.2->en_core_web_sm==2.2.5) (1.24.3)\n",
            "Requirement already satisfied: certifi>=2017.4.17 in /usr/local/lib/python3.7/dist-packages (from requests<3.0.0,>=2.13.0->spacy>=2.2.2->en_core_web_sm==2.2.5) (2020.12.5)\n",
            "Requirement already satisfied: chardet<4,>=3.0.2 in /usr/local/lib/python3.7/dist-packages (from requests<3.0.0,>=2.13.0->spacy>=2.2.2->en_core_web_sm==2.2.5) (3.0.4)\n",
            "Requirement already satisfied: idna<3,>=2.5 in /usr/local/lib/python3.7/dist-packages (from requests<3.0.0,>=2.13.0->spacy>=2.2.2->en_core_web_sm==2.2.5) (2.10)\n",
            "Requirement already satisfied: importlib-metadata>=0.20; python_version < \"3.8\" in /usr/local/lib/python3.7/dist-packages (from catalogue<1.1.0,>=0.0.7->spacy>=2.2.2->en_core_web_sm==2.2.5) (3.7.0)\n",
            "Requirement already satisfied: zipp>=0.5 in /usr/local/lib/python3.7/dist-packages (from importlib-metadata>=0.20; python_version < \"3.8\"->catalogue<1.1.0,>=0.0.7->spacy>=2.2.2->en_core_web_sm==2.2.5) (3.4.1)\n",
            "Requirement already satisfied: typing-extensions>=3.6.4; python_version < \"3.8\" in /usr/local/lib/python3.7/dist-packages (from importlib-metadata>=0.20; python_version < \"3.8\"->catalogue<1.1.0,>=0.0.7->spacy>=2.2.2->en_core_web_sm==2.2.5) (3.7.4.3)\n",
            "\u001b[38;5;2m✔ Download and installation successful\u001b[0m\n",
            "You can now load the model via spacy.load('en_core_web_sm')\n"
          ],
          "name": "stdout"
        }
      ]
    },
    {
      "cell_type": "code",
      "metadata": {
        "id": "0JOHraswArAs"
      },
      "source": [
        "def check_sent(sentence):\n",
        "  import spacy\n",
        "  nlp=spacy.load(\"en_core_web_sm\")\n",
        "  sent=nlp(sentence)\n",
        "  k=0\n",
        "  if sent[0].pos_==\"ADV\":\n",
        "    k=1\n",
        "  if (sent[k].tag_==\"VB\"):\n",
        "    return \"This is a command sentence\"\n",
        "  elif sent[k].tag_==\"VBP\" and sent[k].lemma_!=\"be\":\n",
        "    if len(sent)>k+1:\n",
        "      if sent[k+1].dep_!=\"nsubj\":\n",
        "        return \"This is a command sentence\"\n",
        "      else:\n",
        "        return \"other sentence\"\n",
        "    else:\n",
        "      return \"This is a command sentence\"\n",
        "  else:\n",
        "    return \"other sentence\"\n"
      ],
      "execution_count": 3,
      "outputs": []
    },
    {
      "cell_type": "markdown",
      "metadata": {
        "id": "OLTFnDmATiXK"
      },
      "source": [
        "<font color=\"#FFF633 \"><h1>TESTING</font>"
      ]
    },
    {
      "cell_type": "code",
      "metadata": {
        "id": "-27kvf_8ThmX",
        "outputId": "e906dc2e-20be-4cf4-acac-395b962230d3",
        "colab": {
          "base_uri": "https://localhost:8080/",
          "height": 35
        }
      },
      "source": [
        "check_sent(\"do it\")"
      ],
      "execution_count": 4,
      "outputs": [
        {
          "output_type": "execute_result",
          "data": {
            "application/vnd.google.colaboratory.intrinsic+json": {
              "type": "string"
            },
            "text/plain": [
              "'This is a command sentence'"
            ]
          },
          "metadata": {
            "tags": []
          },
          "execution_count": 4
        }
      ]
    },
    {
      "cell_type": "markdown",
      "metadata": {
        "id": "7oCMyMHw2mWi"
      },
      "source": [
        "<font color=\"green\"><h1>..................................................................................................................................................</font>"
      ]
    },
    {
      "cell_type": "markdown",
      "metadata": {
        "id": "_etO02-Crcfb"
      },
      "source": [
        "<font face=\"monaco\" color=\"#33FFCE\"><h1>Named Entity</h1><font color=\"#DAF7A6\">just for recognize the noun</font>"
      ]
    },
    {
      "cell_type": "code",
      "metadata": {
        "id": "Px20qXyLAvVy",
        "colab": {
          "base_uri": "https://localhost:8080/",
          "height": 85
        },
        "outputId": "8086a5ee-415a-4a8d-af16-65569ac73a49"
      },
      "source": [
        "import spacy\n",
        "\n",
        "nlp = spacy.load(\"en_core_web_sm\")\n",
        "\n",
        "doc = nlp(\"Md Ismail is very good person. He works in Apple. His school was St. Greg. He is good in python.\")\n",
        "\n",
        "for ent in doc.ents:\n",
        "    print(ent.text, ent.label_)"
      ],
      "execution_count": null,
      "outputs": [
        {
          "output_type": "stream",
          "text": [
            "Md Ismail PERSON\n",
            "Apple ORG\n",
            "St. Greg GPE\n",
            "python GPE\n"
          ],
          "name": "stdout"
        }
      ]
    },
    {
      "cell_type": "markdown",
      "metadata": {
        "id": "47AV0eDvKoow"
      },
      "source": [
        "<font color=\"#33FFCE\" face=\"monaco\"><h1>Stopwords</h1></font>\r\n",
        "<font color=\"#DAF7A6\">unnecessary words</font>\r\n"
      ]
    },
    {
      "cell_type": "code",
      "metadata": {
        "id": "MZdoNZsnKno6",
        "colab": {
          "base_uri": "https://localhost:8080/",
          "height": 34
        },
        "outputId": "20528cf8-931f-494d-c100-de7a49c0b5d8"
      },
      "source": [
        "spacy_stopwords = spacy.lang.en.stop_words.STOP_WORDS\n",
        "print(len(spacy_stopwords))"
      ],
      "execution_count": null,
      "outputs": [
        {
          "output_type": "stream",
          "text": [
            "326\n"
          ],
          "name": "stdout"
        }
      ]
    },
    {
      "cell_type": "markdown",
      "metadata": {
        "id": "3axEjOsm26E0"
      },
      "source": [
        "<font color=\"#33FFCE\" face=\"moncao\"><h1>Json writing"
      ]
    },
    {
      "cell_type": "code",
      "metadata": {
        "id": "8hbA1Y8J2_lq"
      },
      "source": [
        "import json\n",
        "\n",
        "def write(path,fileName, data):\n",
        "  filePath='./'+path+'/'+fileName+'.json'\n",
        "  with open(filePath,'w') as fp:\n",
        "    json.dump(data,fp)\n",
        "\n",
        "path='./'\n",
        "fileName=\"exam5\"\n",
        "\n",
        "data2={\n",
        "\"section\":[{\n",
        "               \"name\":\"hello\",\n",
        "               \"phone\":\"0453234234\"\n",
        "           }\n",
        "],\n",
        "\n",
        "\"section1\":[{\n",
        "     \"name\":\"hello\",\n",
        "               \"phone\":\"0453234234\"\n",
        "    \n",
        "\n",
        "}]\n",
        "\n",
        "\n",
        "\n",
        "\n",
        "}\n",
        "\n",
        "write(path,fileName,data2)"
      ],
      "execution_count": null,
      "outputs": []
    },
    {
      "cell_type": "code",
      "metadata": {
        "id": "dCaQy6gg3H42"
      },
      "source": [
        "import json\n",
        "mydata1={\n",
        "    \"section\":[\n",
        "               {\n",
        "               \"name\":\"hello\",\n",
        "               \"phone\":\"0453234234\",\n",
        "               \"id\":\"alsfj kjsf\"\n",
        "           },\n",
        "],\n",
        "\n",
        "      \"section1\":[{\n",
        "              \"name\":\"hello\",\n",
        "               \"phone\":\"0453234234\",\n",
        "               \"id\":\"skladfjlsajf\"\n",
        "  \n",
        "}]\n",
        "\n",
        "}\n",
        "\n",
        "\n",
        "j= json.dumps(mydata1)\n",
        "\n",
        "with open(\"rafanjany.json\",\"w\") as f:\n",
        "  f.write(j)\n",
        "  f.close()"
      ],
      "execution_count": null,
      "outputs": []
    },
    {
      "cell_type": "markdown",
      "metadata": {
        "id": "v07a5tDQNm7O"
      },
      "source": [
        "\r\n",
        "<font color=\"#33FFCE\" face=\"monaco\"><h1>Json Updateing"
      ]
    },
    {
      "cell_type": "code",
      "metadata": {
        "id": "jYrkPcnRNuC7",
        "colab": {
          "base_uri": "https://localhost:8080/",
          "height": 54
        },
        "outputId": "c68d09b2-e5cb-4d5f-d99f-07eccdb28b26"
      },
      "source": [
        "import json\n",
        "\n",
        "with open(\"rafanjany.json\") as js_file:\n",
        "  d=json.load(js_file)\n",
        "  print(d)\n",
        "  d[\"section\"].append({\n",
        "               \"name\":\"hello\",\n",
        "               \"phone\":\"0453234234\",\n",
        "               \"id\":\"alsfj kjsf\"\n",
        "           })\n"
      ],
      "execution_count": null,
      "outputs": [
        {
          "output_type": "stream",
          "text": [
            "{'section': [{'name': 'hello', 'phone': '0453234234', 'id': 'alsfj kjsf'}], 'section1': [{'name': 'hello', 'phone': '0453234234', 'id': 'skladfjlsajf'}]}\n"
          ],
          "name": "stdout"
        }
      ]
    },
    {
      "cell_type": "code",
      "metadata": {
        "id": "5LYeLHIvOJ46",
        "colab": {
          "base_uri": "https://localhost:8080/",
          "height": 34
        },
        "outputId": "787b9856-24b5-4736-9839-2c968e2ad676"
      },
      "source": [
        "print(d[\"section\"])"
      ],
      "execution_count": null,
      "outputs": [
        {
          "output_type": "stream",
          "text": [
            "[{'name': 'hello', 'phone': '0453234234', 'id': 'alsfj kjsf'}, {'name': 'hello', 'phone': '0453234234', 'id': 'alsfj kjsf'}]\n"
          ],
          "name": "stdout"
        }
      ]
    },
    {
      "cell_type": "code",
      "metadata": {
        "id": "J6l4Eqh2O-9U"
      },
      "source": [
        ""
      ],
      "execution_count": null,
      "outputs": []
    },
    {
      "cell_type": "markdown",
      "metadata": {
        "id": "-m9VHhLH8yYD"
      },
      "source": [
        "<font face=\"new\" color=\"#33FFCE\"><h1>The main project</h1></font>"
      ]
    },
    {
      "cell_type": "markdown",
      "metadata": {
        "id": "Vk6LME172d05"
      },
      "source": [
        "<font color=\"green\"><h1>..................................................................................................................................................</font>"
      ]
    },
    {
      "cell_type": "code",
      "metadata": {
        "id": "b1jJW7JI2gm9"
      },
      "source": [
        "import spacy\n",
        "nlp=spacy.load(\"en_core_web_sm\")\n",
        "\n",
        "def check_qsn(sent):\n",
        "  if sent[0].tag_==\"WP\" or sent[0].tag_==\"WRB\":\n",
        "    return True\n",
        "  else:\n",
        "    return False"
      ],
      "execution_count": null,
      "outputs": []
    },
    {
      "cell_type": "code",
      "metadata": {
        "id": "BvfcHfxm33Oq",
        "colab": {
          "base_uri": "https://localhost:8080/"
        },
        "outputId": "fda08b0b-a279-4b75-a8f6-5b149078e3bd"
      },
      "source": [
        "s=input()\n",
        "if check_qsn(nlp(s))==True:\n",
        "  #call a fintion\n",
        "  print(\"somthing\")\n",
        "  \n",
        "else:\n",
        "  print(\"do anything\")"
      ],
      "execution_count": null,
      "outputs": [
        {
          "output_type": "stream",
          "text": [
            "who are you\n",
            "somthing\n"
          ],
          "name": "stdout"
        }
      ]
    },
    {
      "cell_type": "code",
      "metadata": {
        "id": "U94Z65Sqfx9c"
      },
      "source": [
        "def pri(file):\n",
        "  with open(file+\".json\") as js_file:\n",
        "    g=json.load(js_file)\n",
        "  print(g)"
      ],
      "execution_count": null,
      "outputs": []
    },
    {
      "cell_type": "code",
      "metadata": {
        "id": "ojTjWy8ygLTM"
      },
      "source": [
        "def store(file,key,val):\n",
        "  with open(file+\".json\") as js_file:\n",
        "    d=json.load(js_file)\n",
        "    d[key]=val\n",
        "  \n",
        "  with open(file+\".json\",\"w\") as js_file:\n",
        "    json.dump(d,js_file)"
      ],
      "execution_count": null,
      "outputs": []
    },
    {
      "cell_type": "code",
      "metadata": {
        "id": "UR6HzpftgPoS"
      },
      "source": [
        "def srch_key(key,data):\n",
        "\n",
        "  if key in data:\n",
        "    return True\n",
        "  else:\n",
        "    return False"
      ],
      "execution_count": null,
      "outputs": []
    },
    {
      "cell_type": "code",
      "metadata": {
        "id": "CF2kRKE-gVKk"
      },
      "source": [
        "def ask(sent):\n",
        "  print(\"Can you tell me?\")\n"
      ],
      "execution_count": null,
      "outputs": []
    },
    {
      "cell_type": "markdown",
      "metadata": {
        "id": "dyS3C-7o146R"
      },
      "source": [
        "<font color=\"green\"><h1>..................................................................................................................................................</font>"
      ]
    },
    {
      "cell_type": "code",
      "metadata": {
        "id": "RsvOCiTDYVws"
      },
      "source": [
        "def fun1(sent):\n",
        "  \n"
      ],
      "execution_count": null,
      "outputs": []
    },
    {
      "cell_type": "code",
      "metadata": {
        "id": "eHuQBHoi-c0-",
        "colab": {
          "base_uri": "https://localhost:8080/",
          "height": 154
        },
        "outputId": "e8d056ea-12f7-4d3d-834a-81ec96f3a2a6"
      },
      "source": [
        "import spacy\n",
        "nlp=spacy.load(\"en_core_web_sm\")\n",
        "\n",
        "sent=nlp(\"What is your father's name\")\n",
        "print(\"Text\",\"---\",\"pos_\",\"---\",\"tag_\",\"---\",\"dep_\",\"---\",\"lemma_\")\n",
        "for i in sent:\n",
        "  print(i.text,\"---\",i.pos_,\"---\",i.tag_,\"---\",i.dep_,\"---\",i.lemma_)\n",
        "\n",
        "\n",
        "#def Check_qsn(sent):\n",
        "\n",
        "spacy.explain(\"poss\") "
      ],
      "execution_count": null,
      "outputs": [
        {
          "output_type": "stream",
          "text": [
            "Text --- pos_ --- tag_ --- dep_ --- lemma_\n",
            "What --- PRON --- WP --- attr --- what\n",
            "is --- AUX --- VBZ --- ROOT --- be\n",
            "your --- DET --- PRP$ --- poss --- -PRON-\n",
            "father --- NOUN --- NN --- poss --- father\n",
            "'s --- PART --- POS --- case --- 's\n",
            "name --- NOUN --- NN --- nsubj --- name\n"
          ],
          "name": "stdout"
        },
        {
          "output_type": "execute_result",
          "data": {
            "application/vnd.google.colaboratory.intrinsic+json": {
              "type": "string"
            },
            "text/plain": [
              "'possession modifier'"
            ]
          },
          "metadata": {
            "tags": []
          },
          "execution_count": 18
        }
      ]
    },
    {
      "cell_type": "code",
      "metadata": {
        "id": "lwuWroki8xUt",
        "colab": {
          "base_uri": "https://localhost:8080/",
          "height": 136
        },
        "outputId": "25b424b6-ede0-4492-f811-143803ff9d24"
      },
      "source": [
        "\n",
        "import spacy\n",
        "nlp=spacy.load(\"en\")\n",
        "\n",
        "sent=nlp(\"what is your father's name\")\n",
        "s=str(sent)\n",
        "print(\"Text\",\"---\",\"pos_\",\"---\",\"tag_\",\"---\",\"dep_\",\"---\",\"lemma_\")\n",
        "for i in sent:\n",
        "  print(i.text,\"---\",i.pos_,\"---\",i.tag_,\"---\",i.dep_,\"---\",i.lemma_)\n",
        "\n",
        "\n",
        "#def Check_qsn(sent):\n",
        "\n"
      ],
      "execution_count": null,
      "outputs": [
        {
          "output_type": "stream",
          "text": [
            "Text --- pos_ --- tag_ --- dep_ --- lemma_\n",
            "what --- PRON --- WP --- attr --- what\n",
            "is --- AUX --- VBZ --- ROOT --- be\n",
            "your --- DET --- PRP$ --- poss --- -PRON-\n",
            "father --- NOUN --- NN --- poss --- father\n",
            "'s --- PART --- POS --- case --- 's\n",
            "name --- NOUN --- NN --- nsubj --- name\n"
          ],
          "name": "stdout"
        }
      ]
    },
    {
      "cell_type": "code",
      "metadata": {
        "id": "wHrrM4sPhyoS",
        "colab": {
          "base_uri": "https://localhost:8080/",
          "height": 35
        },
        "outputId": "3091cbf6-0ea2-46d7-f42d-109cb518bb05"
      },
      "source": [
        "spacy.explain(\"nsubj\")"
      ],
      "execution_count": null,
      "outputs": [
        {
          "output_type": "execute_result",
          "data": {
            "application/vnd.google.colaboratory.intrinsic+json": {
              "type": "string"
            },
            "text/plain": [
              "'nominal subject'"
            ]
          },
          "metadata": {
            "tags": []
          },
          "execution_count": 16
        }
      ]
    },
    {
      "cell_type": "markdown",
      "metadata": {
        "id": "223wvUmfWgvb"
      },
      "source": [
        "<font color=\"red\">srching function"
      ]
    },
    {
      "cell_type": "code",
      "metadata": {
        "id": "UM0v5-PdkFu5"
      },
      "source": [
        ""
      ],
      "execution_count": null,
      "outputs": []
    },
    {
      "cell_type": "code",
      "metadata": {
        "id": "vpHvB1CeXLEX"
      },
      "source": [
        "import json\n",
        "\n",
        "your={}\n",
        "j= json.dumps(your)\n",
        "\n",
        "with open(\"your.json\",\"w\") as f:\n",
        "  f.write(j)\n",
        "  f.close()\n",
        "\n",
        "\n",
        "\n",
        "\n"
      ],
      "execution_count": null,
      "outputs": []
    },
    {
      "cell_type": "code",
      "metadata": {
        "id": "p9eF9vnGL4T8"
      },
      "source": [
        "h=\"your\"\n",
        "with open(h+\".json\") as js_file:\n",
        "  g=json.load(js_file)"
      ],
      "execution_count": null,
      "outputs": []
    },
    {
      "cell_type": "code",
      "metadata": {
        "id": "XuNXOTNhMB6K",
        "colab": {
          "base_uri": "https://localhost:8080/"
        },
        "outputId": "9667612b-e9e4-41ab-ae62-4828f0b725d1"
      },
      "source": [
        "srch_key(\"name\",g)"
      ],
      "execution_count": null,
      "outputs": [
        {
          "output_type": "execute_result",
          "data": {
            "text/plain": [
              "False"
            ]
          },
          "metadata": {
            "tags": []
          },
          "execution_count": 10
        }
      ]
    },
    {
      "cell_type": "code",
      "metadata": {
        "id": "8Gs4wDb1Xhi0",
        "colab": {
          "base_uri": "https://localhost:8080/"
        },
        "outputId": "79693894-8439-4a37-bb9f-99891f1a517e"
      },
      "source": [
        "\n",
        "\n",
        "g[\"name\"]=\"rafsan\"\n",
        "  \n",
        "srch_key(\"name\",g)\n"
      ],
      "execution_count": null,
      "outputs": [
        {
          "output_type": "execute_result",
          "data": {
            "text/plain": [
              "True"
            ]
          },
          "metadata": {
            "tags": []
          },
          "execution_count": 11
        }
      ]
    },
    {
      "cell_type": "code",
      "metadata": {
        "id": "G-tBgpkOZh6M"
      },
      "source": [
        "store(\"your\",\"name\",\"rafsan jany\")"
      ],
      "execution_count": null,
      "outputs": []
    },
    {
      "cell_type": "code",
      "metadata": {
        "id": "75jK9xsOZsoM",
        "colab": {
          "base_uri": "https://localhost:8080/"
        },
        "outputId": "cb0bdaa6-fcab-4303-ba3c-160bf8a6eba6"
      },
      "source": [
        "pri(\"your\")"
      ],
      "execution_count": null,
      "outputs": [
        {
          "output_type": "stream",
          "text": [
            "{}\n"
          ],
          "name": "stdout"
        }
      ]
    },
    {
      "cell_type": "code",
      "metadata": {
        "id": "8Y_c0TcGZ9Jk"
      },
      "source": [
        ""
      ],
      "execution_count": null,
      "outputs": []
    }
  ]
}