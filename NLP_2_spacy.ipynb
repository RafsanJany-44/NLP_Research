{
  "nbformat": 4,
  "nbformat_minor": 0,
  "metadata": {
    "colab": {
      "name": "NLP_2_spacy.ipynb",
      "provenance": [],
      "collapsed_sections": [],
      "authorship_tag": "ABX9TyO+Ue+6YQZhsD9CXEnlXVHk",
      "include_colab_link": true
    },
    "kernelspec": {
      "name": "python3",
      "display_name": "Python 3"
    }
  },
  "cells": [
    {
      "cell_type": "markdown",
      "metadata": {
        "id": "view-in-github",
        "colab_type": "text"
      },
      "source": [
        "<a href=\"https://colab.research.google.com/github/RafsanJany-44/NLP_Research/blob/master/NLP_2_spacy.ipynb\" target=\"_parent\"><img src=\"https://colab.research.google.com/assets/colab-badge.svg\" alt=\"Open In Colab\"/></a>"
      ]
    },
    {
      "cell_type": "code",
      "metadata": {
        "id": "M_0Q7QFH3n8H"
      },
      "source": [
        "import spacy\n",
        "nlp=spacy.load(\"en\")"
      ],
      "execution_count": 1,
      "outputs": []
    },
    {
      "cell_type": "markdown",
      "metadata": {
        "id": "hS1Z4mn65B7S"
      },
      "source": [
        "<font color=\"red\"><h1>Parts of Speech Tagging</h1></font>"
      ]
    },
    {
      "cell_type": "code",
      "metadata": {
        "id": "ynZeJX9-5Bbk"
      },
      "source": [
        "exm1=nlp(\"Let him speak\")\n",
        "exm2=nlp(\"Do it\")\n",
        "exm3=nlp(\"Take It\")\n",
        "exm4=nlp(\"Bting the jar\")\n",
        "exm5=nlp(\"Do you have a computer\")\n",
        "exam6=nlp(\"Have you gotten it\")\n",
        "exam7=nlp(\"Do your home work\")\n",
        "exam8=nlp(\"You be quiet\")\n"
      ],
      "execution_count": null,
      "outputs": []
    },
    {
      "cell_type": "code",
      "metadata": {
        "id": "8lEeiKtG4n7R",
        "outputId": "b12aa952-26f8-44a2-cd5b-0b3d8dc387ce",
        "colab": {
          "base_uri": "https://localhost:8080/",
          "height": 85
        }
      },
      "source": [
        "for w in exam8:\n",
        "  print(w.text,w.pos_,w.tag_,w.dep_)\n",
        "print(exm1[1])"
      ],
      "execution_count": null,
      "outputs": [
        {
          "output_type": "stream",
          "text": [
            "You PRON PRP nsubj\n",
            "be AUX VB ROOT\n",
            "quiet ADJ JJ acomp\n",
            "him\n"
          ],
          "name": "stdout"
        }
      ]
    },
    {
      "cell_type": "markdown",
      "metadata": {
        "id": "hUblwykgpmDs"
      },
      "source": [
        "<font color=\"red\"><h1>the def</font>"
      ]
    },
    {
      "cell_type": "code",
      "metadata": {
        "id": "TwDtQ0LO9zN2"
      },
      "source": [
        "def check_sen(sent):\n",
        "  aux=[\"am\",\"is\",\"are\",\"was\",\"were\",\"have\",\"has\",\"had\",\"have been\",\"has been\",\"had beeb\"]\n",
        "  if sent[0].pos_==\"VERB\":\n",
        "    return \"Command sentecne\"\n",
        "  elif sent[0].pos_==\"AUX\" and str(sent[0]) not in aux and str(sent[-1])!=\"?\" and sent[1].pos_!=\"PRON\":\n",
        "    return \"Command sentecne\"\n",
        "  else:\n",
        "    return \"Conversion sentence\""
      ],
      "execution_count": null,
      "outputs": []
    },
    {
      "cell_type": "code",
      "metadata": {
        "id": "2zlFF1KX-WR-",
        "outputId": "8473f348-72c0-445f-a2f5-d0dea9ec061e",
        "colab": {
          "base_uri": "https://localhost:8080/",
          "height": 136
        }
      },
      "source": [
        "print(\"1 \",check_sen(nlp(\"I am a Boy\")))\n",
        "print(\"2 \",check_sen(nlp(\"Do you have a coputer?\")))\n",
        "print(\"3 \",check_sen(nlp(\"Did you\")))\n",
        "print(\"4 \",check_sen(nlp(\"Come Hare\")))\n",
        "print(\"5 \",check_sen(nlp(\"check it\")))\n",
        "print(\"6 \",check_sen(nlp(\"He is a goof girl\")))\n",
        "print(\"7 \",check_sen(nlp(\"Students are goods\")))"
      ],
      "execution_count": null,
      "outputs": [
        {
          "output_type": "stream",
          "text": [
            "1  Conversion sentence\n",
            "2  Conversion sentence\n",
            "3  Conversion sentence\n",
            "4  Command sentecne\n",
            "5  Command sentecne\n",
            "6  Conversion sentence\n",
            "7  Conversion sentence\n"
          ],
          "name": "stdout"
        }
      ]
    },
    {
      "cell_type": "code",
      "metadata": {
        "id": "Fcck2xy4_AlJ"
      },
      "source": [
        "take=\"0\"\n",
        "while take!=\"-1\":\n",
        "  take=input()\n",
        "  print(check_sen(nlp(take)))\n"
      ],
      "execution_count": null,
      "outputs": []
    },
    {
      "cell_type": "code",
      "metadata": {
        "id": "_JiBFtfiAuVc"
      },
      "source": [
        ""
      ],
      "execution_count": 10,
      "outputs": []
    },
    {
      "cell_type": "code",
      "metadata": {
        "id": "szy5vTLUkPRS",
        "outputId": "517e3179-f392-49c8-b7f3-efa1063bf595",
        "colab": {
          "base_uri": "https://localhost:8080/",
          "height": 102
        }
      },
      "source": [
        "\n",
        "\n",
        "s1=nlp(\"Firstly turn off the electricity\")\n",
        "s2=nlp(\"Secondly remove the light bulb\")\n",
        "s3=nlp(\"Then screw in the new light bulb\")\n",
        "s4=nlp(\"Take the television out of the box\")\n",
        "s5=nlp(\"Check that the light is on\")\n",
        "s6=nlp(\"Don’t run in the hallways\")\n",
        "s7=nlp(\"Do not leave your dirty dishes in the sink\")\n",
        "s8=nlp(\"Do take care of yourself\")\n",
        "s9=nlp(\"Don’t talk to me like that\")\n",
        "s10=nlp(\"Clean the desk\")\n",
        "s11=nlp(\"Let the water boil for fifteen minutes\")\n",
        "s12=nlp(\"Open your books\")\n",
        "s13=nlp(\"Do not shout\")\n",
        "s14=nlp(\"walk carefully\")\n",
        "s15=nlp(\"Teach well\")\n",
        "s16=nlp(\"Switch off the lights\")\n",
        "s17=nlp(\"Talk to him\")\n",
        "s18=nlp(\"Walk with me\")\n",
        "s19=nlp(\"Stop talking\")\n",
        "s20=nlp(\"Don’t get late for the school\")\n",
        "s21=nlp(\"Shut down the laptop\")\n",
        "s22=nlp(\"Let's stop now\")\n",
        "s23=nlp(\"Let's not tell her about it\")\n",
        "s24=nlp(\"take a seat\")\n",
        "\n",
        "\n",
        "s25=nlp(\"Do it\")\n",
        "s26=nlp(\"Please do it\")\n",
        "s28=nlp(\"Do you have it\")\n",
        "s29=nlp(\"Does Jack do this\")\n",
        "s30=nlp(\"Are you reading that book\")\n",
        "s31=nlp(\"Have you done that\")\n",
        "s32=nlp(\"Do you read the book\")\n",
        "s33=nlp(\"Do not read the book\")\n",
        "\n",
        "\n",
        "r=nlp(\"Do it\")\n",
        "r1=nlp(\"Do you read the book\")\n",
        "r3=nlp(\"Do not read the book\")\n",
        "r4=nlp(\"Don’t get late for the school\")\n",
        "r5=nlp(\"Do take care of yourself\")\n",
        "\n",
        "s=s31\n",
        "print(s)\n",
        "for w in s:\n",
        "  print(w.text,\"---\",w.pos_,\"---\",w.tag_,\"---\",w.dep_)\n",
        "\n",
        "\n"
      ],
      "execution_count": 61,
      "outputs": [
        {
          "output_type": "stream",
          "text": [
            "Have you done that\n",
            "Have --- AUX --- VBP --- aux\n",
            "you --- PRON --- PRP --- nsubj\n",
            "done --- VERB --- VBN --- ROOT\n",
            "that --- DET --- DT --- dobj\n"
          ],
          "name": "stdout"
        }
      ]
    },
    {
      "cell_type": "code",
      "metadata": {
        "id": "0JOHraswArAs"
      },
      "source": [
        "def check_sent(sent):\n",
        "  aux=[\"Am\",\"Is\",\"Are\",\"Was\",\"Were\",\"Have\",\"Has\",\"Had\",\"Have been\",\"Has been\",\"Had been\"]\n",
        "\n",
        "  if (sent[0].dep_==\"ROOT\") or str(sent[0]) not in aux:\n",
        "    return \"This is a command sentence\"\n",
        "  else:\n",
        "    return \"other sentence\"\n",
        "  "
      ],
      "execution_count": 67,
      "outputs": []
    },
    {
      "cell_type": "code",
      "metadata": {
        "id": "GqJzk4biRv16",
        "outputId": "710417f3-20be-455f-fdab-6ec16180c15c",
        "colab": {
          "base_uri": "https://localhost:8080/",
          "height": 51
        }
      },
      "source": [
        "print(check_sent(s18))\n",
        "print(s18)"
      ],
      "execution_count": 66,
      "outputs": [
        {
          "output_type": "stream",
          "text": [
            "This is a command sentence\n",
            "Walk with me\n"
          ],
          "name": "stdout"
        }
      ]
    },
    {
      "cell_type": "code",
      "metadata": {
        "id": "aDeZVPxcRvnR"
      },
      "source": [
        ""
      ],
      "execution_count": null,
      "outputs": []
    },
    {
      "cell_type": "markdown",
      "metadata": {
        "id": "47AV0eDvKoow"
      },
      "source": [
        "<font color=\"red\"><h1>Stopwords"
      ]
    },
    {
      "cell_type": "code",
      "metadata": {
        "id": "MZdoNZsnKno6",
        "outputId": "7717a629-bf13-4f8e-90fc-21c85650bff3",
        "colab": {
          "base_uri": "https://localhost:8080/",
          "height": 34
        }
      },
      "source": [
        "spacy_stopwords = spacy.lang.en.stop_words.STOP_WORDS\n",
        "print(len(spacy_stopwords))"
      ],
      "execution_count": 18,
      "outputs": [
        {
          "output_type": "stream",
          "text": [
            "326\n"
          ],
          "name": "stdout"
        }
      ]
    },
    {
      "cell_type": "code",
      "metadata": {
        "id": "xc4hCJpDKzFS"
      },
      "source": [
        ""
      ],
      "execution_count": null,
      "outputs": []
    }
  ]
}