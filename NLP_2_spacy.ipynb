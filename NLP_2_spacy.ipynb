{
  "nbformat": 4,
  "nbformat_minor": 0,
  "metadata": {
    "colab": {
      "name": "NLP_2_spacy.ipynb",
      "provenance": [],
      "collapsed_sections": [],
      "authorship_tag": "ABX9TyMvJEOGEOakhZzShVC1Xmzo",
      "include_colab_link": true
    },
    "kernelspec": {
      "name": "python3",
      "display_name": "Python 3"
    },
    "accelerator": "TPU"
  },
  "cells": [
    {
      "cell_type": "markdown",
      "metadata": {
        "id": "view-in-github",
        "colab_type": "text"
      },
      "source": [
        "<a href=\"https://colab.research.google.com/github/RafsanJany-44/NLP_Research/blob/master/NLP_2_spacy.ipynb\" target=\"_parent\"><img src=\"https://colab.research.google.com/assets/colab-badge.svg\" alt=\"Open In Colab\"/></a>"
      ]
    },
    {
      "cell_type": "code",
      "metadata": {
        "id": "M_0Q7QFH3n8H"
      },
      "source": [
        "import spacy\n",
        "nlp=spacy.load(\"en\")"
      ],
      "execution_count": null,
      "outputs": []
    },
    {
      "cell_type": "markdown",
      "metadata": {
        "id": "hS1Z4mn65B7S"
      },
      "source": [
        "<font color=\"red\"><h1>Parts of Speech Tagging</h1></font>"
      ]
    },
    {
      "cell_type": "markdown",
      "metadata": {
        "id": "hUblwykgpmDs"
      },
      "source": [
        "<font color=\"red\"><h1>the def</font>"
      ]
    },
    {
      "cell_type": "code",
      "metadata": {
        "id": "0JOHraswArAs",
        "outputId": "2197cb4f-1611-433b-d406-78e7f2e62449",
        "colab": {
          "base_uri": "https://localhost:8080/",
          "height": 34
        }
      },
      "source": [
        "def check_sent(sent):\n",
        "  aux=[\"am\",\"is\",\"are\",\"was\",\"were\",\"have\",\"has\",\"had\",\"have been\",\"has been\",\"had been\"]\n",
        "  k=0\n",
        "  if sent[0].pos_==\"ADV\":\n",
        "    k=1\n",
        "  if (sent[k].tag_==\"VB\"):\n",
        "    return \"This is a command sentence\"\n",
        "  elif (sent[k].tag_==\"VBP\" and str(sent[k]).lower() not in aux):\n",
        "    if len(sent)>k+1:\n",
        "      if sent[k+1].dep_!=\"nsubj\":\n",
        "        return \"This is a command sentence\"\n",
        "      else:\n",
        "        return \"other sentence\"\n",
        "    else:\n",
        "      return \"This is a command sentence\"\n",
        "  else:\n",
        "    return \"other sentence\"\n",
        "  \n",
        "print(check_sent(s))"
      ],
      "execution_count": null,
      "outputs": [
        {
          "output_type": "stream",
          "text": [
            "other sentence\n"
          ],
          "name": "stdout"
        }
      ]
    },
    {
      "cell_type": "markdown",
      "metadata": {
        "id": "47AV0eDvKoow"
      },
      "source": [
        "<font color=\"red\"><h1>Stopwords"
      ]
    },
    {
      "cell_type": "code",
      "metadata": {
        "id": "MZdoNZsnKno6",
        "outputId": "f797b816-be3e-4186-b98a-ff8a4d7211d3",
        "colab": {
          "base_uri": "https://localhost:8080/",
          "height": 34
        }
      },
      "source": [
        "spacy_stopwords = spacy.lang.en.stop_words.STOP_WORDS\n",
        "print(len(spacy_stopwords))"
      ],
      "execution_count": null,
      "outputs": [
        {
          "output_type": "stream",
          "text": [
            "326\n"
          ],
          "name": "stdout"
        }
      ]
    },
    {
      "cell_type": "markdown",
      "metadata": {
        "id": "3axEjOsm26E0"
      },
      "source": [
        "<font color=\"red\"><h1>Json writing"
      ]
    },
    {
      "cell_type": "code",
      "metadata": {
        "id": "8hbA1Y8J2_lq"
      },
      "source": [
        "import json\n",
        "\n",
        "def write(path,fileName, data):\n",
        "  filePath='./'+path+'/'+fileName+'.json'\n",
        "  with open(filePath,'w') as fp:\n",
        "    json.dump(data,fp)\n",
        "\n",
        "path='./'\n",
        "fileName=\"exam5\"\n",
        "\n",
        "data2={\n",
        "\"section\":[{\n",
        "               \"name\":\"hello\",\n",
        "               \"phone\":\"0453234234\"\n",
        "           }\n",
        "],\n",
        "\n",
        "\"section1\":[{\n",
        "     \"name\":\"hello\",\n",
        "               \"phone\":\"0453234234\"\n",
        "    \n",
        "\n",
        "}]\n",
        "\n",
        "\n",
        "\n",
        "\n",
        "}\n",
        "\n",
        "write(path,fileName,data2)"
      ],
      "execution_count": null,
      "outputs": []
    },
    {
      "cell_type": "code",
      "metadata": {
        "id": "dCaQy6gg3H42"
      },
      "source": [
        "import json\n",
        "mydata1={\n",
        "    \"section\":[\n",
        "               {\n",
        "               \"name\":\"hello\",\n",
        "               \"phone\":\"0453234234\",\n",
        "               \"id\":\"alsfj kjsf\"\n",
        "           },\n",
        "],\n",
        "\n",
        "      \"section1\":[{\n",
        "              \"name\":\"hello\",\n",
        "               \"phone\":\"0453234234\",\n",
        "               \"id\":\"skladfjlsajf\"\n",
        "  \n",
        "}]\n",
        "\n",
        "}\n",
        "\n",
        "\n",
        "j= json.dumps(mydata1)\n",
        "\n",
        "with open(\"rafanjany.json\",\"w\") as f:\n",
        "  f.write(j)\n",
        "  f.close()"
      ],
      "execution_count": 2,
      "outputs": []
    },
    {
      "cell_type": "markdown",
      "metadata": {
        "id": "v07a5tDQNm7O"
      },
      "source": [
        "<font color=\"red\"><h1>Json Updateing"
      ]
    },
    {
      "cell_type": "code",
      "metadata": {
        "id": "jYrkPcnRNuC7",
        "outputId": "7ce60861-4564-4ad1-880b-720026b4bba9",
        "colab": {
          "base_uri": "https://localhost:8080/",
          "height": 54
        }
      },
      "source": [
        "import json\n",
        "\n",
        "with open(\"rafanjany.json\") as js_file:\n",
        "  d=json.load(js_file)\n",
        "  print(d)\n",
        "  d[\"section\"].append({\n",
        "               \"name\":\"hello\",\n",
        "               \"phone\":\"0453234234\",\n",
        "               \"id\":\"alsfj kjsf\"\n",
        "           })\n"
      ],
      "execution_count": 12,
      "outputs": [
        {
          "output_type": "stream",
          "text": [
            "{'section': [{'name': 'hello', 'phone': '0453234234', 'id': 'alsfj kjsf'}], 'section1': [{'name': 'hello', 'phone': '0453234234', 'id': 'skladfjlsajf'}]}\n"
          ],
          "name": "stdout"
        }
      ]
    },
    {
      "cell_type": "code",
      "metadata": {
        "id": "5LYeLHIvOJ46",
        "outputId": "23c8970f-ce41-481b-a4aa-eaf9eb8d7331",
        "colab": {
          "base_uri": "https://localhost:8080/",
          "height": 54
        }
      },
      "source": [
        "print(d[\"section\"])"
      ],
      "execution_count": 13,
      "outputs": [
        {
          "output_type": "stream",
          "text": [
            "[{'name': 'hello', 'phone': '0453234234', 'id': 'alsfj kjsf'}, {'name': 'hello', 'phone': '0453234234', 'id': 'alsfj kjsf'}]\n"
          ],
          "name": "stdout"
        }
      ]
    },
    {
      "cell_type": "code",
      "metadata": {
        "id": "J6l4Eqh2O-9U"
      },
      "source": [
        ""
      ],
      "execution_count": null,
      "outputs": []
    }
  ]
}