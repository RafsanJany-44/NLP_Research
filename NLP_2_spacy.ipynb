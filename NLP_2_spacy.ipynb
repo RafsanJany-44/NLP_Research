{
  "nbformat": 4,
  "nbformat_minor": 0,
  "metadata": {
    "colab": {
      "name": "NLP_2_spacy.ipynb",
      "provenance": [],
      "collapsed_sections": [],
      "include_colab_link": true
    },
    "kernelspec": {
      "name": "python3",
      "display_name": "Python 3"
    },
    "accelerator": "TPU"
  },
  "cells": [
    {
      "cell_type": "markdown",
      "metadata": {
        "id": "view-in-github",
        "colab_type": "text"
      },
      "source": [
        "<a href=\"https://colab.research.google.com/github/RafsanJany-44/NLP_Research/blob/master/NLP_2_spacy.ipynb\" target=\"_parent\"><img src=\"https://colab.research.google.com/assets/colab-badge.svg\" alt=\"Open In Colab\"/></a>"
      ]
    },
    {
      "cell_type": "markdown",
      "metadata": {
        "id": "hUblwykgpmDs"
      },
      "source": [
        "<font color=\"#DAF7A6\"><h1>The workable and ffinal part</font><br>\r\n",
        "<font color=\"#DAF7A6\"><h1>..................................................................................................................................................</font>"
      ]
    },
    {
      "cell_type": "code",
      "metadata": {
        "colab": {
          "base_uri": "https://localhost:8080/"
        },
        "id": "Yw9jhQkvSzxH",
        "outputId": "5b8e9f5c-af92-45e5-ce87-a2bd5dc8d118"
      },
      "source": [
        "! python -m spacy download en_core_web_sm"
      ],
      "execution_count": 2,
      "outputs": [
        {
          "output_type": "stream",
          "text": [
            "Requirement already satisfied: en_core_web_sm==2.2.5 from https://github.com/explosion/spacy-models/releases/download/en_core_web_sm-2.2.5/en_core_web_sm-2.2.5.tar.gz#egg=en_core_web_sm==2.2.5 in /usr/local/lib/python3.7/dist-packages (2.2.5)\n",
            "Requirement already satisfied: spacy>=2.2.2 in /usr/local/lib/python3.7/dist-packages (from en_core_web_sm==2.2.5) (2.2.4)\n",
            "Requirement already satisfied: thinc==7.4.0 in /usr/local/lib/python3.7/dist-packages (from spacy>=2.2.2->en_core_web_sm==2.2.5) (7.4.0)\n",
            "Requirement already satisfied: srsly<1.1.0,>=1.0.2 in /usr/local/lib/python3.7/dist-packages (from spacy>=2.2.2->en_core_web_sm==2.2.5) (1.0.5)\n",
            "Requirement already satisfied: cymem<2.1.0,>=2.0.2 in /usr/local/lib/python3.7/dist-packages (from spacy>=2.2.2->en_core_web_sm==2.2.5) (2.0.5)\n",
            "Requirement already satisfied: preshed<3.1.0,>=3.0.2 in /usr/local/lib/python3.7/dist-packages (from spacy>=2.2.2->en_core_web_sm==2.2.5) (3.0.5)\n",
            "Requirement already satisfied: requests<3.0.0,>=2.13.0 in /usr/local/lib/python3.7/dist-packages (from spacy>=2.2.2->en_core_web_sm==2.2.5) (2.23.0)\n",
            "Requirement already satisfied: tqdm<5.0.0,>=4.38.0 in /usr/local/lib/python3.7/dist-packages (from spacy>=2.2.2->en_core_web_sm==2.2.5) (4.41.1)\n",
            "Requirement already satisfied: catalogue<1.1.0,>=0.0.7 in /usr/local/lib/python3.7/dist-packages (from spacy>=2.2.2->en_core_web_sm==2.2.5) (1.0.0)\n",
            "Requirement already satisfied: wasabi<1.1.0,>=0.4.0 in /usr/local/lib/python3.7/dist-packages (from spacy>=2.2.2->en_core_web_sm==2.2.5) (0.8.2)\n",
            "Requirement already satisfied: blis<0.5.0,>=0.4.0 in /usr/local/lib/python3.7/dist-packages (from spacy>=2.2.2->en_core_web_sm==2.2.5) (0.4.1)\n",
            "Requirement already satisfied: murmurhash<1.1.0,>=0.28.0 in /usr/local/lib/python3.7/dist-packages (from spacy>=2.2.2->en_core_web_sm==2.2.5) (1.0.5)\n",
            "Requirement already satisfied: plac<1.2.0,>=0.9.6 in /usr/local/lib/python3.7/dist-packages (from spacy>=2.2.2->en_core_web_sm==2.2.5) (1.1.3)\n",
            "Requirement already satisfied: numpy>=1.15.0 in /usr/local/lib/python3.7/dist-packages (from spacy>=2.2.2->en_core_web_sm==2.2.5) (1.19.5)\n",
            "Requirement already satisfied: setuptools in /usr/local/lib/python3.7/dist-packages (from spacy>=2.2.2->en_core_web_sm==2.2.5) (54.0.0)\n",
            "Requirement already satisfied: idna<3,>=2.5 in /usr/local/lib/python3.7/dist-packages (from requests<3.0.0,>=2.13.0->spacy>=2.2.2->en_core_web_sm==2.2.5) (2.10)\n",
            "Requirement already satisfied: certifi>=2017.4.17 in /usr/local/lib/python3.7/dist-packages (from requests<3.0.0,>=2.13.0->spacy>=2.2.2->en_core_web_sm==2.2.5) (2020.12.5)\n",
            "Requirement already satisfied: urllib3!=1.25.0,!=1.25.1,<1.26,>=1.21.1 in /usr/local/lib/python3.7/dist-packages (from requests<3.0.0,>=2.13.0->spacy>=2.2.2->en_core_web_sm==2.2.5) (1.24.3)\n",
            "Requirement already satisfied: chardet<4,>=3.0.2 in /usr/local/lib/python3.7/dist-packages (from requests<3.0.0,>=2.13.0->spacy>=2.2.2->en_core_web_sm==2.2.5) (3.0.4)\n",
            "Requirement already satisfied: importlib-metadata>=0.20; python_version < \"3.8\" in /usr/local/lib/python3.7/dist-packages (from catalogue<1.1.0,>=0.0.7->spacy>=2.2.2->en_core_web_sm==2.2.5) (3.7.2)\n",
            "Requirement already satisfied: typing-extensions>=3.6.4; python_version < \"3.8\" in /usr/local/lib/python3.7/dist-packages (from importlib-metadata>=0.20; python_version < \"3.8\"->catalogue<1.1.0,>=0.0.7->spacy>=2.2.2->en_core_web_sm==2.2.5) (3.7.4.3)\n",
            "Requirement already satisfied: zipp>=0.5 in /usr/local/lib/python3.7/dist-packages (from importlib-metadata>=0.20; python_version < \"3.8\"->catalogue<1.1.0,>=0.0.7->spacy>=2.2.2->en_core_web_sm==2.2.5) (3.4.1)\n",
            "\u001b[38;5;2m✔ Download and installation successful\u001b[0m\n",
            "You can now load the model via spacy.load('en_core_web_sm')\n"
          ],
          "name": "stdout"
        }
      ]
    },
    {
      "cell_type": "code",
      "metadata": {
        "id": "0JOHraswArAs"
      },
      "source": [
        "def check_sent(sentence):\n",
        "  import spacy\n",
        "  nlp=spacy.load(\"en_core_web_sm\")\n",
        "  sent=nlp(sentence)\n",
        "  k=0\n",
        "  if sent[0].pos_==\"ADV\":\n",
        "    k=1\n",
        "  if (sent[k].tag_==\"VB\"):\n",
        "    return \"This is a command sentence\"\n",
        "  elif sent[k].tag_==\"VBP\" and sent[k].lemma_!=\"be\":\n",
        "    if len(sent)>k+1:\n",
        "      if sent[k+1].dep_!=\"nsubj\":\n",
        "        return \"This is a command sentence\"\n",
        "      else:\n",
        "        return \"other sentence\"\n",
        "    else:\n",
        "      return \"This is a command sentence\"\n",
        "  else:\n",
        "    return \"other sentence\"\n",
        "\n",
        "\n",
        "def check_qsn(sent):\n",
        "  import spacy\n",
        "  nlp=spacy.load(\"en_core_web_sm\")\n",
        "  sent=nlp(sent)\n",
        "  if sent[0].tag_==\"WP\" or sent[0].tag_==\"WRB\":\n",
        "    return True\n",
        "  else:\n",
        "    return False\n",
        "\n",
        "\n",
        "\n",
        "def tagCheck(sentence):\n",
        "  import spacy as sp\n",
        "  nlp=sp.load(\"en_core_web_sm\")\n",
        "  sentence=nlp(sentence)\n",
        "  dic={}\n",
        "  for i in sentence:\n",
        "    d={}\n",
        "    d={\n",
        "        \"Text\":i.text,\n",
        "        \"Base form of the word\":[i.lemma_,sp.explain(i.lemma_)],\n",
        "        \"Primary parts of speece\":[i.pos_,sp.explain(i.pos_)],\n",
        "        \"Deep parts of speece\":[i.tag_,sp.explain(i.tag_)],\n",
        "        \"Dependency(relation relation between tokens)\":[i.dep_,sp.explain(i.dep_)],\n",
        "        \"Shape\":[i.shape_,sp.explain(i.shape_)],\n",
        "        \"Alpha\":[i.is_alpha,sp.explain(i.is_alpha)],\n",
        "        \"Stop\":[i.is_stop,sp.explain(i.is_stop)]\n",
        "    }\n",
        "    dic[i]=d\n",
        "  print(dic)"
      ],
      "execution_count": 3,
      "outputs": []
    },
    {
      "cell_type": "code",
      "metadata": {
        "id": "OGHNP7uBtSsj"
      },
      "source": [
        ""
      ],
      "execution_count": 4,
      "outputs": []
    },
    {
      "cell_type": "markdown",
      "metadata": {
        "id": "OLTFnDmATiXK"
      },
      "source": [
        "<font color=\"#FFF633 \"><h1>TESTING</font>"
      ]
    },
    {
      "cell_type": "code",
      "metadata": {
        "colab": {
          "base_uri": "https://localhost:8080/",
          "height": 35
        },
        "id": "-27kvf_8ThmX",
        "outputId": "cf40fc6f-4bc9-406c-8cc7-7710d191d706"
      },
      "source": [
        "check_sent(\"do it\")"
      ],
      "execution_count": 5,
      "outputs": [
        {
          "output_type": "execute_result",
          "data": {
            "application/vnd.google.colaboratory.intrinsic+json": {
              "type": "string"
            },
            "text/plain": [
              "'This is a command sentence'"
            ]
          },
          "metadata": {
            "tags": []
          },
          "execution_count": 5
        }
      ]
    },
    {
      "cell_type": "code",
      "metadata": {
        "id": "DHhn6snDtYCV",
        "colab": {
          "base_uri": "https://localhost:8080/"
        },
        "outputId": "82eaaea3-1175-4ff3-a699-07303c4c99b1"
      },
      "source": [
        "tagCheck(\"i am rafsan\")"
      ],
      "execution_count": 6,
      "outputs": [
        {
          "output_type": "stream",
          "text": [
            "{i: {'Text': 'i', 'Base form of the word': ['i', None], 'Primary parts of speece': ['PRON', 'pronoun'], 'Deep parts of speece': ['PRP', 'pronoun, personal'], 'Dependency(relation relation between tokens)': ['nsubj', 'nominal subject'], 'Shape': ['x', None], 'Alpha': [True, None], 'Stop': [True, None]}, am: {'Text': 'am', 'Base form of the word': ['be', None], 'Primary parts of speece': ['AUX', 'auxiliary'], 'Deep parts of speece': ['VBP', 'verb, non-3rd person singular present'], 'Dependency(relation relation between tokens)': ['ROOT', None], 'Shape': ['xx', None], 'Alpha': [True, None], 'Stop': [True, None]}, rafsan: {'Text': 'rafsan', 'Base form of the word': ['rafsan', None], 'Primary parts of speece': ['PROPN', 'proper noun'], 'Deep parts of speece': ['NNP', 'noun, proper singular'], 'Dependency(relation relation between tokens)': ['acomp', 'adjectival complement'], 'Shape': ['xxxx', None], 'Alpha': [True, None], 'Stop': [False, None]}}\n"
          ],
          "name": "stdout"
        }
      ]
    },
    {
      "cell_type": "markdown",
      "metadata": {
        "id": "7oCMyMHw2mWi"
      },
      "source": [
        "<font color=\"green\"><h1>..................................................................................................................................................</font>"
      ]
    },
    {
      "cell_type": "markdown",
      "metadata": {
        "id": "_etO02-Crcfb"
      },
      "source": [
        "<font face=\"monaco\" color=\"#33FFCE\"><h1>Named Entity</h1><font color=\"#DAF7A6\">just for recognize the noun</font>"
      ]
    },
    {
      "cell_type": "code",
      "metadata": {
        "id": "Px20qXyLAvVy",
        "colab": {
          "base_uri": "https://localhost:8080/"
        },
        "outputId": "a129da48-9a28-4c43-d637-7b2155b9628e"
      },
      "source": [
        "import spacy\n",
        "\n",
        "nlp = spacy.load(\"en_core_web_sm\")\n",
        "\n",
        "doc = nlp(\"Md Ismail is very good person. He works in Apple. His school was St. Greg. He is good in python.\")\n",
        "\n",
        "for ent in doc.ents:\n",
        "    print(ent.text, ent.label_)"
      ],
      "execution_count": 7,
      "outputs": [
        {
          "output_type": "stream",
          "text": [
            "Md Ismail PERSON\n",
            "Apple ORG\n",
            "St. Greg GPE\n",
            "python GPE\n"
          ],
          "name": "stdout"
        }
      ]
    },
    {
      "cell_type": "markdown",
      "metadata": {
        "id": "47AV0eDvKoow"
      },
      "source": [
        "<font color=\"#33FFCE\" face=\"monaco\"><h1>Stopwords</h1></font>\r\n",
        "<font color=\"#DAF7A6\">unnecessary words</font>\r\n"
      ]
    },
    {
      "cell_type": "code",
      "metadata": {
        "id": "MZdoNZsnKno6",
        "colab": {
          "base_uri": "https://localhost:8080/"
        },
        "outputId": "feb70980-ec75-42fd-df8f-6b3ff0029059"
      },
      "source": [
        "spacy_stopwords = spacy.lang.en.stop_words.STOP_WORDS\n",
        "print(len(spacy_stopwords))"
      ],
      "execution_count": 8,
      "outputs": [
        {
          "output_type": "stream",
          "text": [
            "326\n"
          ],
          "name": "stdout"
        }
      ]
    },
    {
      "cell_type": "markdown",
      "metadata": {
        "id": "3axEjOsm26E0"
      },
      "source": [
        "<font color=\"#33FFCE\" face=\"moncao\"><h1>Json writing"
      ]
    },
    {
      "cell_type": "code",
      "metadata": {
        "id": "8hbA1Y8J2_lq"
      },
      "source": [
        "import json\n",
        "\n",
        "def write(path,fileName, data):\n",
        "  filePath='./'+path+'/'+fileName+'.json'\n",
        "  with open(filePath,'w') as fp:\n",
        "    json.dump(data,fp)\n",
        "\n",
        "path='./'\n",
        "fileName=\"exam5\"\n",
        "\n",
        "data2={\n",
        "\"section\":[{\n",
        "               \"name\":\"hello\",\n",
        "               \"phone\":\"0453234234\"\n",
        "           }\n",
        "],\n",
        "\n",
        "\"section1\":[{\n",
        "     \"name\":\"hello\",\n",
        "               \"phone\":\"0453234234\"\n",
        "    \n",
        "\n",
        "}]\n",
        "\n",
        "\n",
        "\n",
        "\n",
        "}\n",
        "\n",
        "write(path,fileName,data2)"
      ],
      "execution_count": 9,
      "outputs": []
    },
    {
      "cell_type": "code",
      "metadata": {
        "id": "dCaQy6gg3H42"
      },
      "source": [
        "import json\n",
        "mydata1={\n",
        "    \"section\":[\n",
        "               {\n",
        "               \"name\":\"hello\",\n",
        "               \"phone\":\"0453234234\",\n",
        "               \"id\":\"alsfj kjsf\"\n",
        "           },\n",
        "],\n",
        "\n",
        "      \"section1\":[{\n",
        "              \"name\":\"hello\",\n",
        "               \"phone\":\"0453234234\",\n",
        "               \"id\":\"skladfjlsajf\"\n",
        "  \n",
        "}]\n",
        "\n",
        "}\n",
        "\n",
        "\n",
        "j= json.dumps(mydata1)\n",
        "\n",
        "with open(\"rafanjany.json\",\"w\") as f:\n",
        "  f.write(j)\n",
        "  f.close()"
      ],
      "execution_count": 10,
      "outputs": []
    },
    {
      "cell_type": "markdown",
      "metadata": {
        "id": "v07a5tDQNm7O"
      },
      "source": [
        "\r\n",
        "<font color=\"#33FFCE\" face=\"monaco\"><h1>Json Updateing"
      ]
    },
    {
      "cell_type": "code",
      "metadata": {
        "id": "jYrkPcnRNuC7",
        "colab": {
          "base_uri": "https://localhost:8080/"
        },
        "outputId": "2640f9bb-20d8-42e5-8229-2e0918590a35"
      },
      "source": [
        "import json\n",
        "\n",
        "with open(\"rafanjany.json\") as js_file:\n",
        "  d=json.load(js_file)\n",
        "  print(d)\n",
        "  d[\"section\"].append({\n",
        "               \"name\":\"hello\",\n",
        "               \"phone\":\"0453234234\",\n",
        "               \"id\":\"alsfj kjsf\"\n",
        "           })\n"
      ],
      "execution_count": 11,
      "outputs": [
        {
          "output_type": "stream",
          "text": [
            "{'section': [{'name': 'hello', 'phone': '0453234234', 'id': 'alsfj kjsf'}], 'section1': [{'name': 'hello', 'phone': '0453234234', 'id': 'skladfjlsajf'}]}\n"
          ],
          "name": "stdout"
        }
      ]
    },
    {
      "cell_type": "code",
      "metadata": {
        "id": "5LYeLHIvOJ46",
        "colab": {
          "base_uri": "https://localhost:8080/"
        },
        "outputId": "948d751e-03ea-4b19-a441-a8c5689d3006"
      },
      "source": [
        "print(d[\"section\"])"
      ],
      "execution_count": 12,
      "outputs": [
        {
          "output_type": "stream",
          "text": [
            "[{'name': 'hello', 'phone': '0453234234', 'id': 'alsfj kjsf'}, {'name': 'hello', 'phone': '0453234234', 'id': 'alsfj kjsf'}]\n"
          ],
          "name": "stdout"
        }
      ]
    },
    {
      "cell_type": "code",
      "metadata": {
        "id": "J6l4Eqh2O-9U"
      },
      "source": [
        ""
      ],
      "execution_count": 12,
      "outputs": []
    },
    {
      "cell_type": "markdown",
      "metadata": {
        "id": "-m9VHhLH8yYD"
      },
      "source": [
        "<font face=\"new\" color=\"#33FFCE\"><h1>The main project</h1></font>"
      ]
    },
    {
      "cell_type": "markdown",
      "metadata": {
        "id": "Vk6LME172d05"
      },
      "source": [
        "<font color=\"green\"><h1>..................................................................................................................................................</font>"
      ]
    },
    {
      "cell_type": "code",
      "metadata": {
        "id": "b1jJW7JI2gm9"
      },
      "source": [
        "\n",
        "\n",
        "def check_qsn(sent):\n",
        "  import spacy\n",
        "  nlp=spacy.load(\"en_core_web_sm\")\n",
        "  sent=nlp(sent)\n",
        "  if sent[0].tag_==\"WP\" or sent[0].tag_==\"WRB\":\n",
        "    return True\n",
        "  else:\n",
        "    return False"
      ],
      "execution_count": 20,
      "outputs": []
    },
    {
      "cell_type": "code",
      "metadata": {
        "id": "BvfcHfxm33Oq",
        "colab": {
          "base_uri": "https://localhost:8080/"
        },
        "outputId": "8b0b7af1-48aa-4a05-dd2c-185de024c5e0"
      },
      "source": [
        "s=input()\n",
        "if check_qsn(nlp(s))==True:\n",
        "  #call a fintion\n",
        "  print(\"somthing\")\n",
        "  \n",
        "else:\n",
        "  print(\"do anything\")"
      ],
      "execution_count": 14,
      "outputs": [
        {
          "output_type": "stream",
          "text": [
            "what is your name\n",
            "somthing\n"
          ],
          "name": "stdout"
        }
      ]
    },
    {
      "cell_type": "code",
      "metadata": {
        "id": "U94Z65Sqfx9c"
      },
      "source": [
        "def pri(file):\n",
        "  with open(file+\".json\") as js_file:\n",
        "    g=json.load(js_file)\n",
        "  print(g)"
      ],
      "execution_count": 15,
      "outputs": []
    },
    {
      "cell_type": "code",
      "metadata": {
        "id": "ojTjWy8ygLTM"
      },
      "source": [
        "def store(file,key,val):\n",
        "  with open(file+\".json\") as js_file:\n",
        "    d=json.load(js_file)\n",
        "    d[key]=val\n",
        "  \n",
        "  with open(file+\".json\",\"w\") as js_file:\n",
        "    json.dump(d,js_file)"
      ],
      "execution_count": 16,
      "outputs": []
    },
    {
      "cell_type": "code",
      "metadata": {
        "id": "UR6HzpftgPoS"
      },
      "source": [
        "def srch_key(key,data):\n",
        "\n",
        "  if key in data:\n",
        "    return True\n",
        "  else:\n",
        "    return False"
      ],
      "execution_count": 17,
      "outputs": []
    },
    {
      "cell_type": "code",
      "metadata": {
        "id": "CF2kRKE-gVKk"
      },
      "source": [
        "def ask(sent):\n",
        "  print(\"Can you tell me?\")\n"
      ],
      "execution_count": 18,
      "outputs": []
    },
    {
      "cell_type": "markdown",
      "metadata": {
        "id": "dyS3C-7o146R"
      },
      "source": [
        "<font color=\"green\"><h1>..................................................................................................................................................</font>"
      ]
    },
    {
      "cell_type": "code",
      "metadata": {
        "id": "wHrrM4sPhyoS"
      },
      "source": [
        "spacy.explain(\"nsubj\")"
      ],
      "execution_count": null,
      "outputs": []
    },
    {
      "cell_type": "markdown",
      "metadata": {
        "id": "223wvUmfWgvb"
      },
      "source": [
        "<font color=\"red\">srching function"
      ]
    },
    {
      "cell_type": "code",
      "metadata": {
        "id": "UM0v5-PdkFu5"
      },
      "source": [
        ""
      ],
      "execution_count": null,
      "outputs": []
    },
    {
      "cell_type": "code",
      "metadata": {
        "id": "vpHvB1CeXLEX"
      },
      "source": [
        "import json\n",
        "\n",
        "your={}\n",
        "j= json.dumps(your)\n",
        "\n",
        "with open(\"your.json\",\"w\") as f:\n",
        "  f.write(j)\n",
        "  f.close()\n",
        "\n",
        "\n",
        "\n",
        "\n"
      ],
      "execution_count": null,
      "outputs": []
    },
    {
      "cell_type": "code",
      "metadata": {
        "id": "p9eF9vnGL4T8"
      },
      "source": [
        "h=\"your\"\n",
        "with open(h+\".json\") as js_file:\n",
        "  g=json.load(js_file)"
      ],
      "execution_count": null,
      "outputs": []
    },
    {
      "cell_type": "code",
      "metadata": {
        "id": "XuNXOTNhMB6K"
      },
      "source": [
        "srch_key(\"name\",g)"
      ],
      "execution_count": null,
      "outputs": []
    },
    {
      "cell_type": "code",
      "metadata": {
        "id": "8Gs4wDb1Xhi0"
      },
      "source": [
        "\n",
        "\n",
        "g[\"name\"]=\"rafsan\"\n",
        "  \n",
        "srch_key(\"name\",g)\n"
      ],
      "execution_count": null,
      "outputs": []
    },
    {
      "cell_type": "code",
      "metadata": {
        "id": "G-tBgpkOZh6M"
      },
      "source": [
        "store(\"your\",\"name\",\"rafsan jany\")"
      ],
      "execution_count": null,
      "outputs": []
    },
    {
      "cell_type": "code",
      "metadata": {
        "id": "75jK9xsOZsoM"
      },
      "source": [
        "pri(\"your\")"
      ],
      "execution_count": null,
      "outputs": []
    },
    {
      "cell_type": "code",
      "metadata": {
        "id": "8Y_c0TcGZ9Jk"
      },
      "source": [
        ""
      ],
      "execution_count": null,
      "outputs": []
    }
  ]
}