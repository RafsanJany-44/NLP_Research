{
  "nbformat": 4,
  "nbformat_minor": 0,
  "metadata": {
    "colab": {
      "name": "NLP_2_spacy.ipynb",
      "provenance": [],
      "collapsed_sections": [],
      "authorship_tag": "ABX9TyMGprFRLzRSxednVBgI3NE/",
      "include_colab_link": true
    },
    "kernelspec": {
      "name": "python3",
      "display_name": "Python 3"
    },
    "accelerator": "TPU"
  },
  "cells": [
    {
      "cell_type": "markdown",
      "metadata": {
        "id": "view-in-github",
        "colab_type": "text"
      },
      "source": [
        "<a href=\"https://colab.research.google.com/github/RafsanJany-44/NLP_Research/blob/master/NLP_2_spacy.ipynb\" target=\"_parent\"><img src=\"https://colab.research.google.com/assets/colab-badge.svg\" alt=\"Open In Colab\"/></a>"
      ]
    },
    {
      "cell_type": "markdown",
      "metadata": {
        "id": "hS1Z4mn65B7S"
      },
      "source": [
        "<font color=\"red\"><h1>Parts of Speech Tagging</h1></font>"
      ]
    },
    {
      "cell_type": "markdown",
      "metadata": {
        "id": "hUblwykgpmDs"
      },
      "source": [
        "<font color=\"red\"><h1>the def</font>"
      ]
    },
    {
      "cell_type": "markdown",
      "metadata": {
        "id": "TfPIj4dL2k0P"
      },
      "source": [
        "<font color=\"green\"><h1>..................................................................................................................................................</font>"
      ]
    },
    {
      "cell_type": "code",
      "metadata": {
        "id": "0JOHraswArAs"
      },
      "source": [
        "import spacy\n",
        "nlp=spacy.load(\"en_core_web_sm\")\n",
        "def check_sent(sent):\n",
        "k=0\n",
        "  if sent[0].pos_==\"ADV\":\n",
        "    k=1\n",
        "  if (sent[k].tag_==\"VB\"):\n",
        "    return \"This is a command sentence\"\n",
        "  elif sent[k].tag_==\"VBP\" and sent[k].lemma_!=\"be\":\n",
        "    if len(sent)>k+1:\n",
        "      if sent[k+1].dep_!=\"nsubj\":\n",
        "        return \"This is a command sentence\"\n",
        "      else:\n",
        "        return \"other sentence\"\n",
        "    else:\n",
        "      return \"This is a command sentence\"\n",
        "  else:\n",
        "    return \"other sentence\"\n"
      ],
      "execution_count": null,
      "outputs": []
    },
    {
      "cell_type": "markdown",
      "metadata": {
        "id": "7oCMyMHw2mWi"
      },
      "source": [
        "<font color=\"green\"><h1>..................................................................................................................................................</font>"
      ]
    },
    {
      "cell_type": "markdown",
      "metadata": {
        "id": "_etO02-Crcfb"
      },
      "source": [
        "<font face=\"monaco\" color=\"red\"><h1>Named Entity</h1> <font color=\"blue\">just for recognize the noun"
      ]
    },
    {
      "cell_type": "code",
      "metadata": {
        "id": "Px20qXyLAvVy",
        "outputId": "6cae5b82-2de6-4eaf-bd28-6b070d273001",
        "colab": {
          "base_uri": "https://localhost:8080/",
          "height": 85
        }
      },
      "source": [
        "import spacy\n",
        "\n",
        "nlp = spacy.load(\"en_core_web_sm\")\n",
        "\n",
        "doc = nlp(\"Md Ismail is very good person. He works in Apple. His school was St. Greg. He is good in python.\")\n",
        "\n",
        "for ent in doc.ents:\n",
        "    print(ent.text, ent.label_)"
      ],
      "execution_count": null,
      "outputs": [
        {
          "output_type": "stream",
          "text": [
            "Md Ismail PERSON\n",
            "Apple ORG\n",
            "St. Greg GPE\n",
            "python GPE\n"
          ],
          "name": "stdout"
        }
      ]
    },
    {
      "cell_type": "code",
      "metadata": {
        "id": "QZibjFPXxaI1",
        "outputId": "fc6c9a58-daed-4fd9-c1b9-c1c1c7c634b9",
        "colab": {
          "base_uri": "https://localhost:8080/",
          "height": 85
        }
      },
      "source": [
        "import spacy\n",
        "from spacy import displacy\n",
        "\n",
        "text = \"When Sebastian Thrun started working on self-driving cars at Google in 2007, few people outside of the company took him seriously.\"\n",
        "\n",
        "nlp = spacy.load(\"en_core_web_sm\")\n",
        "doc = nlp(text)\n",
        "displacy.serve(doc, style=\"ent\")"
      ],
      "execution_count": null,
      "outputs": [
        {
          "output_type": "stream",
          "text": [
            "\n",
            "Using the 'ent' visualizer\n",
            "Serving on http://0.0.0.0:5000 ...\n",
            "\n"
          ],
          "name": "stdout"
        }
      ]
    },
    {
      "cell_type": "markdown",
      "metadata": {
        "id": "47AV0eDvKoow"
      },
      "source": [
        "<font color=\"red\" face=\"monaco\"><h1>Stopwords"
      ]
    },
    {
      "cell_type": "code",
      "metadata": {
        "id": "MZdoNZsnKno6",
        "outputId": "f797b816-be3e-4186-b98a-ff8a4d7211d3",
        "colab": {
          "base_uri": "https://localhost:8080/",
          "height": 34
        }
      },
      "source": [
        "spacy_stopwords = spacy.lang.en.stop_words.STOP_WORDS\n",
        "print(len(spacy_stopwords))"
      ],
      "execution_count": null,
      "outputs": [
        {
          "output_type": "stream",
          "text": [
            "326\n"
          ],
          "name": "stdout"
        }
      ]
    },
    {
      "cell_type": "markdown",
      "metadata": {
        "id": "3axEjOsm26E0"
      },
      "source": [
        "<font color=\"red\" face=\"moncao\"><h1>Json writing"
      ]
    },
    {
      "cell_type": "code",
      "metadata": {
        "id": "8hbA1Y8J2_lq"
      },
      "source": [
        "import json\n",
        "\n",
        "def write(path,fileName, data):\n",
        "  filePath='./'+path+'/'+fileName+'.json'\n",
        "  with open(filePath,'w') as fp:\n",
        "    json.dump(data,fp)\n",
        "\n",
        "path='./'\n",
        "fileName=\"exam5\"\n",
        "\n",
        "data2={\n",
        "\"section\":[{\n",
        "               \"name\":\"hello\",\n",
        "               \"phone\":\"0453234234\"\n",
        "           }\n",
        "],\n",
        "\n",
        "\"section1\":[{\n",
        "     \"name\":\"hello\",\n",
        "               \"phone\":\"0453234234\"\n",
        "    \n",
        "\n",
        "}]\n",
        "\n",
        "\n",
        "\n",
        "\n",
        "}\n",
        "\n",
        "write(path,fileName,data2)"
      ],
      "execution_count": null,
      "outputs": []
    },
    {
      "cell_type": "code",
      "metadata": {
        "id": "dCaQy6gg3H42"
      },
      "source": [
        "import json\n",
        "mydata1={\n",
        "    \"section\":[\n",
        "               {\n",
        "               \"name\":\"hello\",\n",
        "               \"phone\":\"0453234234\",\n",
        "               \"id\":\"alsfj kjsf\"\n",
        "           },\n",
        "],\n",
        "\n",
        "      \"section1\":[{\n",
        "              \"name\":\"hello\",\n",
        "               \"phone\":\"0453234234\",\n",
        "               \"id\":\"skladfjlsajf\"\n",
        "  \n",
        "}]\n",
        "\n",
        "}\n",
        "\n",
        "\n",
        "j= json.dumps(mydata1)\n",
        "\n",
        "with open(\"rafanjany.json\",\"w\") as f:\n",
        "  f.write(j)\n",
        "  f.close()"
      ],
      "execution_count": null,
      "outputs": []
    },
    {
      "cell_type": "markdown",
      "metadata": {
        "id": "v07a5tDQNm7O"
      },
      "source": [
        "<font color=\"red\" face=\"monaco\"><h1>Json Updateing"
      ]
    },
    {
      "cell_type": "code",
      "metadata": {
        "id": "jYrkPcnRNuC7",
        "outputId": "7ce60861-4564-4ad1-880b-720026b4bba9",
        "colab": {
          "base_uri": "https://localhost:8080/",
          "height": 54
        }
      },
      "source": [
        "import json\n",
        "\n",
        "with open(\"rafanjany.json\") as js_file:\n",
        "  d=json.load(js_file)\n",
        "  print(d)\n",
        "  d[\"section\"].append({\n",
        "               \"name\":\"hello\",\n",
        "               \"phone\":\"0453234234\",\n",
        "               \"id\":\"alsfj kjsf\"\n",
        "           })\n"
      ],
      "execution_count": null,
      "outputs": [
        {
          "output_type": "stream",
          "text": [
            "{'section': [{'name': 'hello', 'phone': '0453234234', 'id': 'alsfj kjsf'}], 'section1': [{'name': 'hello', 'phone': '0453234234', 'id': 'skladfjlsajf'}]}\n"
          ],
          "name": "stdout"
        }
      ]
    },
    {
      "cell_type": "code",
      "metadata": {
        "id": "5LYeLHIvOJ46",
        "outputId": "23c8970f-ce41-481b-a4aa-eaf9eb8d7331",
        "colab": {
          "base_uri": "https://localhost:8080/",
          "height": 34
        }
      },
      "source": [
        "print(d[\"section\"])"
      ],
      "execution_count": null,
      "outputs": [
        {
          "output_type": "stream",
          "text": [
            "[{'name': 'hello', 'phone': '0453234234', 'id': 'alsfj kjsf'}, {'name': 'hello', 'phone': '0453234234', 'id': 'alsfj kjsf'}]\n"
          ],
          "name": "stdout"
        }
      ]
    },
    {
      "cell_type": "code",
      "metadata": {
        "id": "J6l4Eqh2O-9U"
      },
      "source": [
        ""
      ],
      "execution_count": null,
      "outputs": []
    },
    {
      "cell_type": "markdown",
      "metadata": {
        "id": "-m9VHhLH8yYD"
      },
      "source": [
        "<font face=\"new\" color=\"red\"><h1><B>the main project"
      ]
    },
    {
      "cell_type": "markdown",
      "metadata": {
        "id": "Vk6LME172d05"
      },
      "source": [
        "<font color=\"green\"><h1>..................................................................................................................................................</font>"
      ]
    },
    {
      "cell_type": "code",
      "metadata": {
        "id": "b1jJW7JI2gm9"
      },
      "source": [
        ""
      ],
      "execution_count": null,
      "outputs": []
    },
    {
      "cell_type": "markdown",
      "metadata": {
        "id": "dyS3C-7o146R"
      },
      "source": [
        "<font color=\"green\"><h1>..................................................................................................................................................</font>"
      ]
    },
    {
      "cell_type": "code",
      "metadata": {
        "id": "eHuQBHoi-c0-",
        "outputId": "070988b6-303a-48cd-bf9c-298b4cccc166",
        "colab": {
          "base_uri": "https://localhost:8080/",
          "height": 120
        }
      },
      "source": [
        "import spacy\n",
        "nlp=spacy.load(\"en_core_web_sm\")\n",
        "\n",
        "sent=nlp(\"What is your name\")\n",
        "print(\"Text\",\"---\",\"pos_\",\"---\",\"tag_\",\"---\",\"dep_\",\"---\",\"lemma_\")\n",
        "for i in sent:\n",
        "  print(i.text,\"---\",i.pos_,\"---\",i.tag_,\"---\",i.dep_,\"---\",i.lemma_)\n",
        "\n",
        "\n",
        "#def Check_qsn(sent):\n",
        "\n",
        "spacy.explain(\"WRB\") "
      ],
      "execution_count": 30,
      "outputs": [
        {
          "output_type": "stream",
          "text": [
            "Text --- pos_ --- tag_ --- dep_ --- lemma_\n",
            "What --- PRON --- WP --- attr --- what\n",
            "is --- AUX --- VBZ --- ROOT --- be\n",
            "your --- DET --- PRP$ --- poss --- -PRON-\n",
            "name --- NOUN --- NN --- nsubj --- name\n"
          ],
          "name": "stdout"
        },
        {
          "output_type": "execute_result",
          "data": {
            "application/vnd.google.colaboratory.intrinsic+json": {
              "type": "string"
            },
            "text/plain": [
              "'wh-adverb'"
            ]
          },
          "metadata": {
            "tags": []
          },
          "execution_count": 30
        }
      ]
    },
    {
      "cell_type": "code",
      "metadata": {
        "id": "lwuWroki8xUt",
        "outputId": "9e5b9900-d996-42a3-8ac2-bd4298b625ff",
        "colab": {
          "base_uri": "https://localhost:8080/",
          "height": 204
        }
      },
      "source": [
        "import spacy\n",
        "nlp=spacy.load(\"en\")\n",
        "\n",
        "sent=nlp(\"How. what. who. where. when.\")\n",
        "s=str(sent)\n",
        "print(\"Text\",\"---\",\"pos_\",\"---\",\"tag_\",\"---\",\"dep_\",\"---\",\"lemma_\")\n",
        "for i in sent:\n",
        "  print(i.text,\"---\",i.pos_,\"---\",i.tag_,\"---\",i.dep_,\"---\",i.lemma_)\n",
        "\n",
        "\n",
        "#def Check_qsn(sent):\n",
        "\n"
      ],
      "execution_count": 29,
      "outputs": [
        {
          "output_type": "stream",
          "text": [
            "Text --- pos_ --- tag_ --- dep_ --- lemma_\n",
            "How --- ADV --- WRB --- ROOT --- how\n",
            ". --- PUNCT --- . --- punct --- .\n",
            "what --- PRON --- WP --- ROOT --- what\n",
            ". --- PUNCT --- . --- punct --- .\n",
            "who --- PRON --- WP --- ROOT --- who\n",
            ". --- PUNCT --- . --- punct --- .\n",
            "where --- ADV --- WRB --- ROOT --- where\n",
            ". --- PUNCT --- . --- punct --- .\n",
            "when --- ADV --- WRB --- ROOT --- when\n",
            ". --- PUNCT --- . --- punct --- .\n"
          ],
          "name": "stdout"
        }
      ]
    },
    {
      "cell_type": "code",
      "metadata": {
        "id": "wHrrM4sPhyoS"
      },
      "source": [
        "def check_qsn(sent):\n",
        "  if sent[0].tag_==\"WP\" or sent[0].tag_==\"WRB\":\n",
        "    return True\n",
        "  else:\n",
        "    return False"
      ],
      "execution_count": 31,
      "outputs": []
    },
    {
      "cell_type": "code",
      "metadata": {
        "id": "M2b1uiop0do4",
        "outputId": "a3bee009-b720-45e4-eee7-0bc0c87a79af",
        "colab": {
          "base_uri": "https://localhost:8080/",
          "height": 34
        }
      },
      "source": [
        "check_qsn(nlp(\"You are a student\"))"
      ],
      "execution_count": 33,
      "outputs": [
        {
          "output_type": "execute_result",
          "data": {
            "text/plain": [
              "False"
            ]
          },
          "metadata": {
            "tags": []
          },
          "execution_count": 33
        }
      ]
    },
    {
      "cell_type": "code",
      "metadata": {
        "id": "iAv0OKCQ0p2q"
      },
      "source": [
        ""
      ],
      "execution_count": null,
      "outputs": []
    }
  ]
}