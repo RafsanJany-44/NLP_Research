{
  "nbformat": 4,
  "nbformat_minor": 0,
  "metadata": {
    "colab": {
      "provenance": [],
      "authorship_tag": "ABX9TyOdTT555SWFZurlwtWYirbG",
      "include_colab_link": true
    },
    "kernelspec": {
      "name": "python3",
      "display_name": "Python 3"
    },
    "language_info": {
      "name": "python"
    }
  },
  "cells": [
    {
      "cell_type": "markdown",
      "metadata": {
        "id": "view-in-github",
        "colab_type": "text"
      },
      "source": [
        "<a href=\"https://colab.research.google.com/github/RafsanJany-44/NLP_Research/blob/master/Social_Media_Data(Youtube_2).ipynb\" target=\"_parent\"><img src=\"https://colab.research.google.com/assets/colab-badge.svg\" alt=\"Open In Colab\"/></a>"
      ]
    },
    {
      "cell_type": "markdown",
      "source": [
        "#Libraries"
      ],
      "metadata": {
        "id": "yDWdnsMAT78u"
      }
    },
    {
      "cell_type": "code",
      "source": [
        "from googleapiclient.discovery import build\n",
        "import json\n",
        "import requests\n",
        "import time\n",
        "import pandas as pd\n",
        "import re\n",
        "import numpy as np"
      ],
      "metadata": {
        "id": "2Fd0_ocbVyTy"
      },
      "execution_count": null,
      "outputs": []
    },
    {
      "cell_type": "markdown",
      "source": [
        "##<font color='coral'>INPUT URL AND Slicing Video ID"
      ],
      "metadata": {
        "id": "I4ujIs37V4ig"
      }
    },
    {
      "cell_type": "code",
      "source": [
        "url_input = \"https://www.youtube.com/watch?v=yb2MstCVGQY\"\n",
        "video_id_split =url_input.split('=')\n",
        "video_id=video_id_split[1]\n",
        "print(video_id)\n",
        ""
      ],
      "metadata": {
        "id": "mMhoXE_6V2O8"
      },
      "execution_count": null,
      "outputs": []
    },
    {
      "cell_type": "markdown",
      "source": [
        "##<font color='coral'>Seting `api_key`\n",
        "\n",
        "-> How?<br>\n",
        "1. Log in to Google Developers Console. [link](https://console.cloud.google.com/apis/library)<br>\n",
        "2. Create a new project.<br>\n",
        "3. On the new project dashboard, click Explore & 4. Enable APIs.<br>\n",
        "4. In the library, navigate to YouTube Data API v3 under YouTube APIs.<br>\n",
        "5. Enable the API.<br>\n",
        "6. Create a credential.<br>\n",
        "7. A screen will appear with the API key.<br>"
      ],
      "metadata": {
        "id": "H_HZdFUDWPut"
      }
    },
    {
      "cell_type": "code",
      "source": [
        "api_key = ''"
      ],
      "metadata": {
        "id": "rNeH1Qp_Xjau"
      },
      "execution_count": null,
      "outputs": []
    },
    {
      "cell_type": "markdown",
      "source": [
        "##<font color='coral'>URL Input"
      ],
      "metadata": {
        "id": "labwW_FAXkZI"
      }
    },
    {
      "cell_type": "code",
      "source": [
        "url = 'https://www.googleapis.com/youtube/v3/videos?id='+video_id+'&key='+api_key+'&part=id,statistics'\n",
        "response_info=requests.get(url).json()\n"
      ],
      "metadata": {
        "id": "umzIvgG3XkGl"
      },
      "execution_count": null,
      "outputs": []
    },
    {
      "cell_type": "markdown",
      "source": [
        "##<font color='coral'>Comments Count"
      ],
      "metadata": {
        "id": "drIdSsfzX00S"
      }
    },
    {
      "cell_type": "code",
      "source": [
        "# Contains all comments (both top-level comments and replies to those comments).\n",
        "all_comments = []\n",
        "\n",
        "# Get the total (sum) of comments the video has:\n",
        "for comment_count in response_info['items']:\n",
        "  total = int(comment_count['statistics']['commentCount'])\n",
        "\n",
        "# Show the total amount of comments for the given video:\n",
        "print(\"Total comments for (\" + video_id + \"): \" + str(total))"
      ],
      "metadata": {
        "id": "38BhpErAXvZK"
      },
      "execution_count": null,
      "outputs": []
    },
    {
      "cell_type": "markdown",
      "source": [
        "##<font color='coral'>Storing Comments"
      ],
      "metadata": {
        "id": "WEf0ydGsYBwK"
      }
    },
    {
      "cell_type": "code",
      "source": [
        "def getAllTopLevelCommentReplies(topCommentId, token):\n",
        "  \"\"\"\n",
        "  Recursive function that retrieves the replies a given comment has.\n",
        "  \"\"\"\n",
        "\n",
        "  replies_response=youtube.comments().list(part='snippet',maxResults=100,parentId=topCommentId,pageToken=token).execute()\n",
        "\n",
        "  for indx, reply in enumerate(replies_response['items']):\n",
        "    all_comments.append(reply['snippet']['textDisplay'])\n",
        "\n",
        "  if \"nextPageToken\" in replies_response:\n",
        "    return getAllTopLevelCommentReplies(topCommentId, replies_response['nextPageToken'])\n",
        "  else:\n",
        "    return []\n",
        "\n",
        "def get_comments(youtube, video_id, token):\n",
        "  \"\"\"\n",
        "  Recursive function that retrieves the comments (top-level ones) a given video has.\n",
        "  \"\"\"\n",
        "\n",
        "  global all_comments\n",
        "  totalReplyCount = 0\n",
        "  token_reply = None\n",
        "\n",
        "  if (len(token.strip()) == 0):\n",
        "    all_comments = []\n",
        "\n",
        "  if (token == ''):\n",
        "    video_response=youtube.commentThreads().list(part='snippet',maxResults=100,videoId=video_id,order='relevance').execute()\n",
        "  else:\n",
        "    video_response=youtube.commentThreads().list(part='snippet',maxResults=100,videoId=video_id,order='relevance',pageToken=token).execute()\n",
        "\n",
        "  ## ---- for indx, item in enumerate(video_response['items']):\n",
        "  ## ----   all_comments.append(item['snippet']['topLevelComment']['snippet']['textDisplay'])\n",
        "  ## ----   totalReplyCount = item['snippet']['totalReplyCount']\n",
        "  ## ----   if (totalReplyCount > 0):\n",
        "  ## ----     all_comments.append(getAllTopLevelCommentReplies(item['id'], None))\n",
        "  ## ----\n",
        "  ## ---- if \"nextPageToken\" in video_response:\n",
        "  ## ----   return get_comments(youtube, video_id, video_response['nextPageToken'])\n",
        "  ## ---- else:\n",
        "  ## ----   # Remove empty elements added to the list \"due to the return in both functions\":\n",
        "  ## ----   all_comments = [x for x in all_comments if len(x) > 0]\n",
        "  ## ----   return []\n",
        "\n",
        "  # INICIO\n",
        "\n",
        "  # Loop comments from the video:\n",
        "  for indx, item in enumerate(video_response['items']):\n",
        "    # Append coments:\n",
        "    all_comments.append(\"COMMENT WITH \" + str(item['snippet']['totalReplyCount']) + \" replies: \" + item['snippet']['topLevelComment']['snippet']['textDisplay'])\n",
        "\n",
        "    # Get total reply count:\n",
        "    totalReplyCount = item['snippet']['totalReplyCount']\n",
        "\n",
        "    # If the comment has replies, get them:\n",
        "    if (totalReplyCount > 0):\n",
        "      # Get replies - first batch:\n",
        "      replies_response=youtube.comments().list(part='snippet',maxResults=100,parentId=item['id']).execute()\n",
        "      for indx, reply in enumerate(replies_response['items']):\n",
        "        # Append the replies to the main array:\n",
        "        all_comments.append((\" \"*2) + \"=>FIRST CALLBACK REPLY: \" + reply['snippet']['textDisplay'])\n",
        "\n",
        "      # If the reply has a token for get more replies, loop those replies\n",
        "      # and add those replies to the main array:\n",
        "      while \"nextPageToken\" in replies_response:\n",
        "        token_reply = replies_response['nextPageToken']\n",
        "        replies_response=youtube.comments().list(part='snippet',maxResults=100,parentId=item['id'],pageToken=token_reply).execute()\n",
        "        for indx, reply in enumerate(replies_response['items']):\n",
        "          all_comments.append((\" \"*4) + \"==>WHILE GETTING REPLIES: \" + reply['snippet']['textDisplay'])\n",
        "\n",
        "  # Check if the video_response has more comments:\n",
        "  if \"nextPageToken\" in video_response:\n",
        "    return get_comments(youtube, video_id, video_response['nextPageToken'])\n",
        "  else:\n",
        "    # Remove empty elements added to the list \"due to the return in both functions\":\n",
        "    all_comments = [x for x in all_comments if len(x) > 0]\n",
        "    print(\"Fin\")\n",
        "    return []\n",
        "\n",
        "  # FIN\n",
        "\n",
        "  ## 28/04/2022: Reviewed again and here are my results:\n",
        "  ## Both codes works fine = problem is: youtube does not match the count shown\n",
        "  ## in the website -comment section- and youtube data api. some comments *might*\n",
        "  ## be under approval or youtube just removes without updating the \"totalReplyCount\" value.\n",
        "  ## also, commment replies are not in date order, those are retrieved in descendent order\n",
        "  ## (newest replies are first in the results).\n",
        "\n",
        "all_comments=[]\n",
        "qtyReplies = 0\n",
        "qtyMainComments = 0\n",
        "\n",
        "youtube = build('youtube', 'v3',developerKey=api_key)\n",
        "comments = get_comments(youtube,video_id,'')\n",
        "\n",
        "# Show results:\n",
        "print(\"All total comments obtained: \"  + str(len(all_comments)))"
      ],
      "metadata": {
        "id": "GI-E6ScnX9p1"
      },
      "execution_count": null,
      "outputs": []
    },
    {
      "cell_type": "code",
      "source": [
        "all_comments"
      ],
      "metadata": {
        "id": "CIODHT7-YOFu"
      },
      "execution_count": null,
      "outputs": []
    },
    {
      "cell_type": "markdown",
      "source": [
        "###<font color='coral'>To pandas dataframe"
      ],
      "metadata": {
        "id": "DPKhNmE6YT8M"
      }
    },
    {
      "cell_type": "code",
      "source": [
        "df = pd.DataFrame(all_comments,columns=['Comments'])\n",
        "print(df)"
      ],
      "metadata": {
        "id": "1dzbtyqDYOA9"
      },
      "execution_count": null,
      "outputs": []
    },
    {
      "cell_type": "markdown",
      "source": [
        "#<font color='coral'>Data Refining"
      ],
      "metadata": {
        "id": "nJ1f9rfOYfOJ"
      }
    },
    {
      "cell_type": "markdown",
      "source": [
        "##<font color='coral'>Removing EMOJI's"
      ],
      "metadata": {
        "id": "a0mkuZ2TYnA4"
      }
    },
    {
      "cell_type": "code",
      "source": [
        "df = df.astype(str).apply(lambda x: x.str.encode('ascii', 'ignore').str.decode('ascii'))\n",
        "df"
      ],
      "metadata": {
        "id": "sfc0YEIyYN1a"
      },
      "execution_count": null,
      "outputs": []
    },
    {
      "cell_type": "markdown",
      "source": [
        "##<font color='coral'>Removing URLs"
      ],
      "metadata": {
        "id": "Tch8QayaY0C2"
      }
    },
    {
      "cell_type": "code",
      "source": [
        "df['Comments'] = df['Comments'].apply(lambda x: re.split('<a href=\"https:\\/\\/.*', str(x))[0])\n",
        "df"
      ],
      "metadata": {
        "id": "BTl6DwX_YNwW"
      },
      "execution_count": null,
      "outputs": []
    },
    {
      "cell_type": "code",
      "source": [
        "df['Comments'] = df['Comments'].str.lower()\n",
        "df"
      ],
      "metadata": {
        "id": "cYMaeBNkYNpQ"
      },
      "execution_count": null,
      "outputs": []
    },
    {
      "cell_type": "code",
      "source": [],
      "metadata": {
        "id": "k8GGO-oaYNiC"
      },
      "execution_count": null,
      "outputs": []
    },
    {
      "cell_type": "code",
      "source": [],
      "metadata": {
        "id": "PR0Atjm8YNef"
      },
      "execution_count": null,
      "outputs": []
    },
    {
      "cell_type": "code",
      "source": [],
      "metadata": {
        "id": "wE0VzMQ6YNZk"
      },
      "execution_count": null,
      "outputs": []
    },
    {
      "cell_type": "code",
      "source": [],
      "metadata": {
        "id": "o_F-qNkMYNMT"
      },
      "execution_count": null,
      "outputs": []
    },
    {
      "cell_type": "code",
      "source": [],
      "metadata": {
        "id": "6BjsF4swYNI7"
      },
      "execution_count": null,
      "outputs": []
    },
    {
      "cell_type": "code",
      "source": [],
      "metadata": {
        "id": "Lc7lVqVyYNFK"
      },
      "execution_count": null,
      "outputs": []
    }
  ]
}