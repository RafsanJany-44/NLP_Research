{
 "cells": [
  {
   "cell_type": "markdown",
   "metadata": {},
   "source": [
    "<a href=\"https://colab.research.google.com/github/RafsanJany-44/NLP_Research/blob/master/tensoreflow_2.ipynb\" target=\"_parent\"><img src=\"https://colab.research.google.com/assets/colab-badge.svg\" alt=\"Open In Colab\"/></a>"
   ]
  },
  {
   "cell_type": "code",
   "execution_count": 1,
   "metadata": {},
   "outputs": [],
   "source": [
    "import pandas as pd\n",
    "import numpy as np\n",
    "\n",
    "df = pd.read_csv('C:/Users/RAZER/Downloads/dataset/NLP_DB/Main_Result.csv')"
   ]
  },
  {
   "cell_type": "code",
   "execution_count": 2,
   "metadata": {},
   "outputs": [
    {
     "data": {
      "text/html": [
       "<div>\n",
       "<style scoped>\n",
       "    .dataframe tbody tr th:only-of-type {\n",
       "        vertical-align: middle;\n",
       "    }\n",
       "\n",
       "    .dataframe tbody tr th {\n",
       "        vertical-align: top;\n",
       "    }\n",
       "\n",
       "    .dataframe thead th {\n",
       "        text-align: right;\n",
       "    }\n",
       "</style>\n",
       "<table border=\"1\" class=\"dataframe\">\n",
       "  <thead>\n",
       "    <tr style=\"text-align: right;\">\n",
       "      <th></th>\n",
       "      <th>Comments</th>\n",
       "      <th>Type</th>\n",
       "    </tr>\n",
       "  </thead>\n",
       "  <tbody>\n",
       "    <tr>\n",
       "      <th>0</th>\n",
       "      <td>there is nothing else like khan academy out th...</td>\n",
       "      <td>1.0</td>\n",
       "    </tr>\n",
       "    <tr>\n",
       "      <th>1</th>\n",
       "      <td>sal is amazing. so is chemistry. i really real...</td>\n",
       "      <td>1.0</td>\n",
       "    </tr>\n",
       "    <tr>\n",
       "      <th>2</th>\n",
       "      <td>thanks khan academy! wish i had this series wh...</td>\n",
       "      <td>1.0</td>\n",
       "    </tr>\n",
       "    <tr>\n",
       "      <th>3</th>\n",
       "      <td>this was a really helpful video in understandi...</td>\n",
       "      <td>1.0</td>\n",
       "    </tr>\n",
       "    <tr>\n",
       "      <th>4</th>\n",
       "      <td>always stuns me how the study of the minute bl...</td>\n",
       "      <td>1.0</td>\n",
       "    </tr>\n",
       "    <tr>\n",
       "      <th>...</th>\n",
       "      <td>...</td>\n",
       "      <td>...</td>\n",
       "    </tr>\n",
       "    <tr>\n",
       "      <th>4531</th>\n",
       "      <td>is wondering y Mother Nature is making my life...</td>\n",
       "      <td>0.0</td>\n",
       "    </tr>\n",
       "    <tr>\n",
       "      <th>4532</th>\n",
       "      <td>ouch, thats your achy back...so sorry ... i d...</td>\n",
       "      <td>0.0</td>\n",
       "    </tr>\n",
       "    <tr>\n",
       "      <th>4533</th>\n",
       "      <td>One lane stop and go trafffffffic suckssss! Al...</td>\n",
       "      <td>0.0</td>\n",
       "    </tr>\n",
       "    <tr>\n",
       "      <th>4534</th>\n",
       "      <td>the dog dug a hole in the backyard well iwas s...</td>\n",
       "      <td>0.0</td>\n",
       "    </tr>\n",
       "    <tr>\n",
       "      <th>4535</th>\n",
       "      <td>I`m torn, do I get an extended warranty for my...</td>\n",
       "      <td>0.0</td>\n",
       "    </tr>\n",
       "  </tbody>\n",
       "</table>\n",
       "<p>4536 rows × 2 columns</p>\n",
       "</div>"
      ],
      "text/plain": [
       "                                               Comments  Type\n",
       "0     there is nothing else like khan academy out th...   1.0\n",
       "1     sal is amazing. so is chemistry. i really real...   1.0\n",
       "2     thanks khan academy! wish i had this series wh...   1.0\n",
       "3     this was a really helpful video in understandi...   1.0\n",
       "4     always stuns me how the study of the minute bl...   1.0\n",
       "...                                                 ...   ...\n",
       "4531  is wondering y Mother Nature is making my life...   0.0\n",
       "4532   ouch, thats your achy back...so sorry ... i d...   0.0\n",
       "4533  One lane stop and go trafffffffic suckssss! Al...   0.0\n",
       "4534  the dog dug a hole in the backyard well iwas s...   0.0\n",
       "4535  I`m torn, do I get an extended warranty for my...   0.0\n",
       "\n",
       "[4536 rows x 2 columns]"
      ]
     },
     "execution_count": 2,
     "metadata": {},
     "output_type": "execute_result"
    }
   ],
   "source": [
    "df"
   ]
  },
  {
   "cell_type": "code",
   "execution_count": 3,
   "metadata": {},
   "outputs": [
    {
     "data": {
      "text/plain": [
       "1.0    2326\n",
       "0.0    2002\n",
       "Name: Type, dtype: int64"
      ]
     },
     "execution_count": 3,
     "metadata": {},
     "output_type": "execute_result"
    }
   ],
   "source": [
    "df[\"Type\"].value_counts()"
   ]
  },
  {
   "cell_type": "code",
   "execution_count": 4,
   "metadata": {},
   "outputs": [
    {
     "data": {
      "text/plain": [
       "Comments     17\n",
       "Type        208\n",
       "dtype: int64"
      ]
     },
     "execution_count": 4,
     "metadata": {},
     "output_type": "execute_result"
    }
   ],
   "source": [
    "df.isnull().sum()"
   ]
  },
  {
   "cell_type": "code",
   "execution_count": 5,
   "metadata": {},
   "outputs": [],
   "source": [
    "\n",
    "df = df.dropna().reset_index(drop=True)"
   ]
  },
  {
   "cell_type": "code",
   "execution_count": 6,
   "metadata": {},
   "outputs": [
    {
     "data": {
      "text/plain": [
       "Comments    0\n",
       "Type        0\n",
       "dtype: int64"
      ]
     },
     "execution_count": 6,
     "metadata": {},
     "output_type": "execute_result"
    }
   ],
   "source": [
    "df.isnull().sum()"
   ]
  },
  {
   "cell_type": "code",
   "execution_count": 7,
   "metadata": {},
   "outputs": [
    {
     "data": {
      "text/html": [
       "<div>\n",
       "<style scoped>\n",
       "    .dataframe tbody tr th:only-of-type {\n",
       "        vertical-align: middle;\n",
       "    }\n",
       "\n",
       "    .dataframe tbody tr th {\n",
       "        vertical-align: top;\n",
       "    }\n",
       "\n",
       "    .dataframe thead th {\n",
       "        text-align: right;\n",
       "    }\n",
       "</style>\n",
       "<table border=\"1\" class=\"dataframe\">\n",
       "  <thead>\n",
       "    <tr style=\"text-align: right;\">\n",
       "      <th></th>\n",
       "      <th>Comments</th>\n",
       "      <th>Type</th>\n",
       "    </tr>\n",
       "  </thead>\n",
       "  <tbody>\n",
       "    <tr>\n",
       "      <th>0</th>\n",
       "      <td>there is nothing else like khan academy out th...</td>\n",
       "      <td>1.0</td>\n",
       "    </tr>\n",
       "    <tr>\n",
       "      <th>1</th>\n",
       "      <td>sal is amazing. so is chemistry. i really real...</td>\n",
       "      <td>1.0</td>\n",
       "    </tr>\n",
       "    <tr>\n",
       "      <th>2</th>\n",
       "      <td>thanks khan academy! wish i had this series wh...</td>\n",
       "      <td>1.0</td>\n",
       "    </tr>\n",
       "    <tr>\n",
       "      <th>3</th>\n",
       "      <td>this was a really helpful video in understandi...</td>\n",
       "      <td>1.0</td>\n",
       "    </tr>\n",
       "    <tr>\n",
       "      <th>4</th>\n",
       "      <td>always stuns me how the study of the minute bl...</td>\n",
       "      <td>1.0</td>\n",
       "    </tr>\n",
       "    <tr>\n",
       "      <th>...</th>\n",
       "      <td>...</td>\n",
       "      <td>...</td>\n",
       "    </tr>\n",
       "    <tr>\n",
       "      <th>4310</th>\n",
       "      <td>is wondering y Mother Nature is making my life...</td>\n",
       "      <td>0.0</td>\n",
       "    </tr>\n",
       "    <tr>\n",
       "      <th>4311</th>\n",
       "      <td>ouch, thats your achy back...so sorry ... i d...</td>\n",
       "      <td>0.0</td>\n",
       "    </tr>\n",
       "    <tr>\n",
       "      <th>4312</th>\n",
       "      <td>One lane stop and go trafffffffic suckssss! Al...</td>\n",
       "      <td>0.0</td>\n",
       "    </tr>\n",
       "    <tr>\n",
       "      <th>4313</th>\n",
       "      <td>the dog dug a hole in the backyard well iwas s...</td>\n",
       "      <td>0.0</td>\n",
       "    </tr>\n",
       "    <tr>\n",
       "      <th>4314</th>\n",
       "      <td>I`m torn, do I get an extended warranty for my...</td>\n",
       "      <td>0.0</td>\n",
       "    </tr>\n",
       "  </tbody>\n",
       "</table>\n",
       "<p>4315 rows × 2 columns</p>\n",
       "</div>"
      ],
      "text/plain": [
       "                                               Comments  Type\n",
       "0     there is nothing else like khan academy out th...   1.0\n",
       "1     sal is amazing. so is chemistry. i really real...   1.0\n",
       "2     thanks khan academy! wish i had this series wh...   1.0\n",
       "3     this was a really helpful video in understandi...   1.0\n",
       "4     always stuns me how the study of the minute bl...   1.0\n",
       "...                                                 ...   ...\n",
       "4310  is wondering y Mother Nature is making my life...   0.0\n",
       "4311   ouch, thats your achy back...so sorry ... i d...   0.0\n",
       "4312  One lane stop and go trafffffffic suckssss! Al...   0.0\n",
       "4313  the dog dug a hole in the backyard well iwas s...   0.0\n",
       "4314  I`m torn, do I get an extended warranty for my...   0.0\n",
       "\n",
       "[4315 rows x 2 columns]"
      ]
     },
     "execution_count": 7,
     "metadata": {},
     "output_type": "execute_result"
    }
   ],
   "source": [
    "df"
   ]
  },
  {
   "cell_type": "code",
   "execution_count": 8,
   "metadata": {},
   "outputs": [],
   "source": [
    "# Run this to ensure TensorFlow 2.x is used\n",
    "try:\n",
    "  # %tensorflow_version only exists in Colab.\n",
    "  %tensorflow_version 2.x\n",
    "except Exception:\n",
    "  pass"
   ]
  },
  {
   "cell_type": "code",
   "execution_count": 9,
   "metadata": {},
   "outputs": [
    {
     "name": "stdout",
     "output_type": "stream",
     "text": [
      "[PhysicalDevice(name='/physical_device:GPU:0', device_type='GPU')]\n"
     ]
    }
   ],
   "source": [
    "import tensorflow as tf\n",
    "print(tf.config.list_physical_devices('GPU'))"
   ]
  },
  {
   "cell_type": "code",
   "execution_count": 10,
   "metadata": {},
   "outputs": [],
   "source": [
    "import json\n",
    "import tensorflow as tf\n",
    "\n",
    "from tensorflow.keras.preprocessing.text import Tokenizer\n",
    "from tensorflow.keras.preprocessing.sequence import pad_sequences"
   ]
  },
  {
   "cell_type": "markdown",
   "metadata": {},
   "source": [
    "### Remove Non-Alphabetic Characters (including numbers)"
   ]
  },
  {
   "cell_type": "code",
   "execution_count": 11,
   "metadata": {},
   "outputs": [],
   "source": [
    "import re\n",
    "\n",
    "def convert_to_string(DF):\n",
    "    DF[\"Comments\"]= DF[\"Comments\"].astype(str)\n",
    "    \n",
    "def cleanerFn(b):\n",
    "    # keeps only words with alphabetic characters in comments\n",
    "    for row in range(len(b)):\n",
    "        line = b.loc[row, \"Comments\"]\n",
    "        b.loc[row,\"Comments\"] = re.sub(\"[^a-zA-Z]\", \" \", line)"
   ]
  },
  {
   "cell_type": "code",
   "execution_count": 12,
   "metadata": {},
   "outputs": [],
   "source": [
    "convert_to_string(df)"
   ]
  },
  {
   "cell_type": "code",
   "execution_count": 13,
   "metadata": {},
   "outputs": [
    {
     "data": {
      "text/html": [
       "<div>\n",
       "<style scoped>\n",
       "    .dataframe tbody tr th:only-of-type {\n",
       "        vertical-align: middle;\n",
       "    }\n",
       "\n",
       "    .dataframe tbody tr th {\n",
       "        vertical-align: top;\n",
       "    }\n",
       "\n",
       "    .dataframe thead th {\n",
       "        text-align: right;\n",
       "    }\n",
       "</style>\n",
       "<table border=\"1\" class=\"dataframe\">\n",
       "  <thead>\n",
       "    <tr style=\"text-align: right;\">\n",
       "      <th></th>\n",
       "      <th>Comments</th>\n",
       "      <th>Type</th>\n",
       "    </tr>\n",
       "  </thead>\n",
       "  <tbody>\n",
       "    <tr>\n",
       "      <th>0</th>\n",
       "      <td>there is nothing else like khan academy out th...</td>\n",
       "      <td>1.0</td>\n",
       "    </tr>\n",
       "    <tr>\n",
       "      <th>1</th>\n",
       "      <td>sal is amazing  so is chemistry  i really real...</td>\n",
       "      <td>1.0</td>\n",
       "    </tr>\n",
       "    <tr>\n",
       "      <th>2</th>\n",
       "      <td>thanks khan academy  wish i had this series wh...</td>\n",
       "      <td>1.0</td>\n",
       "    </tr>\n",
       "    <tr>\n",
       "      <th>3</th>\n",
       "      <td>this was a really helpful video in understandi...</td>\n",
       "      <td>1.0</td>\n",
       "    </tr>\n",
       "    <tr>\n",
       "      <th>4</th>\n",
       "      <td>always stuns me how the study of the minute bl...</td>\n",
       "      <td>1.0</td>\n",
       "    </tr>\n",
       "  </tbody>\n",
       "</table>\n",
       "</div>"
      ],
      "text/plain": [
       "                                            Comments  Type\n",
       "0  there is nothing else like khan academy out th...   1.0\n",
       "1  sal is amazing  so is chemistry  i really real...   1.0\n",
       "2  thanks khan academy  wish i had this series wh...   1.0\n",
       "3  this was a really helpful video in understandi...   1.0\n",
       "4  always stuns me how the study of the minute bl...   1.0"
      ]
     },
     "execution_count": 13,
     "metadata": {},
     "output_type": "execute_result"
    }
   ],
   "source": [
    "cleanerFn(df)\n",
    "df.head()"
   ]
  },
  {
   "cell_type": "code",
   "execution_count": 14,
   "metadata": {},
   "outputs": [],
   "source": [
    "\n",
    "sentences = []\n",
    "labels = []\n",
    "\n",
    "for i in range(df.shape[0]):\n",
    "    sentences.append(df['Comments'][i])\n",
    "    labels.append(df['Type'][i])"
   ]
  },
  {
   "cell_type": "markdown",
   "metadata": {},
   "source": [
    "### Dataset SPliting"
   ]
  },
  {
   "cell_type": "code",
   "execution_count": 15,
   "metadata": {},
   "outputs": [],
   "source": [
    "training_size = 3600\n",
    "training_sentences = sentences[0:training_size]\n",
    "testing_sentences = sentences[training_size:]\n",
    "training_labels = labels[0:training_size]\n",
    "testing_labels = labels[training_size:]"
   ]
  },
  {
   "cell_type": "markdown",
   "metadata": {},
   "source": [
    "### Tokenizer"
   ]
  },
  {
   "cell_type": "code",
   "execution_count": 16,
   "metadata": {},
   "outputs": [],
   "source": [
    "vocab_size = 10000                                #the maximum number of words to keep\n",
    "embedding_dim = 16\n",
    "max_length = 200                                  #maximum length of all sequences.\n",
    "trunc_type='post'                                 # remove values from sequences larger than maxlen\n",
    "padding_type='post'                               #pad either before or after each sequence.\n",
    "oov_tok = \"<OOV>\"                                 #used to replace out-of-vocabulary words during text_to_sequence calls\n",
    "\n",
    "\n",
    "\n",
    "tokenizer = Tokenizer(num_words=vocab_size, oov_token=oov_tok)\n",
    "tokenizer.fit_on_texts(training_sentences)\n",
    "\n",
    "word_index = tokenizer.word_index\n",
    "\n",
    "#Transforms each text in texts to a sequence of integers. -> training data\n",
    "training_sequences = tokenizer.texts_to_sequences(training_sentences)           \n",
    "\n",
    "#This function transforms a list  of sequences into a 2D Numpy array of shape -> Training data\n",
    "training_padded = pad_sequences(training_sequences, maxlen=max_length, padding=padding_type, truncating=trunc_type)    \n",
    "\n",
    "\n",
    "#Transforms each text in texts to a sequence of integers. -> testing data\n",
    "testing_sequences = tokenizer.texts_to_sequences(testing_sentences)\n",
    "\n",
    "#This function transforms a list  of sequences into a 2D Numpy array of shape -> testing data\n",
    "testing_padded = pad_sequences(testing_sequences, maxlen=max_length, padding=padding_type, truncating=trunc_type)"
   ]
  },
  {
   "cell_type": "code",
   "execution_count": 17,
   "metadata": {},
   "outputs": [],
   "source": [
    "\n",
    "training_padded = np.array(training_padded)\n",
    "training_labels = np.array(training_labels)\n",
    "testing_padded = np.array(testing_padded)\n",
    "testing_labels = np.array(testing_labels)"
   ]
  },
  {
   "cell_type": "markdown",
   "metadata": {},
   "source": [
    "### Building The Model"
   ]
  },
  {
   "cell_type": "code",
   "execution_count": 18,
   "metadata": {},
   "outputs": [],
   "source": [
    "\n",
    "model = tf.keras.Sequential([\n",
    "    \n",
    "    tf.keras.layers.Embedding(vocab_size, embedding_dim, input_length=max_length),\n",
    "    \n",
    "    tf.keras.layers.GlobalAveragePooling1D(),\n",
    "    \n",
    "    tf.keras.layers.Dense(24, activation='relu'),\n",
    "    \n",
    "    tf.keras.layers.Dense(1, activation='sigmoid')\n",
    "])\n",
    "\n",
    "model.compile(loss='binary_crossentropy',optimizer='adam',metrics=['accuracy'])"
   ]
  },
  {
   "cell_type": "code",
   "execution_count": 19,
   "metadata": {},
   "outputs": [
    {
     "name": "stdout",
     "output_type": "stream",
     "text": [
      "Model: \"sequential\"\n",
      "_________________________________________________________________\n",
      " Layer (type)                Output Shape              Param #   \n",
      "=================================================================\n",
      " embedding (Embedding)       (None, 200, 16)           160000    \n",
      "                                                                 \n",
      " global_average_pooling1d (G  (None, 16)               0         \n",
      " lobalAveragePooling1D)                                          \n",
      "                                                                 \n",
      " dense (Dense)               (None, 24)                408       \n",
      "                                                                 \n",
      " dense_1 (Dense)             (None, 1)                 25        \n",
      "                                                                 \n",
      "=================================================================\n",
      "Total params: 160,433\n",
      "Trainable params: 160,433\n",
      "Non-trainable params: 0\n",
      "_________________________________________________________________\n"
     ]
    }
   ],
   "source": [
    "model.summary()"
   ]
  },
  {
   "cell_type": "markdown",
   "metadata": {},
   "source": [
    "### Model Training"
   ]
  },
  {
   "cell_type": "code",
   "execution_count": 20,
   "metadata": {},
   "outputs": [
    {
     "name": "stdout",
     "output_type": "stream",
     "text": [
      "Epoch 1/30\n",
      "113/113 - 1s - loss: 0.6627 - accuracy: 0.6400 - val_loss: 1.0161 - val_accuracy: 0.0000e+00 - 1s/epoch - 13ms/step\n",
      "Epoch 2/30\n",
      "113/113 - 0s - loss: 0.6468 - accuracy: 0.6425 - val_loss: 1.0317 - val_accuracy: 0.0000e+00 - 338ms/epoch - 3ms/step\n",
      "Epoch 3/30\n",
      "113/113 - 0s - loss: 0.6314 - accuracy: 0.6425 - val_loss: 1.0118 - val_accuracy: 0.0000e+00 - 347ms/epoch - 3ms/step\n",
      "Epoch 4/30\n",
      "113/113 - 1s - loss: 0.5954 - accuracy: 0.6425 - val_loss: 0.9121 - val_accuracy: 0.0000e+00 - 507ms/epoch - 4ms/step\n",
      "Epoch 5/30\n",
      "113/113 - 0s - loss: 0.5293 - accuracy: 0.6981 - val_loss: 0.7663 - val_accuracy: 0.2545 - 400ms/epoch - 4ms/step\n",
      "Epoch 6/30\n",
      "113/113 - 0s - loss: 0.4364 - accuracy: 0.8633 - val_loss: 0.5644 - val_accuracy: 0.8070 - 367ms/epoch - 3ms/step\n",
      "Epoch 7/30\n",
      "113/113 - 0s - loss: 0.3436 - accuracy: 0.9353 - val_loss: 0.3644 - val_accuracy: 0.9678 - 362ms/epoch - 3ms/step\n",
      "Epoch 8/30\n",
      "113/113 - 0s - loss: 0.2717 - accuracy: 0.9450 - val_loss: 0.3164 - val_accuracy: 0.9594 - 353ms/epoch - 3ms/step\n",
      "Epoch 9/30\n",
      "113/113 - 0s - loss: 0.2220 - accuracy: 0.9497 - val_loss: 0.3973 - val_accuracy: 0.8462 - 369ms/epoch - 3ms/step\n",
      "Epoch 10/30\n",
      "113/113 - 0s - loss: 0.1890 - accuracy: 0.9586 - val_loss: 0.2403 - val_accuracy: 0.9650 - 459ms/epoch - 4ms/step\n",
      "Epoch 11/30\n",
      "113/113 - 0s - loss: 0.1651 - accuracy: 0.9603 - val_loss: 0.2547 - val_accuracy: 0.9329 - 445ms/epoch - 4ms/step\n",
      "Epoch 12/30\n",
      "113/113 - 0s - loss: 0.1458 - accuracy: 0.9658 - val_loss: 0.2137 - val_accuracy: 0.9510 - 433ms/epoch - 4ms/step\n",
      "Epoch 13/30\n",
      "113/113 - 0s - loss: 0.1323 - accuracy: 0.9708 - val_loss: 0.1365 - val_accuracy: 0.9818 - 456ms/epoch - 4ms/step\n",
      "Epoch 14/30\n",
      "113/113 - 0s - loss: 0.1205 - accuracy: 0.9725 - val_loss: 0.2305 - val_accuracy: 0.9217 - 406ms/epoch - 4ms/step\n",
      "Epoch 15/30\n",
      "113/113 - 0s - loss: 0.1092 - accuracy: 0.9761 - val_loss: 0.1566 - val_accuracy: 0.9650 - 447ms/epoch - 4ms/step\n",
      "Epoch 16/30\n",
      "113/113 - 0s - loss: 0.0994 - accuracy: 0.9794 - val_loss: 0.1666 - val_accuracy: 0.9580 - 369ms/epoch - 3ms/step\n",
      "Epoch 17/30\n",
      "113/113 - 0s - loss: 0.0929 - accuracy: 0.9800 - val_loss: 0.1585 - val_accuracy: 0.9594 - 369ms/epoch - 3ms/step\n",
      "Epoch 18/30\n",
      "113/113 - 0s - loss: 0.0848 - accuracy: 0.9806 - val_loss: 0.1612 - val_accuracy: 0.9497 - 393ms/epoch - 3ms/step\n",
      "Epoch 19/30\n",
      "113/113 - 0s - loss: 0.0780 - accuracy: 0.9825 - val_loss: 0.1143 - val_accuracy: 0.9706 - 365ms/epoch - 3ms/step\n",
      "Epoch 20/30\n",
      "113/113 - 0s - loss: 0.0716 - accuracy: 0.9842 - val_loss: 0.2150 - val_accuracy: 0.9133 - 427ms/epoch - 4ms/step\n",
      "Epoch 21/30\n",
      "113/113 - 0s - loss: 0.0672 - accuracy: 0.9847 - val_loss: 0.1042 - val_accuracy: 0.9776 - 385ms/epoch - 3ms/step\n",
      "Epoch 22/30\n",
      "113/113 - 0s - loss: 0.0613 - accuracy: 0.9872 - val_loss: 0.1691 - val_accuracy: 0.9315 - 366ms/epoch - 3ms/step\n",
      "Epoch 23/30\n",
      "113/113 - 0s - loss: 0.0574 - accuracy: 0.9872 - val_loss: 0.1179 - val_accuracy: 0.9594 - 357ms/epoch - 3ms/step\n",
      "Epoch 24/30\n",
      "113/113 - 0s - loss: 0.0531 - accuracy: 0.9886 - val_loss: 0.1162 - val_accuracy: 0.9580 - 367ms/epoch - 3ms/step\n",
      "Epoch 25/30\n",
      "113/113 - 0s - loss: 0.0501 - accuracy: 0.9897 - val_loss: 0.1436 - val_accuracy: 0.9385 - 369ms/epoch - 3ms/step\n",
      "Epoch 26/30\n",
      "113/113 - 0s - loss: 0.0472 - accuracy: 0.9900 - val_loss: 0.0817 - val_accuracy: 0.9804 - 413ms/epoch - 4ms/step\n",
      "Epoch 27/30\n",
      "113/113 - 0s - loss: 0.0450 - accuracy: 0.9908 - val_loss: 0.0790 - val_accuracy: 0.9804 - 370ms/epoch - 3ms/step\n",
      "Epoch 28/30\n",
      "113/113 - 0s - loss: 0.0413 - accuracy: 0.9922 - val_loss: 0.1055 - val_accuracy: 0.9608 - 371ms/epoch - 3ms/step\n",
      "Epoch 29/30\n",
      "113/113 - 0s - loss: 0.0394 - accuracy: 0.9911 - val_loss: 0.1411 - val_accuracy: 0.9385 - 364ms/epoch - 3ms/step\n",
      "Epoch 30/30\n",
      "113/113 - 0s - loss: 0.0375 - accuracy: 0.9922 - val_loss: 0.1690 - val_accuracy: 0.9259 - 368ms/epoch - 3ms/step\n"
     ]
    }
   ],
   "source": [
    "num_epochs = 30\n",
    "history = model.fit(training_padded, training_labels, epochs=num_epochs, validation_data=(testing_padded, testing_labels), verbose=2)"
   ]
  },
  {
   "cell_type": "code",
   "execution_count": 21,
   "metadata": {},
   "outputs": [
    {
     "data": {
      "image/png": "[encoded data removed]",
      "text/plain": [
       "<Figure size 640x480 with 1 Axes>"
      ]
     },
     "metadata": {},
     "output_type": "display_data"
    },
    {
     "data": {
      "image/png": "[encoded data removed]",
      "text/plain": [
       "<Figure size 640x480 with 1 Axes>"
      ]
     },
     "metadata": {},
     "output_type": "display_data"
    }
   ],
   "source": [
    "import matplotlib.pyplot as plt\n",
    "\n",
    "\n",
    "def plot_graphs(history, string):\n",
    "  plt.plot(history.history[string])\n",
    "  plt.plot(history.history['val_'+string])\n",
    "  plt.xlabel(\"Epochs\")\n",
    "  plt.ylabel(string)\n",
    "  plt.legend([string, 'val_'+string])\n",
    "  plt.show()\n",
    "\n",
    "plot_graphs(history, \"accuracy\")\n",
    "plot_graphs(history, \"loss\")"
   ]
  },
  {
   "cell_type": "markdown",
   "metadata": {},
   "source": [
    "### Saving The model"
   ]
  },
  {
   "cell_type": "code",
   "execution_count": 22,
   "metadata": {},
   "outputs": [],
   "source": [
    "import keras\n",
    "model.save(\"my_model.keras\")\n",
    "reconstructed_model = keras.models.load_model(\"my_model.keras\")"
   ]
  },
  {
   "cell_type": "markdown",
   "metadata": {},
   "source": [
    "### Load and Check the Model Performence"
   ]
  },
  {
   "cell_type": "code",
   "execution_count": 23,
   "metadata": {},
   "outputs": [
    {
     "name": "stdout",
     "output_type": "stream",
     "text": [
      "1/1 [==============================] - 0s 69ms/step\n",
      "This is a very helpfull tutorial  -- POSITIVE\n",
      "Very bad playlist and not hlpfull  -- NEGATIVE\n",
      "good vedio  -- POSITIVE\n",
      "that was bad  -- NEGATIVE\n",
      " 3456 56345cool 4bro  -- POSITIVE\n",
      "dude, i was gone  -- NEGATIVE\n",
      "Mindblowing tutorial  -- POSITIVE\n"
     ]
    }
   ],
   "source": [
    "sentence = [\"This is a very helpfull tutorial\", \"Very bad playlist and not hlpfull\",\"good vedio\",\"that was bad\",\" 3456 56345cool 4bro\",\"dude, i was gone\",\"Mindblowing tutorial\"]\n",
    "sequences = tokenizer.texts_to_sequences(sentence)\n",
    "padded = pad_sequences(sequences, maxlen=max_length, padding=padding_type, truncating=trunc_type)\n",
    "\n",
    "for i,label in enumerate(reconstructed_model.predict(padded)):\n",
    "    \n",
    "    if label[0]>=0.50:\n",
    "        print(sentence[i],\" -- POSITIVE\")\n",
    "    else:\n",
    "        print(sentence[i],\" -- NEGATIVE\")"
   ]
  },
  {
   "cell_type": "code",
   "execution_count": null,
   "metadata": {},
   "outputs": [],
   "source": []
  },
  {
   "cell_type": "code",
   "execution_count": null,
   "metadata": {},
   "outputs": [],
   "source": []
  }
 ],
 "metadata": {
  "kernelspec": {
   "display_name": "RattleSnake",
   "language": "python",
   "name": "python3"
  },
  "language_info": {
   "codemirror_mode": {
    "name": "ipython",
    "version": 3
   },
   "file_extension": ".py",
   "mimetype": "text/x-python",
   "name": "python",
   "nbconvert_exporter": "python",
   "pygments_lexer": "ipython3",
   "version": "3.7.16"
  }
 },
 "nbformat": 4,
 "nbformat_minor": 2
}
