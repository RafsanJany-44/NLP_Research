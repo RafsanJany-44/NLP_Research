{
  "nbformat": 4,
  "nbformat_minor": 0,
  "metadata": {
    "colab": {
      "provenance": [],
      "authorship_tag": "ABX9TyP7Aoz41U8wc2fEn+ySWhb3",
      "include_colab_link": true
    },
    "kernelspec": {
      "name": "python3",
      "display_name": "Python 3"
    },
    "language_info": {
      "name": "python"
    }
  },
  "cells": [
    {
      "cell_type": "markdown",
      "metadata": {
        "id": "view-in-github",
        "colab_type": "text"
      },
      "source": [
        "<a href=\"https://colab.research.google.com/github/RafsanJany-44/NLP_Research/blob/master/Social_Media_Data(Youtube_1).ipynb\" target=\"_parent\"><img src=\"https://colab.research.google.com/assets/colab-badge.svg\" alt=\"Open In Colab\"/></a>"
      ]
    },
    {
      "cell_type": "markdown",
      "source": [
        "#Libraries"
      ],
      "metadata": {
        "id": "yDWdnsMAT78u"
      }
    },
    {
      "cell_type": "code",
      "execution_count": null,
      "metadata": {
        "id": "oSDPDp_zTxNG"
      },
      "outputs": [],
      "source": [
        "!pip install pafy\n",
        "!pip install youtube-dl==2020.12.2\n",
        "!pip install pytube"
      ]
    },
    {
      "cell_type": "markdown",
      "source": [
        "##Get Data 1\n",
        "\n",
        "<font color=\"coral\"> Scrabing Video Details"
      ],
      "metadata": {
        "id": "x_1dyY0TUN6G"
      }
    },
    {
      "cell_type": "code",
      "source": [
        "import pafy\n",
        "\n",
        "\n",
        "\n",
        "def get_data_1(url):\n",
        "  video = pafy.new(url)\n",
        "\n",
        "  # getting view count of video\n",
        "  views = video.viewcount\n",
        "  length = video.length\n",
        "  likes = video.likes\n",
        "  dislikes = video.dislikes\n",
        "  duration = video.duration\n",
        "  title = video.title\n",
        "  author = video.author\n",
        "\n",
        "  # printing the value\n",
        "  dic={\n",
        "  \"author\" : str(author),\n",
        "  \"title\" : str(title),\n",
        "  \"View Count\": int(views),\n",
        "  \"length\" : (length),\n",
        "  \"likes\" : str(likes),\n",
        "  \"dislikes\" : str(dislikes),\n",
        "  \"duration\" : str(duration)\n",
        "  }\n",
        "\n",
        "  return dic"
      ],
      "metadata": {
        "id": "LA3NtRLzUBPP"
      },
      "execution_count": null,
      "outputs": []
    },
    {
      "cell_type": "code",
      "source": [
        "get_data_1(\"https://www.youtube.com/watch?v=yb2MstCVGQY\")"
      ],
      "metadata": {
        "id": "9tmzChNtUJWT"
      },
      "execution_count": null,
      "outputs": []
    },
    {
      "cell_type": "markdown",
      "source": [
        "##IF PlayList"
      ],
      "metadata": {
        "id": "0ThRsT-aUfnX"
      }
    },
    {
      "cell_type": "code",
      "source": [
        "from pytube import Playlist\n",
        "\n",
        "p = Playlist(\"https://www.youtube.com/playlist?list=PLLssT5z_DsK-h9vYZkQkYNWcItqhlRJLN\")\n",
        "\n",
        "for i in p:\n",
        "  print(get_data_1(i))"
      ],
      "metadata": {
        "id": "6EDEIu3WUh0x"
      },
      "execution_count": null,
      "outputs": []
    }
  ]
}