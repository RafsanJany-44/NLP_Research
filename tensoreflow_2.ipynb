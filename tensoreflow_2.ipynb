{
 "cells": [
  {
   "cell_type": "markdown",
   "metadata": {
    "colab_type": "text",
    "id": "view-in-github"
   },
   "source": [
    "<a href=\"https://colab.research.google.com/github/RafsanJany-44/NLP_Research/blob/master/tensoreflow_2.ipynb\" target=\"_parent\"><img src=\"https://colab.research.google.com/assets/colab-badge.svg\" alt=\"Open In Colab\"/></a>"
   ]
  },
  {
   "cell_type": "code",
   "execution_count": 117,
   "metadata": {
    "id": "YxPHOLZhhCvM",
    "tags": []
   },
   "outputs": [],
   "source": [
    "import pandas as pd\n",
    "import numpy as np\n",
    "\n",
    "df = pd.read_csv('C:/Users/RAZER/Downloads/dataset/NLP_DB/Main_Result.csv')"
   ]
  },
  {
   "cell_type": "code",
   "execution_count": 118,
   "metadata": {},
   "outputs": [
    {
     "data": {
      "text/html": [
       "<div>\n",
       "<style scoped>\n",
       "    .dataframe tbody tr th:only-of-type {\n",
       "        vertical-align: middle;\n",
       "    }\n",
       "\n",
       "    .dataframe tbody tr th {\n",
       "        vertical-align: top;\n",
       "    }\n",
       "\n",
       "    .dataframe thead th {\n",
       "        text-align: right;\n",
       "    }\n",
       "</style>\n",
       "<table border=\"1\" class=\"dataframe\">\n",
       "  <thead>\n",
       "    <tr style=\"text-align: right;\">\n",
       "      <th></th>\n",
       "      <th>Comments</th>\n",
       "      <th>Type</th>\n",
       "    </tr>\n",
       "  </thead>\n",
       "  <tbody>\n",
       "    <tr>\n",
       "      <th>0</th>\n",
       "      <td>there is nothing else like khan academy out th...</td>\n",
       "      <td>1.0</td>\n",
       "    </tr>\n",
       "    <tr>\n",
       "      <th>1</th>\n",
       "      <td>sal is amazing. so is chemistry. i really real...</td>\n",
       "      <td>1.0</td>\n",
       "    </tr>\n",
       "    <tr>\n",
       "      <th>2</th>\n",
       "      <td>thanks khan academy! wish i had this series wh...</td>\n",
       "      <td>1.0</td>\n",
       "    </tr>\n",
       "    <tr>\n",
       "      <th>3</th>\n",
       "      <td>this was a really helpful video in understandi...</td>\n",
       "      <td>1.0</td>\n",
       "    </tr>\n",
       "    <tr>\n",
       "      <th>4</th>\n",
       "      <td>always stuns me how the study of the minute bl...</td>\n",
       "      <td>1.0</td>\n",
       "    </tr>\n",
       "    <tr>\n",
       "      <th>...</th>\n",
       "      <td>...</td>\n",
       "      <td>...</td>\n",
       "    </tr>\n",
       "    <tr>\n",
       "      <th>4531</th>\n",
       "      <td>is wondering y Mother Nature is making my life...</td>\n",
       "      <td>0.0</td>\n",
       "    </tr>\n",
       "    <tr>\n",
       "      <th>4532</th>\n",
       "      <td>ouch, thats your achy back...so sorry ... i d...</td>\n",
       "      <td>0.0</td>\n",
       "    </tr>\n",
       "    <tr>\n",
       "      <th>4533</th>\n",
       "      <td>One lane stop and go trafffffffic suckssss! Al...</td>\n",
       "      <td>0.0</td>\n",
       "    </tr>\n",
       "    <tr>\n",
       "      <th>4534</th>\n",
       "      <td>the dog dug a hole in the backyard well iwas s...</td>\n",
       "      <td>0.0</td>\n",
       "    </tr>\n",
       "    <tr>\n",
       "      <th>4535</th>\n",
       "      <td>I`m torn, do I get an extended warranty for my...</td>\n",
       "      <td>0.0</td>\n",
       "    </tr>\n",
       "  </tbody>\n",
       "</table>\n",
       "<p>4536 rows × 2 columns</p>\n",
       "</div>"
      ],
      "text/plain": [
       "                                               Comments  Type\n",
       "0     there is nothing else like khan academy out th...   1.0\n",
       "1     sal is amazing. so is chemistry. i really real...   1.0\n",
       "2     thanks khan academy! wish i had this series wh...   1.0\n",
       "3     this was a really helpful video in understandi...   1.0\n",
       "4     always stuns me how the study of the minute bl...   1.0\n",
       "...                                                 ...   ...\n",
       "4531  is wondering y Mother Nature is making my life...   0.0\n",
       "4532   ouch, thats your achy back...so sorry ... i d...   0.0\n",
       "4533  One lane stop and go trafffffffic suckssss! Al...   0.0\n",
       "4534  the dog dug a hole in the backyard well iwas s...   0.0\n",
       "4535  I`m torn, do I get an extended warranty for my...   0.0\n",
       "\n",
       "[4536 rows x 2 columns]"
      ]
     },
     "execution_count": 118,
     "metadata": {},
     "output_type": "execute_result"
    }
   ],
   "source": [
    "df"
   ]
  },
  {
   "cell_type": "code",
   "execution_count": 119,
   "metadata": {},
   "outputs": [
    {
     "data": {
      "text/plain": [
       "1.0    2326\n",
       "0.0    2002\n",
       "Name: Type, dtype: int64"
      ]
     },
     "execution_count": 119,
     "metadata": {},
     "output_type": "execute_result"
    }
   ],
   "source": [
    "df[\"Type\"].value_counts()"
   ]
  },
  {
   "cell_type": "code",
   "execution_count": 120,
   "metadata": {},
   "outputs": [
    {
     "data": {
      "text/plain": [
       "Comments     17\n",
       "Type        208\n",
       "dtype: int64"
      ]
     },
     "execution_count": 120,
     "metadata": {},
     "output_type": "execute_result"
    }
   ],
   "source": [
    "df.isnull().sum()"
   ]
  },
  {
   "cell_type": "code",
   "execution_count": 121,
   "metadata": {},
   "outputs": [],
   "source": [
    "\n",
    "df = df.dropna().reset_index(drop=True)"
   ]
  },
  {
   "cell_type": "code",
   "execution_count": 122,
   "metadata": {},
   "outputs": [
    {
     "data": {
      "text/plain": [
       "Comments    0\n",
       "Type        0\n",
       "dtype: int64"
      ]
     },
     "execution_count": 122,
     "metadata": {},
     "output_type": "execute_result"
    }
   ],
   "source": [
    "df.isnull().sum()"
   ]
  },
  {
   "cell_type": "code",
   "execution_count": 123,
   "metadata": {},
   "outputs": [
    {
     "data": {
      "text/html": [
       "<div>\n",
       "<style scoped>\n",
       "    .dataframe tbody tr th:only-of-type {\n",
       "        vertical-align: middle;\n",
       "    }\n",
       "\n",
       "    .dataframe tbody tr th {\n",
       "        vertical-align: top;\n",
       "    }\n",
       "\n",
       "    .dataframe thead th {\n",
       "        text-align: right;\n",
       "    }\n",
       "</style>\n",
       "<table border=\"1\" class=\"dataframe\">\n",
       "  <thead>\n",
       "    <tr style=\"text-align: right;\">\n",
       "      <th></th>\n",
       "      <th>Comments</th>\n",
       "      <th>Type</th>\n",
       "    </tr>\n",
       "  </thead>\n",
       "  <tbody>\n",
       "    <tr>\n",
       "      <th>0</th>\n",
       "      <td>there is nothing else like khan academy out th...</td>\n",
       "      <td>1.0</td>\n",
       "    </tr>\n",
       "    <tr>\n",
       "      <th>1</th>\n",
       "      <td>sal is amazing. so is chemistry. i really real...</td>\n",
       "      <td>1.0</td>\n",
       "    </tr>\n",
       "    <tr>\n",
       "      <th>2</th>\n",
       "      <td>thanks khan academy! wish i had this series wh...</td>\n",
       "      <td>1.0</td>\n",
       "    </tr>\n",
       "    <tr>\n",
       "      <th>3</th>\n",
       "      <td>this was a really helpful video in understandi...</td>\n",
       "      <td>1.0</td>\n",
       "    </tr>\n",
       "    <tr>\n",
       "      <th>4</th>\n",
       "      <td>always stuns me how the study of the minute bl...</td>\n",
       "      <td>1.0</td>\n",
       "    </tr>\n",
       "    <tr>\n",
       "      <th>...</th>\n",
       "      <td>...</td>\n",
       "      <td>...</td>\n",
       "    </tr>\n",
       "    <tr>\n",
       "      <th>4310</th>\n",
       "      <td>is wondering y Mother Nature is making my life...</td>\n",
       "      <td>0.0</td>\n",
       "    </tr>\n",
       "    <tr>\n",
       "      <th>4311</th>\n",
       "      <td>ouch, thats your achy back...so sorry ... i d...</td>\n",
       "      <td>0.0</td>\n",
       "    </tr>\n",
       "    <tr>\n",
       "      <th>4312</th>\n",
       "      <td>One lane stop and go trafffffffic suckssss! Al...</td>\n",
       "      <td>0.0</td>\n",
       "    </tr>\n",
       "    <tr>\n",
       "      <th>4313</th>\n",
       "      <td>the dog dug a hole in the backyard well iwas s...</td>\n",
       "      <td>0.0</td>\n",
       "    </tr>\n",
       "    <tr>\n",
       "      <th>4314</th>\n",
       "      <td>I`m torn, do I get an extended warranty for my...</td>\n",
       "      <td>0.0</td>\n",
       "    </tr>\n",
       "  </tbody>\n",
       "</table>\n",
       "<p>4315 rows × 2 columns</p>\n",
       "</div>"
      ],
      "text/plain": [
       "                                               Comments  Type\n",
       "0     there is nothing else like khan academy out th...   1.0\n",
       "1     sal is amazing. so is chemistry. i really real...   1.0\n",
       "2     thanks khan academy! wish i had this series wh...   1.0\n",
       "3     this was a really helpful video in understandi...   1.0\n",
       "4     always stuns me how the study of the minute bl...   1.0\n",
       "...                                                 ...   ...\n",
       "4310  is wondering y Mother Nature is making my life...   0.0\n",
       "4311   ouch, thats your achy back...so sorry ... i d...   0.0\n",
       "4312  One lane stop and go trafffffffic suckssss! Al...   0.0\n",
       "4313  the dog dug a hole in the backyard well iwas s...   0.0\n",
       "4314  I`m torn, do I get an extended warranty for my...   0.0\n",
       "\n",
       "[4315 rows x 2 columns]"
      ]
     },
     "execution_count": 123,
     "metadata": {},
     "output_type": "execute_result"
    }
   ],
   "source": [
    "df"
   ]
  },
  {
   "cell_type": "code",
   "execution_count": 124,
   "metadata": {
    "colab": {
     "base_uri": "https://localhost:8080/"
    },
    "id": "4gs9htvM7n_x",
    "outputId": "dab585bd-d195-4030-f4a6-e2d3297dfa58",
    "tags": []
   },
   "outputs": [],
   "source": [
    "# Run this to ensure TensorFlow 2.x is used\n",
    "try:\n",
    "  # %tensorflow_version only exists in Colab.\n",
    "  %tensorflow_version 2.x\n",
    "except Exception:\n",
    "  pass"
   ]
  },
  {
   "cell_type": "code",
   "execution_count": 125,
   "metadata": {
    "tags": []
   },
   "outputs": [
    {
     "name": "stdout",
     "output_type": "stream",
     "text": [
      "[PhysicalDevice(name='/physical_device:GPU:0', device_type='GPU')]\n"
     ]
    }
   ],
   "source": [
    "import tensorflow as tf\n",
    "print(tf.config.list_physical_devices('GPU'))"
   ]
  },
  {
   "cell_type": "code",
   "execution_count": 126,
   "metadata": {
    "id": "XYYDvoskkE61",
    "tags": []
   },
   "outputs": [],
   "source": [
    "import json\n",
    "import tensorflow as tf\n",
    "\n",
    "from tensorflow.keras.preprocessing.text import Tokenizer\n",
    "from tensorflow.keras.preprocessing.sequence import pad_sequences"
   ]
  },
  {
   "cell_type": "code",
   "execution_count": 127,
   "metadata": {
    "id": "0eJSTTYnkJQd",
    "tags": []
   },
   "outputs": [],
   "source": [
    "vocab_size = 10000\n",
    "embedding_dim = 16\n",
    "max_length = 200\n",
    "trunc_type='post'\n",
    "padding_type='post'\n",
    "oov_tok = \"<OOV>\"\n",
    "training_size = 3600\n"
   ]
  },
  {
   "cell_type": "markdown",
   "metadata": {},
   "source": [
    "### Remove Non-Alphabetic Characters (including numbers)"
   ]
  },
  {
   "cell_type": "code",
   "execution_count": 128,
   "metadata": {},
   "outputs": [],
   "source": [
    "import re\n",
    "\n",
    "def convert_to_string(DF):\n",
    "    DF[\"Comments\"]= DF[\"Comments\"].astype(str)\n",
    "    \n",
    "def cleanerFn(b):\n",
    "    # keeps only words with alphabetic characters in comments\n",
    "    for row in range(len(b)):\n",
    "        line = b.loc[row, \"Comments\"]\n",
    "        b.loc[row,\"Comments\"] = re.sub(\"[^a-zA-Z]\", \" \", line)"
   ]
  },
  {
   "cell_type": "code",
   "execution_count": 129,
   "metadata": {},
   "outputs": [],
   "source": [
    "convert_to_string(df)"
   ]
  },
  {
   "cell_type": "code",
   "execution_count": 130,
   "metadata": {},
   "outputs": [
    {
     "data": {
      "text/html": [
       "<div>\n",
       "<style scoped>\n",
       "    .dataframe tbody tr th:only-of-type {\n",
       "        vertical-align: middle;\n",
       "    }\n",
       "\n",
       "    .dataframe tbody tr th {\n",
       "        vertical-align: top;\n",
       "    }\n",
       "\n",
       "    .dataframe thead th {\n",
       "        text-align: right;\n",
       "    }\n",
       "</style>\n",
       "<table border=\"1\" class=\"dataframe\">\n",
       "  <thead>\n",
       "    <tr style=\"text-align: right;\">\n",
       "      <th></th>\n",
       "      <th>Comments</th>\n",
       "      <th>Type</th>\n",
       "    </tr>\n",
       "  </thead>\n",
       "  <tbody>\n",
       "    <tr>\n",
       "      <th>0</th>\n",
       "      <td>there is nothing else like khan academy out th...</td>\n",
       "      <td>1.0</td>\n",
       "    </tr>\n",
       "    <tr>\n",
       "      <th>1</th>\n",
       "      <td>sal is amazing  so is chemistry  i really real...</td>\n",
       "      <td>1.0</td>\n",
       "    </tr>\n",
       "    <tr>\n",
       "      <th>2</th>\n",
       "      <td>thanks khan academy  wish i had this series wh...</td>\n",
       "      <td>1.0</td>\n",
       "    </tr>\n",
       "    <tr>\n",
       "      <th>3</th>\n",
       "      <td>this was a really helpful video in understandi...</td>\n",
       "      <td>1.0</td>\n",
       "    </tr>\n",
       "    <tr>\n",
       "      <th>4</th>\n",
       "      <td>always stuns me how the study of the minute bl...</td>\n",
       "      <td>1.0</td>\n",
       "    </tr>\n",
       "  </tbody>\n",
       "</table>\n",
       "</div>"
      ],
      "text/plain": [
       "                                            Comments  Type\n",
       "0  there is nothing else like khan academy out th...   1.0\n",
       "1  sal is amazing  so is chemistry  i really real...   1.0\n",
       "2  thanks khan academy  wish i had this series wh...   1.0\n",
       "3  this was a really helpful video in understandi...   1.0\n",
       "4  always stuns me how the study of the minute bl...   1.0"
      ]
     },
     "execution_count": 130,
     "metadata": {},
     "output_type": "execute_result"
    }
   ],
   "source": [
    "cleanerFn(df)\n",
    "df.head()"
   ]
  },
  {
   "cell_type": "code",
   "execution_count": null,
   "metadata": {},
   "outputs": [],
   "source": []
  },
  {
   "cell_type": "code",
   "execution_count": 131,
   "metadata": {
    "id": "oaLaaqhNkUPd"
   },
   "outputs": [],
   "source": [
    "\n",
    "sentences = []\n",
    "labels = []\n",
    "\n",
    "for i in range(df.shape[0]):\n",
    "    sentences.append(df['Comments'][i])\n",
    "    labels.append(df['Type'][i])"
   ]
  },
  {
   "cell_type": "code",
   "execution_count": 132,
   "metadata": {
    "id": "S1sD-7v0kYWk"
   },
   "outputs": [],
   "source": [
    "training_sentences = sentences[0:training_size]\n",
    "testing_sentences = sentences[training_size:]\n",
    "training_labels = labels[0:training_size]\n",
    "testing_labels = labels[training_size:]"
   ]
  },
  {
   "cell_type": "code",
   "execution_count": 133,
   "metadata": {
    "id": "3u8UB0MCkZ5N"
   },
   "outputs": [],
   "source": [
    "tokenizer = Tokenizer(num_words=vocab_size, oov_token=oov_tok)\n",
    "tokenizer.fit_on_texts(training_sentences)\n",
    "\n",
    "word_index = tokenizer.word_index\n",
    "\n",
    "training_sequences = tokenizer.texts_to_sequences(training_sentences)\n",
    "training_padded = pad_sequences(training_sequences, maxlen=max_length, padding=padding_type, truncating=trunc_type)\n",
    "\n",
    "testing_sequences = tokenizer.texts_to_sequences(testing_sentences)\n",
    "testing_padded = pad_sequences(testing_sequences, maxlen=max_length, padding=padding_type, truncating=trunc_type)"
   ]
  },
  {
   "cell_type": "code",
   "execution_count": 134,
   "metadata": {
    "id": "GrAlWBKf99Ya"
   },
   "outputs": [],
   "source": [
    "# Need this block to get it to work with TensorFlow 2.x\n",
    "import numpy as np\n",
    "training_padded = np.array(training_padded)\n",
    "training_labels = np.array(training_labels)\n",
    "testing_padded = np.array(testing_padded)\n",
    "testing_labels = np.array(testing_labels)"
   ]
  },
  {
   "cell_type": "code",
   "execution_count": 135,
   "metadata": {
    "id": "FufaT4vlkiDE"
   },
   "outputs": [],
   "source": [
    "model = tf.keras.Sequential([\n",
    "    tf.keras.layers.Embedding(vocab_size, embedding_dim, input_length=max_length),\n",
    "    tf.keras.layers.GlobalAveragePooling1D(),\n",
    "    tf.keras.layers.Dense(24, activation='relu'),\n",
    "    tf.keras.layers.Dense(1, activation='sigmoid')\n",
    "])\n",
    "model.compile(loss='binary_crossentropy',optimizer='adam',metrics=['accuracy'])"
   ]
  },
  {
   "cell_type": "code",
   "execution_count": 136,
   "metadata": {},
   "outputs": [
    {
     "name": "stdout",
     "output_type": "stream",
     "text": [
      "Model: \"sequential_1\"\n",
      "_________________________________________________________________\n",
      " Layer (type)                Output Shape              Param #   \n",
      "=================================================================\n",
      " embedding_1 (Embedding)     (None, 200, 16)           160000    \n",
      "                                                                 \n",
      " global_average_pooling1d_1   (None, 16)               0         \n",
      " (GlobalAveragePooling1D)                                        \n",
      "                                                                 \n",
      " dense_2 (Dense)             (None, 24)                408       \n",
      "                                                                 \n",
      " dense_3 (Dense)             (None, 1)                 25        \n",
      "                                                                 \n",
      "=================================================================\n",
      "Total params: 160,433\n",
      "Trainable params: 160,433\n",
      "Non-trainable params: 0\n",
      "_________________________________________________________________\n"
     ]
    }
   ],
   "source": [
    "model.summary()"
   ]
  },
  {
   "cell_type": "code",
   "execution_count": 137,
   "metadata": {
    "colab": {
     "base_uri": "https://localhost:8080/"
    },
    "id": "lAQy71vipbbP",
    "outputId": "2fee2b42-91fa-4e70-80ab-837a260c878e"
   },
   "outputs": [
    {
     "data": {
      "text/plain": [
       "{0.0, 1.0}"
      ]
     },
     "execution_count": 137,
     "metadata": {},
     "output_type": "execute_result"
    }
   ],
   "source": [
    "set(labels)"
   ]
  },
  {
   "cell_type": "code",
   "execution_count": 138,
   "metadata": {
    "colab": {
     "base_uri": "https://localhost:8080/"
    },
    "id": "XfDt1hmYkiys",
    "outputId": "784cbb1c-fc09-43aa-fc67-ccde69817bff"
   },
   "outputs": [
    {
     "name": "stdout",
     "output_type": "stream",
     "text": [
      "Model: \"sequential_1\"\n",
      "_________________________________________________________________\n",
      " Layer (type)                Output Shape              Param #   \n",
      "=================================================================\n",
      " embedding_1 (Embedding)     (None, 200, 16)           160000    \n",
      "                                                                 \n",
      " global_average_pooling1d_1   (None, 16)               0         \n",
      " (GlobalAveragePooling1D)                                        \n",
      "                                                                 \n",
      " dense_2 (Dense)             (None, 24)                408       \n",
      "                                                                 \n",
      " dense_3 (Dense)             (None, 1)                 25        \n",
      "                                                                 \n",
      "=================================================================\n",
      "Total params: 160,433\n",
      "Trainable params: 160,433\n",
      "Non-trainable params: 0\n",
      "_________________________________________________________________\n"
     ]
    }
   ],
   "source": [
    "model.summary()"
   ]
  },
  {
   "cell_type": "code",
   "execution_count": 139,
   "metadata": {
    "colab": {
     "base_uri": "https://localhost:8080/"
    },
    "id": "2DTKQFf1kkyc",
    "outputId": "c82019d0-4646-4d08-82d3-e272d1e47ee5"
   },
   "outputs": [
    {
     "name": "stdout",
     "output_type": "stream",
     "text": [
      "Epoch 1/30\n",
      "113/113 - 3s - loss: 0.6665 - accuracy: 0.6319 - val_loss: 1.0158 - val_accuracy: 0.0000e+00 - 3s/epoch - 27ms/step\n",
      "Epoch 2/30\n",
      "113/113 - 0s - loss: 0.6456 - accuracy: 0.6425 - val_loss: 0.9827 - val_accuracy: 0.0000e+00 - 372ms/epoch - 3ms/step\n",
      "Epoch 3/30\n",
      "113/113 - 0s - loss: 0.6282 - accuracy: 0.6425 - val_loss: 1.0156 - val_accuracy: 0.0000e+00 - 331ms/epoch - 3ms/step\n",
      "Epoch 4/30\n",
      "113/113 - 0s - loss: 0.5887 - accuracy: 0.6425 - val_loss: 0.8940 - val_accuracy: 0.0000e+00 - 364ms/epoch - 3ms/step\n",
      "Epoch 5/30\n",
      "113/113 - 0s - loss: 0.5069 - accuracy: 0.7272 - val_loss: 0.6704 - val_accuracy: 0.5804 - 386ms/epoch - 3ms/step\n",
      "Epoch 6/30\n",
      "113/113 - 0s - loss: 0.3927 - accuracy: 0.8992 - val_loss: 0.3994 - val_accuracy: 0.9664 - 382ms/epoch - 3ms/step\n",
      "Epoch 7/30\n",
      "113/113 - 0s - loss: 0.2957 - accuracy: 0.9350 - val_loss: 0.4242 - val_accuracy: 0.8783 - 418ms/epoch - 4ms/step\n",
      "Epoch 8/30\n",
      "113/113 - 0s - loss: 0.2328 - accuracy: 0.9514 - val_loss: 0.3411 - val_accuracy: 0.9049 - 359ms/epoch - 3ms/step\n",
      "Epoch 9/30\n",
      "113/113 - 0s - loss: 0.1917 - accuracy: 0.9592 - val_loss: 0.2883 - val_accuracy: 0.9245 - 339ms/epoch - 3ms/step\n",
      "Epoch 10/30\n",
      "113/113 - 0s - loss: 0.1667 - accuracy: 0.9600 - val_loss: 0.1759 - val_accuracy: 0.9776 - 354ms/epoch - 3ms/step\n",
      "Epoch 11/30\n",
      "113/113 - 0s - loss: 0.1441 - accuracy: 0.9694 - val_loss: 0.2180 - val_accuracy: 0.9510 - 357ms/epoch - 3ms/step\n",
      "Epoch 12/30\n",
      "113/113 - 0s - loss: 0.1309 - accuracy: 0.9669 - val_loss: 0.1353 - val_accuracy: 0.9804 - 359ms/epoch - 3ms/step\n",
      "Epoch 13/30\n",
      "113/113 - 0s - loss: 0.1148 - accuracy: 0.9747 - val_loss: 0.1359 - val_accuracy: 0.9804 - 403ms/epoch - 4ms/step\n",
      "Epoch 14/30\n",
      "113/113 - 0s - loss: 0.1038 - accuracy: 0.9775 - val_loss: 0.2739 - val_accuracy: 0.8909 - 375ms/epoch - 3ms/step\n",
      "Epoch 15/30\n",
      "113/113 - 0s - loss: 0.0947 - accuracy: 0.9769 - val_loss: 0.1368 - val_accuracy: 0.9692 - 395ms/epoch - 3ms/step\n",
      "Epoch 16/30\n",
      "113/113 - 0s - loss: 0.0866 - accuracy: 0.9822 - val_loss: 0.1015 - val_accuracy: 0.9818 - 364ms/epoch - 3ms/step\n",
      "Epoch 17/30\n",
      "113/113 - 0s - loss: 0.0802 - accuracy: 0.9794 - val_loss: 0.2154 - val_accuracy: 0.9119 - 389ms/epoch - 3ms/step\n",
      "Epoch 18/30\n",
      "113/113 - 0s - loss: 0.0726 - accuracy: 0.9867 - val_loss: 0.1969 - val_accuracy: 0.9231 - 364ms/epoch - 3ms/step\n",
      "Epoch 19/30\n",
      "113/113 - 0s - loss: 0.0671 - accuracy: 0.9856 - val_loss: 0.0765 - val_accuracy: 0.9874 - 407ms/epoch - 4ms/step\n",
      "Epoch 20/30\n",
      "113/113 - 0s - loss: 0.0607 - accuracy: 0.9856 - val_loss: 0.1258 - val_accuracy: 0.9566 - 347ms/epoch - 3ms/step\n",
      "Epoch 21/30\n",
      "113/113 - 0s - loss: 0.0569 - accuracy: 0.9875 - val_loss: 0.1141 - val_accuracy: 0.9594 - 364ms/epoch - 3ms/step\n",
      "Epoch 22/30\n",
      "113/113 - 0s - loss: 0.0522 - accuracy: 0.9883 - val_loss: 0.0934 - val_accuracy: 0.9734 - 374ms/epoch - 3ms/step\n",
      "Epoch 23/30\n",
      "113/113 - 0s - loss: 0.0485 - accuracy: 0.9900 - val_loss: 0.1330 - val_accuracy: 0.9455 - 377ms/epoch - 3ms/step\n",
      "Epoch 24/30\n",
      "113/113 - 0s - loss: 0.0442 - accuracy: 0.9911 - val_loss: 0.1075 - val_accuracy: 0.9608 - 442ms/epoch - 4ms/step\n",
      "Epoch 25/30\n",
      "113/113 - 0s - loss: 0.0436 - accuracy: 0.9889 - val_loss: 0.1517 - val_accuracy: 0.9329 - 372ms/epoch - 3ms/step\n",
      "Epoch 26/30\n",
      "113/113 - 0s - loss: 0.0378 - accuracy: 0.9931 - val_loss: 0.0958 - val_accuracy: 0.9664 - 368ms/epoch - 3ms/step\n",
      "Epoch 27/30\n",
      "113/113 - 0s - loss: 0.0358 - accuracy: 0.9919 - val_loss: 0.1152 - val_accuracy: 0.9497 - 379ms/epoch - 3ms/step\n",
      "Epoch 28/30\n",
      "113/113 - 0s - loss: 0.0340 - accuracy: 0.9925 - val_loss: 0.1467 - val_accuracy: 0.9329 - 372ms/epoch - 3ms/step\n",
      "Epoch 29/30\n",
      "113/113 - 0s - loss: 0.0308 - accuracy: 0.9944 - val_loss: 0.1422 - val_accuracy: 0.9315 - 374ms/epoch - 3ms/step\n",
      "Epoch 30/30\n",
      "113/113 - 0s - loss: 0.0304 - accuracy: 0.9936 - val_loss: 0.1176 - val_accuracy: 0.9483 - 406ms/epoch - 4ms/step\n"
     ]
    }
   ],
   "source": [
    "num_epochs = 30\n",
    "history = model.fit(training_padded, training_labels, epochs=num_epochs, validation_data=(testing_padded, testing_labels), verbose=2)"
   ]
  },
  {
   "cell_type": "code",
   "execution_count": null,
   "metadata": {},
   "outputs": [],
   "source": []
  },
  {
   "cell_type": "code",
   "execution_count": 140,
   "metadata": {
    "colab": {
     "base_uri": "https://localhost:8080/",
     "height": 881
    },
    "id": "2HYfBKXjkmU8",
    "outputId": "55792926-cc88-46d7-c5c4-51f342c034c3"
   },
   "outputs": [
    {
     "data": {
      "image/png": "[encoded data removed]",
      "text/plain": [
       "<Figure size 640x480 with 1 Axes>"
      ]
     },
     "metadata": {},
     "output_type": "display_data"
    },
    {
     "data": {
      "image/png": "[encoded data removed]",
      "text/plain": [
       "<Figure size 640x480 with 1 Axes>"
      ]
     },
     "metadata": {},
     "output_type": "display_data"
    }
   ],
   "source": [
    "import matplotlib.pyplot as plt\n",
    "\n",
    "\n",
    "def plot_graphs(history, string):\n",
    "  plt.plot(history.history[string])\n",
    "  plt.plot(history.history['val_'+string])\n",
    "  plt.xlabel(\"Epochs\")\n",
    "  plt.ylabel(string)\n",
    "  plt.legend([string, 'val_'+string])\n",
    "  plt.show()\n",
    "\n",
    "plot_graphs(history, \"accuracy\")\n",
    "plot_graphs(history, \"loss\")"
   ]
  },
  {
   "cell_type": "code",
   "execution_count": 141,
   "metadata": {
    "colab": {
     "base_uri": "https://localhost:8080/"
    },
    "id": "7SBdAZAenvzL",
    "outputId": "6fb2e2f5-59af-4aca-cc15-6803a3983b8e"
   },
   "outputs": [
    {
     "name": "stdout",
     "output_type": "stream",
     "text": [
      "there is nothing else like khan academy out there for improving your academic skills they are cutting edge for learning ? ? ? ? ? ? ? ? ? ? ? ? ? ? ? ? ? ? ? ? ? ? ? ? ? ? ? ? ? ? ? ? ? ? ? ? ? ? ? ? ? ? ? ? ? ? ? ? ? ? ? ? ? ? ? ? ? ? ? ? ? ? ? ? ? ? ? ? ? ? ? ? ? ? ? ? ? ? ? ? ? ? ? ? ? ? ? ? ? ? ? ? ? ? ? ? ? ? ? ? ? ? ? ? ? ? ? ? ? ? ? ? ? ? ? ? ? ? ? ? ? ? ? ? ? ? ? ? ? ? ? ? ? ? ? ? ? ? ? ? ? ? ? ? ? ? ? ? ? ? ? ? ? ? ? ? ? ? ? ? ? ? ? ? ? ? ? ? ? ? ? ? ? ? ? ? ? ? ? ?\n",
      "thanks khan academy  wish i had this series when i was in school  would have helped so much and inspired so many interest i came upon naturally glad this is out there for the interested kids today \n",
      "1.0\n"
     ]
    }
   ],
   "source": [
    "reverse_word_index = dict([(value, key) for (key, value) in word_index.items()])\n",
    "\n",
    "def decode_sentence(text):\n",
    "    return ' '.join([reverse_word_index.get(i, '?') for i in text])\n",
    "\n",
    "print(decode_sentence(training_padded[0]))\n",
    "print(training_sentences[2])\n",
    "print(labels[2])"
   ]
  },
  {
   "cell_type": "code",
   "execution_count": 142,
   "metadata": {
    "colab": {
     "base_uri": "https://localhost:8080/"
    },
    "id": "c9MqihtEkzQ9",
    "outputId": "d6bb3289-c3f3-4de0-fd26-28d186502f53"
   },
   "outputs": [
    {
     "name": "stdout",
     "output_type": "stream",
     "text": [
      "(10000, 16)\n"
     ]
    }
   ],
   "source": [
    "e = model.layers[0]\n",
    "weights = e.get_weights()[0]\n",
    "print(weights.shape) # shape: (vocab_size, embedding_dim)\n"
   ]
  },
  {
   "cell_type": "code",
   "execution_count": 143,
   "metadata": {
    "id": "_uLkUz30wEYK"
   },
   "outputs": [],
   "source": [
    "import keras\n",
    "model.save(\"my_model.keras\")\n",
    "reconstructed_model = keras.models.load_model(\"my_model.keras\")"
   ]
  },
  {
   "cell_type": "code",
   "execution_count": 149,
   "metadata": {
    "colab": {
     "base_uri": "https://localhost:8080/"
    },
    "id": "cG8-ArY-qDcz",
    "outputId": "c5257c00-077f-4938-8c0a-8ac91b2c0294"
   },
   "outputs": [
    {
     "name": "stdout",
     "output_type": "stream",
     "text": [
      "1/1 [==============================] - 0s 20ms/step\n",
      "[[0.99700934]\n",
      " [0.16726257]]\n"
     ]
    }
   ],
   "source": [
    "sentence = [\"This is a very helpfull tutorial\", \"Very bad playlist and not hlpfull\"]\n",
    "sequences = tokenizer.texts_to_sequences(sentence)\n",
    "padded = pad_sequences(sequences, maxlen=max_length, padding=padding_type, truncating=trunc_type)\n",
    "print(reconstructed_model.predict(padded))"
   ]
  },
  {
   "cell_type": "code",
   "execution_count": null,
   "metadata": {
    "id": "Zqd5ggJEtr0D"
   },
   "outputs": [],
   "source": []
  }
 ],
 "metadata": {
  "accelerator": "TPU",
  "colab": {
   "include_colab_link": true,
   "provenance": []
  },
  "kernelspec": {
   "display_name": "Python 3 (ipykernel)",
   "language": "python",
   "name": "python3"
  },
  "language_info": {
   "codemirror_mode": {
    "name": "ipython",
    "version": 3
   },
   "file_extension": ".py",
   "mimetype": "text/x-python",
   "name": "python",
   "nbconvert_exporter": "python",
   "pygments_lexer": "ipython3",
   "version": "3.7.16"
  }
 },
 "nbformat": 4,
 "nbformat_minor": 4
}
