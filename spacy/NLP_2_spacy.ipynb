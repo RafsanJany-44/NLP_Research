{
  "nbformat": 4,
  "nbformat_minor": 0,
  "metadata": {
    "colab": {
      "name": "NLP_2_spacy.ipynb",
      "provenance": [],
      "collapsed_sections": [],
      "include_colab_link": true
    },
    "kernelspec": {
      "name": "python3",
      "display_name": "Python 3"
    },
    "accelerator": "TPU"
  },
  "cells": [
    {
      "cell_type": "markdown",
      "metadata": {
        "id": "view-in-github",
        "colab_type": "text"
      },
      "source": [
        "<a href=\"https://colab.research.google.com/github/RafsanJany-44/NLP_Research/blob/master/NLP_2_spacy.ipynb\" target=\"_parent\"><img src=\"https://colab.research.google.com/assets/colab-badge.svg\" alt=\"Open In Colab\"/></a>"
      ]
    },
    {
      "cell_type": "markdown",
      "metadata": {
        "id": "hUblwykgpmDs"
      },
      "source": [
        "<font color=\"#DAF7A6\"><h1>The workable and ffinal part</font><br>\n",
        "<font color=\"#DAF7A6\"><h1>..................................................................................................................................................</font>"
      ]
    },
    {
      "cell_type": "code",
      "metadata": {
        "id": "Yw9jhQkvSzxH"
      },
      "source": [
        "! python -m spacy download en_core_web_sm"
      ],
      "execution_count": null,
      "outputs": []
    },
    {
      "cell_type": "code",
      "metadata": {
        "id": "0JOHraswArAs"
      },
      "source": [
        "def check_sent(sentence):\n",
        "  import spacy\n",
        "  nlp=spacy.load(\"en_core_web_sm\")\n",
        "  sent=nlp(sentence)\n",
        "  k=0\n",
        "  if sent[0].pos_==\"ADV\":\n",
        "    k=1\n",
        "  if (sent[k].tag_==\"VB\"):\n",
        "    return \"This is a command sentence\"\n",
        "  elif sent[k].tag_==\"VBP\" and sent[k].lemma_!=\"be\":\n",
        "    if len(sent)>k+1:\n",
        "      if sent[k+1].dep_!=\"nsubj\":\n",
        "        return \"This is a command sentence\"\n",
        "      else:\n",
        "        return \"other sentence\"\n",
        "    else:\n",
        "      return \"This is a command sentence\"\n",
        "  else:\n",
        "    return \"other sentence\"\n",
        "\n",
        "\n",
        "def check_qsn(sent):\n",
        "  import spacy\n",
        "  nlp=spacy.load(\"en_core_web_sm\")\n",
        "  sent=nlp(sent)\n",
        "  if sent[0].tag_==\"WP\" or sent[0].tag_==\"WRB\":\n",
        "    return True\n",
        "  else:\n",
        "    return False\n",
        "\n",
        "\n",
        "\n",
        "def tagCheck(sentence):\n",
        "  import spacy as sp\n",
        "  nlp=sp.load(\"en_core_web_sm\")\n",
        "  sentence=nlp(sentence)\n",
        "  dic={}\n",
        "  for i in sentence:\n",
        "    d={}\n",
        "    d={\n",
        "        \"Text\":i.text,\n",
        "        \"Base form of the word\":[i.lemma_,sp.explain(i.lemma_)],\n",
        "        \"Primary parts of speece\":[i.pos_,sp.explain(i.pos_)],\n",
        "        \"Deep parts of speece\":[i.tag_,sp.explain(i.tag_)],\n",
        "        \"Dependency(relation relation between tokens)\":[i.dep_,sp.explain(i.dep_)],\n",
        "        \"Shape\":[i.shape_,sp.explain(i.shape_)],\n",
        "        \"Alpha\":[i.is_alpha,sp.explain(i.is_alpha)],\n",
        "        \"Stop\":[i.is_stop,sp.explain(i.is_stop)]\n",
        "    }\n",
        "    dic[i]=d\n",
        "  print(dic)"
      ],
      "execution_count": null,
      "outputs": []
    },
    {
      "cell_type": "code",
      "metadata": {
        "id": "OGHNP7uBtSsj"
      },
      "source": [
        ""
      ],
      "execution_count": null,
      "outputs": []
    },
    {
      "cell_type": "markdown",
      "metadata": {
        "id": "OLTFnDmATiXK"
      },
      "source": [
        "<font color=\"#FFF633 \"><h1>TESTING</font>"
      ]
    },
    {
      "cell_type": "code",
      "metadata": {
        "colab": {
          "base_uri": "https://localhost:8080/",
          "height": 35
        },
        "id": "-27kvf_8ThmX",
        "outputId": "cf40fc6f-4bc9-406c-8cc7-7710d191d706"
      },
      "source": [
        "check_sent(\"do it\")"
      ],
      "execution_count": null,
      "outputs": [
        {
          "output_type": "execute_result",
          "data": {
            "application/vnd.google.colaboratory.intrinsic+json": {
              "type": "string"
            },
            "text/plain": [
              "'This is a command sentence'"
            ]
          },
          "metadata": {
            "tags": []
          },
          "execution_count": 5
        }
      ]
    },
    {
      "cell_type": "code",
      "metadata": {
        "id": "DHhn6snDtYCV",
        "colab": {
          "base_uri": "https://localhost:8080/"
        },
        "outputId": "82eaaea3-1175-4ff3-a699-07303c4c99b1"
      },
      "source": [
        "tagCheck(\"i am rafsan\")"
      ],
      "execution_count": null,
      "outputs": [
        {
          "output_type": "stream",
          "text": [
            "{i: {'Text': 'i', 'Base form of the word': ['i', None], 'Primary parts of speece': ['PRON', 'pronoun'], 'Deep parts of speece': ['PRP', 'pronoun, personal'], 'Dependency(relation relation between tokens)': ['nsubj', 'nominal subject'], 'Shape': ['x', None], 'Alpha': [True, None], 'Stop': [True, None]}, am: {'Text': 'am', 'Base form of the word': ['be', None], 'Primary parts of speece': ['AUX', 'auxiliary'], 'Deep parts of speece': ['VBP', 'verb, non-3rd person singular present'], 'Dependency(relation relation between tokens)': ['ROOT', None], 'Shape': ['xx', None], 'Alpha': [True, None], 'Stop': [True, None]}, rafsan: {'Text': 'rafsan', 'Base form of the word': ['rafsan', None], 'Primary parts of speece': ['PROPN', 'proper noun'], 'Deep parts of speece': ['NNP', 'noun, proper singular'], 'Dependency(relation relation between tokens)': ['acomp', 'adjectival complement'], 'Shape': ['xxxx', None], 'Alpha': [True, None], 'Stop': [False, None]}}\n"
          ],
          "name": "stdout"
        }
      ]
    },
    {
      "cell_type": "markdown",
      "metadata": {
        "id": "7oCMyMHw2mWi"
      },
      "source": [
        "<font color=\"green\"><h1>..................................................................................................................................................</font>"
      ]
    },
    {
      "cell_type": "markdown",
      "metadata": {
        "id": "_etO02-Crcfb"
      },
      "source": [
        "<font face=\"monaco\" color=\"#33FFCE\"><h1>Named Entity</h1><font color=\"#DAF7A6\">just for recognize the noun</font>"
      ]
    },
    {
      "cell_type": "code",
      "metadata": {
        "id": "Px20qXyLAvVy",
        "colab": {
          "base_uri": "https://localhost:8080/"
        },
        "outputId": "a129da48-9a28-4c43-d637-7b2155b9628e"
      },
      "source": [
        "import spacy\n",
        "\n",
        "nlp = spacy.load(\"en_core_web_sm\")\n",
        "\n",
        "doc = nlp(\"Md Ismail is very good person. He works in Apple. His school was St. Greg. He is good in python.\")\n",
        "\n",
        "for ent in doc.ents:\n",
        "    print(ent.text, ent.label_)"
      ],
      "execution_count": null,
      "outputs": [
        {
          "output_type": "stream",
          "text": [
            "Md Ismail PERSON\n",
            "Apple ORG\n",
            "St. Greg GPE\n",
            "python GPE\n"
          ],
          "name": "stdout"
        }
      ]
    },
    {
      "cell_type": "markdown",
      "metadata": {
        "id": "47AV0eDvKoow"
      },
      "source": [
        "<font color=\"#33FFCE\" face=\"monaco\"><h1>Stopwords</h1></font>\n",
        "<font color=\"#DAF7A6\">unnecessary words</font>\n"
      ]
    },
    {
      "cell_type": "code",
      "metadata": {
        "id": "MZdoNZsnKno6",
        "colab": {
          "base_uri": "https://localhost:8080/"
        },
        "outputId": "feb70980-ec75-42fd-df8f-6b3ff0029059"
      },
      "source": [
        "spacy_stopwords = spacy.lang.en.stop_words.STOP_WORDS\n",
        "print(len(spacy_stopwords))"
      ],
      "execution_count": null,
      "outputs": [
        {
          "output_type": "stream",
          "text": [
            "326\n"
          ],
          "name": "stdout"
        }
      ]
    },
    {
      "cell_type": "markdown",
      "metadata": {
        "id": "3axEjOsm26E0"
      },
      "source": [
        "<font color=\"#33FFCE\" face=\"moncao\"><h1>Json writing"
      ]
    },
    {
      "cell_type": "code",
      "metadata": {
        "id": "8hbA1Y8J2_lq"
      },
      "source": [
        "import json\n",
        "\n",
        "def write(path,fileName, data):\n",
        "  filePath='./'+path+'/'+fileName+'.json'\n",
        "  with open(filePath,'w') as fp:\n",
        "    json.dump(data,fp)\n"
      ],
      "execution_count": null,
      "outputs": []
    },
    {
      "cell_type": "code",
      "metadata": {
        "id": "JNrSOtK3iKdE"
      },
      "source": [
        "path='./'\n",
        "fileName=\"exam5\"\n",
        "\n",
        "data2={\n",
        "\"section\":[{\n",
        "               \"name\":\"hello\",\n",
        "               \"phone\":\"0453234234\"\n",
        "           }\n",
        "],\n",
        "\n",
        "\"section1\":[{\n",
        "     \"name\":\"hello\",\n",
        "               \"phone\":\"0453234234\"\n",
        "    \n",
        "\n",
        "}]\n",
        "}\n",
        "write(path,fileName,data2)"
      ],
      "execution_count": null,
      "outputs": []
    },
    {
      "cell_type": "code",
      "metadata": {
        "id": "dCaQy6gg3H42"
      },
      "source": [
        "import json\n",
        "mydata1={\n",
        "    \"section\":[\n",
        "               {\n",
        "               \"name\":\"hello\",\n",
        "               \"phone\":\"0453234234\",\n",
        "               \"id\":\"alsfj kjsf\"\n",
        "           },\n",
        "],\n",
        "\n",
        "      \"section1\":[{\n",
        "              \"name\":\"hello\",\n",
        "               \"phone\":\"0453234234\",\n",
        "               \"id\":\"skladfjlsajf\"\n",
        "  \n",
        "}]\n",
        "\n",
        "}\n",
        "\n",
        "\n",
        "j= json.dumps(mydata1)\n",
        "\n",
        "with open(\"rafanjany.json\",\"w\") as f:\n",
        "  f.write(j)\n",
        "  f.close()"
      ],
      "execution_count": null,
      "outputs": []
    },
    {
      "cell_type": "markdown",
      "metadata": {
        "id": "v07a5tDQNm7O"
      },
      "source": [
        "\n",
        "<font color=\"#33FFCE\" face=\"monaco\"><h1>Json Updateing"
      ]
    },
    {
      "cell_type": "code",
      "metadata": {
        "id": "jYrkPcnRNuC7",
        "colab": {
          "base_uri": "https://localhost:8080/"
        },
        "outputId": "2640f9bb-20d8-42e5-8229-2e0918590a35"
      },
      "source": [
        "import json\n",
        "\n",
        "with open(\"rafanjany.json\") as js_file:\n",
        "  d=json.load(js_file)\n",
        "  print(d)\n",
        "  d[\"section\"].append({\n",
        "               \"name\":\"hello\",\n",
        "               \"phone\":\"0453234234\",\n",
        "               \"id\":\"alsfj kjsf\"\n",
        "           })\n"
      ],
      "execution_count": null,
      "outputs": [
        {
          "output_type": "stream",
          "text": [
            "{'section': [{'name': 'hello', 'phone': '0453234234', 'id': 'alsfj kjsf'}], 'section1': [{'name': 'hello', 'phone': '0453234234', 'id': 'skladfjlsajf'}]}\n"
          ],
          "name": "stdout"
        }
      ]
    },
    {
      "cell_type": "code",
      "metadata": {
        "id": "5LYeLHIvOJ46",
        "colab": {
          "base_uri": "https://localhost:8080/"
        },
        "outputId": "948d751e-03ea-4b19-a441-a8c5689d3006"
      },
      "source": [
        "print(d[\"section\"])"
      ],
      "execution_count": null,
      "outputs": [
        {
          "output_type": "stream",
          "text": [
            "[{'name': 'hello', 'phone': '0453234234', 'id': 'alsfj kjsf'}, {'name': 'hello', 'phone': '0453234234', 'id': 'alsfj kjsf'}]\n"
          ],
          "name": "stdout"
        }
      ]
    },
    {
      "cell_type": "code",
      "metadata": {
        "id": "J6l4Eqh2O-9U"
      },
      "source": [
        ""
      ],
      "execution_count": null,
      "outputs": []
    },
    {
      "cell_type": "markdown",
      "metadata": {
        "id": "-m9VHhLH8yYD"
      },
      "source": [
        "<font face=\"new\" color=\"#33FFCE\"><h1>The main project</h1></font>"
      ]
    },
    {
      "cell_type": "markdown",
      "metadata": {
        "id": "Vk6LME172d05"
      },
      "source": [
        "<font color=\"green\"><h1>..................................................................................................................................................</font>"
      ]
    },
    {
      "cell_type": "code",
      "metadata": {
        "id": "_I76z1QnfLCw"
      },
      "source": [
        "! python -m spacy download en_core_web_sm"
      ],
      "execution_count": null,
      "outputs": []
    },
    {
      "cell_type": "code",
      "metadata": {
        "id": "nQjRvDygfsTM"
      },
      "source": [
        "import spacy\n",
        "nlp=spacy.load(\"en_core_web_sm\")\n",
        "import json"
      ],
      "execution_count": 2,
      "outputs": []
    },
    {
      "cell_type": "code",
      "metadata": {
        "id": "nIyMNm0DyYY2"
      },
      "source": [
        "def tagCheck(sentence):\n",
        "  import spacy as sp\n",
        "  nlp=sp.load(\"en_core_web_sm\")\n",
        "  sentence=nlp(sentence)\n",
        "  dic={}\n",
        "  for i in sentence:\n",
        "    d={}\n",
        "    d={\n",
        "        \"Text\":i.text,\n",
        "        \"Base form of the word\":[i.lemma_,sp.explain(i.lemma_)],\n",
        "        \"Primary parts of speece\":[i.pos_,sp.explain(i.pos_)],\n",
        "        \"Deep parts of speece\":[i.tag_,sp.explain(i.tag_)],\n",
        "        \"Dependency(relation relation between tokens)\":[i.dep_,sp.explain(i.dep_)],\n",
        "        \"Shape\":[i.shape_,sp.explain(i.shape_)],\n",
        "        \"Alpha\":[i.is_alpha,sp.explain(i.is_alpha)],\n",
        "        \"Stop\":[i.is_stop,sp.explain(i.is_stop)]\n",
        "    }\n",
        "    dic[i]=d\n",
        "    print(\"Text:\",i.text,\n",
        "        \"Base form of the word:\",[i.lemma_,sp.explain(i.lemma_)],\"\\n\",\n",
        "        \"Primary parts of speece:\",[i.pos_,sp.explain(i.pos_)],\"\\n\",\n",
        "        \"Deep parts of speece:\",[i.tag_,sp.explain(i.tag_)],\"\\n\",\n",
        "        \"Dependency(relation relation between tokens):\",[i.dep_,sp.explain(i.dep_)],\"\\n\",\n",
        "        \"Shape:\",[i.shape_,sp.explain(i.shape_)],\"\\n\",\n",
        "        \"Alpha:\",[i.is_alpha,sp.explain(i.is_alpha)],\"\\n\",\n",
        "        \"Stop:\",[i.is_stop,sp.explain(i.is_stop)])\n",
        "    \n",
        "\n",
        "    \n",
        "  print(*dic[i],sep=\"\\n\") "
      ],
      "execution_count": 32,
      "outputs": []
    },
    {
      "cell_type": "code",
      "metadata": {
        "id": "exWbgfbpzpYM",
        "outputId": "010e85e9-6ea6-4144-d368-696a2f70e0ea",
        "colab": {
          "base_uri": "https://localhost:8080/"
        }
      },
      "source": [
        "tagCheck(\"Hello I am nourin\")"
      ],
      "execution_count": 33,
      "outputs": [
        {
          "output_type": "stream",
          "name": "stdout",
          "text": [
            "Text: Hello Base form of the word: ['hello', None] \n",
            " Primary parts of speece: ['INTJ', 'interjection'] \n",
            " Deep parts of speece: ['UH', 'interjection'] \n",
            " Dependency(relation relation between tokens): ['intj', 'interjection'] \n",
            " Shape: ['Xxxxx', None] \n",
            " Alpha: [True, None] \n",
            " Stop: [False, None]\n",
            "Text: I Base form of the word: ['-PRON-', None] \n",
            " Primary parts of speece: ['PRON', 'pronoun'] \n",
            " Deep parts of speece: ['PRP', 'pronoun, personal'] \n",
            " Dependency(relation relation between tokens): ['nsubj', 'nominal subject'] \n",
            " Shape: ['X', 'other'] \n",
            " Alpha: [True, None] \n",
            " Stop: [True, None]\n",
            "Text: am Base form of the word: ['be', None] \n",
            " Primary parts of speece: ['AUX', 'auxiliary'] \n",
            " Deep parts of speece: ['VBP', 'verb, non-3rd person singular present'] \n",
            " Dependency(relation relation between tokens): ['ROOT', None] \n",
            " Shape: ['xx', None] \n",
            " Alpha: [True, None] \n",
            " Stop: [True, None]\n",
            "Text: nourin Base form of the word: ['nourin', None] \n",
            " Primary parts of speece: ['NOUN', 'noun'] \n",
            " Deep parts of speece: ['NN', 'noun, singular or mass'] \n",
            " Dependency(relation relation between tokens): ['acomp', 'adjectival complement'] \n",
            " Shape: ['xxxx', None] \n",
            " Alpha: [True, None] \n",
            " Stop: [False, None]\n",
            "Text\n",
            "Base form of the word\n",
            "Primary parts of speece\n",
            "Deep parts of speece\n",
            "Dependency(relation relation between tokens)\n",
            "Shape\n",
            "Alpha\n",
            "Stop\n"
          ]
        }
      ]
    },
    {
      "cell_type": "code",
      "metadata": {
        "id": "b1jJW7JI2gm9"
      },
      "source": [
        "def check_qsn(sent):\n",
        "  import spacy\n",
        "  nlp=spacy.load(\"en_core_web_sm\")\n",
        "  sent=nlp(sent)\n",
        "  if sent[0].tag_==\"WP\" or sent[0].tag_==\"WRB\":\n",
        "    return True\n",
        "  else:\n",
        "    return False"
      ],
      "execution_count": null,
      "outputs": []
    },
    {
      "cell_type": "code",
      "metadata": {
        "id": "BvfcHfxm33Oq",
        "colab": {
          "base_uri": "https://localhost:8080/"
        },
        "outputId": "6f68af4e-094b-4222-9fe6-a06ba9c49f83"
      },
      "source": [
        "s=input()\n",
        "if check_qsn(s)==True:\n",
        "  #call a fintion\n",
        "  print(\"somthing\")\n",
        "else:\n",
        "  print(\"do anything\")"
      ],
      "execution_count": null,
      "outputs": [
        {
          "output_type": "stream",
          "name": "stdout",
          "text": [
            "what is your ame\n",
            "somthing\n"
          ]
        }
      ]
    },
    {
      "cell_type": "code",
      "metadata": {
        "id": "U94Z65Sqfx9c",
        "colab": {
          "base_uri": "https://localhost:8080/"
        },
        "outputId": "63a10c36-caf4-4912-cb09-2ec263d8fb36"
      },
      "source": [
        "def pri(file):\n",
        "  with open(file+\".json\") as js_file:\n",
        "    g=json.load(js_file)\n",
        "  print(g)\n",
        "pri(\"exam5\")"
      ],
      "execution_count": null,
      "outputs": [
        {
          "output_type": "stream",
          "name": "stdout",
          "text": [
            "{'section': [{'name': 'hello', 'phone': '0453234234'}], 'section1': [{'name': 'hello', 'phone': '0453234234'}], 'name': 'rafsan'}\n"
          ]
        }
      ]
    },
    {
      "cell_type": "code",
      "metadata": {
        "id": "ojTjWy8ygLTM"
      },
      "source": [
        "def store(file,key,val):\n",
        "  with open(file+\".json\") as js_file:\n",
        "    d=json.load(js_file)\n",
        "    d[key]=val\n",
        "  with open(file+\".json\",\"w\") as js_file:\n",
        "    json.dump(d,js_file)\n",
        "store(\"exam5\",'name','rafsan')"
      ],
      "execution_count": null,
      "outputs": []
    },
    {
      "cell_type": "code",
      "metadata": {
        "id": "UR6HzpftgPoS"
      },
      "source": [
        "def srch_key(key,data):\n",
        "  if key in data:\n",
        "    return True\n",
        "  else:\n",
        "    return False"
      ],
      "execution_count": null,
      "outputs": []
    },
    {
      "cell_type": "code",
      "metadata": {
        "id": "CF2kRKE-gVKk"
      },
      "source": [
        "def ask(sent):\n",
        "  print(\"Can you tell me?\")\n"
      ],
      "execution_count": null,
      "outputs": []
    },
    {
      "cell_type": "markdown",
      "metadata": {
        "id": "dyS3C-7o146R"
      },
      "source": [
        "<font color=\"green\"><h1>..................................................................................................................................................</font>"
      ]
    },
    {
      "cell_type": "code",
      "metadata": {
        "id": "wHrrM4sPhyoS",
        "colab": {
          "base_uri": "https://localhost:8080/",
          "height": 35
        },
        "outputId": "70b06c2a-3343-44d2-d575-62c43c4f9ee8"
      },
      "source": [
        "spacy.explain(\"nsubj\")"
      ],
      "execution_count": null,
      "outputs": [
        {
          "output_type": "execute_result",
          "data": {
            "application/vnd.google.colaboratory.intrinsic+json": {
              "type": "string"
            },
            "text/plain": [
              "'nominal subject'"
            ]
          },
          "metadata": {},
          "execution_count": 8
        }
      ]
    },
    {
      "cell_type": "markdown",
      "metadata": {
        "id": "223wvUmfWgvb"
      },
      "source": [
        "<font color=\"red\">srching function"
      ]
    },
    {
      "cell_type": "code",
      "metadata": {
        "id": "UM0v5-PdkFu5"
      },
      "source": [
        ""
      ],
      "execution_count": null,
      "outputs": []
    },
    {
      "cell_type": "code",
      "metadata": {
        "id": "vpHvB1CeXLEX"
      },
      "source": [
        "import json\n",
        "\n",
        "your={}\n",
        "j= json.dumps(your)\n",
        "\n",
        "with open(\"your.json\",\"w\") as f:\n",
        "  f.write(j)\n",
        "  f.close()\n",
        "\n",
        "\n",
        "\n",
        "\n"
      ],
      "execution_count": null,
      "outputs": []
    },
    {
      "cell_type": "code",
      "metadata": {
        "id": "p9eF9vnGL4T8"
      },
      "source": [
        "h=\"your\"\n",
        "with open(h+\".json\") as js_file:\n",
        "  g=json.load(js_file)"
      ],
      "execution_count": null,
      "outputs": []
    },
    {
      "cell_type": "code",
      "metadata": {
        "id": "XuNXOTNhMB6K",
        "colab": {
          "base_uri": "https://localhost:8080/"
        },
        "outputId": "b5250100-c5e6-4179-dc50-686f2212cc8c"
      },
      "source": [
        "srch_key(\"name\",g)"
      ],
      "execution_count": null,
      "outputs": [
        {
          "output_type": "execute_result",
          "data": {
            "text/plain": [
              "True"
            ]
          },
          "metadata": {},
          "execution_count": 35
        }
      ]
    },
    {
      "cell_type": "code",
      "metadata": {
        "id": "8Gs4wDb1Xhi0",
        "colab": {
          "base_uri": "https://localhost:8080/"
        },
        "outputId": "86f384bd-60d3-46c1-a81f-0eb1eae37f58"
      },
      "source": [
        "\n",
        "\n",
        "g[\"name\"]=\"rafsan\"\n",
        "  \n",
        "srch_key(\"name\",g)\n"
      ],
      "execution_count": null,
      "outputs": [
        {
          "output_type": "execute_result",
          "data": {
            "text/plain": [
              "True"
            ]
          },
          "metadata": {},
          "execution_count": 36
        }
      ]
    },
    {
      "cell_type": "code",
      "metadata": {
        "id": "G-tBgpkOZh6M"
      },
      "source": [
        "store(\"your\",\"name\",\"rafsan jany\")"
      ],
      "execution_count": null,
      "outputs": []
    },
    {
      "cell_type": "code",
      "metadata": {
        "id": "75jK9xsOZsoM",
        "colab": {
          "base_uri": "https://localhost:8080/"
        },
        "outputId": "27db5bf0-2e0e-4c04-a869-eeb48db1b374"
      },
      "source": [
        "pri(\"your\")"
      ],
      "execution_count": null,
      "outputs": [
        {
          "output_type": "stream",
          "name": "stdout",
          "text": [
            "{'name': 'rafsan jany'}\n"
          ]
        }
      ]
    },
    {
      "cell_type": "code",
      "metadata": {
        "id": "8Y_c0TcGZ9Jk"
      },
      "source": [
        ""
      ],
      "execution_count": null,
      "outputs": []
    }
  ]
}