{
  "nbformat": 4,
  "nbformat_minor": 0,
  "metadata": {
    "colab": {
      "name": "NLP_1.ipynb",
      "provenance": [],
      "authorship_tag": "ABX9TyNOT3Te7kZT+Myq73REr5BW",
      "include_colab_link": true
    },
    "kernelspec": {
      "name": "python3",
      "display_name": "Python 3"
    }
  },
  "cells": [
    {
      "cell_type": "markdown",
      "metadata": {
        "id": "view-in-github",
        "colab_type": "text"
      },
      "source": [
        "<a href=\"https://colab.research.google.com/github/RafsanJany-44/NLP_Research/blob/master/NLP_1.ipynb\" target=\"_parent\"><img src=\"https://colab.research.google.com/assets/colab-badge.svg\" alt=\"Open In Colab\"/></a>"
      ]
    },
    {
      "cell_type": "markdown",
      "metadata": {
        "id": "8aouZZiAa3j1"
      },
      "source": [
        "<font color=\"red\"><h1>------------Importing-------------</h1></font>"
      ]
    },
    {
      "cell_type": "code",
      "metadata": {
        "id": "7U1EtBUJeTBL",
        "outputId": "6dcc7990-cb6e-4bbe-a15c-b7be3800aa25",
        "colab": {
          "base_uri": "https://localhost:8080/",
          "height": 104
        }
      },
      "source": [
        "import nltk\n",
        "from nltk.stem import PorterStemmer\n",
        "\n",
        "from nltk.tokenize import sent_tokenize,word_tokenize\n",
        "from nltk.corpus import stopwords\n",
        "nltk.download('punkt')\n",
        "nltk.download('stopwords')"
      ],
      "execution_count": 13,
      "outputs": [
        {
          "output_type": "stream",
          "text": [
            "[nltk_data] Downloading package punkt to /root/nltk_data...\n",
            "[nltk_data]   Package punkt is already up-to-date!\n",
            "[nltk_data] Downloading package stopwords to /root/nltk_data...\n",
            "[nltk_data]   Package stopwords is already up-to-date!\n"
          ],
          "name": "stdout"
        },
        {
          "output_type": "execute_result",
          "data": {
            "text/plain": [
              "True"
            ]
          },
          "metadata": {
            "tags": []
          },
          "execution_count": 13
        }
      ]
    },
    {
      "cell_type": "code",
      "metadata": {
        "id": "eVQRM4CGaPMQ"
      },
      "source": [
        "exp=\"A village doctor is a person who gives medicine and treatment with his little knowledge to the village people. He is very popular and familiar figure to the villagers. Though he is quack, he is very important in the village. He is not a well-educated person. He may pass the SSC or HSC examination. He generally gathers experience by working under a qualified doctor or in a medicine shop. He does not keep valuable medicine in his dispensary. He keeps some common and necessary medicines. His chamber is usually seen in the market. A few chairs, a table, an almirah and a few benches are seen in his chamber. He is very active, punctual and dutiful. He gets up early in the morning. Generally, he opens his dispensary early in the morning and begins to attend to the patients. He tries his best to cure the patient but takes little fees from them. He leads a very simple life. A village doctor is an important figure to the villagers because they find him whenever they call him. Actually, he is the best friend of the villagers.\""
      ],
      "execution_count": 6,
      "outputs": []
    },
    {
      "cell_type": "markdown",
      "metadata": {
        "id": "toJC5q8Raqol"
      },
      "source": [
        "<font color=\"red\"><h1>--------------Tokenize----------------</h1></font>"
      ]
    },
    {
      "cell_type": "code",
      "metadata": {
        "id": "BwUcdNcvVR5V",
        "outputId": "89bc4432-f022-449a-ec5f-3d0ae75ba7ea",
        "colab": {
          "base_uri": "https://localhost:8080/",
          "height": 72
        }
      },
      "source": [
        "print(sent_tokenize(exp),sep=\"\\n\")\n",
        "print(word_tokenize(exp))\n",
        "words=word_tokenize(exp)"
      ],
      "execution_count": 7,
      "outputs": [
        {
          "output_type": "stream",
          "text": [
            "['A village doctor is a person who gives medicine and treatment with his little knowledge to the village people.', 'He is very popular and familiar figure to the villagers.', 'Though he is quack, he is very important in the village.', 'He is not a well-educated person.', 'He may pass the SSC or HSC examination.', 'He generally gathers experience by working under a qualified doctor or in a medicine shop.', 'He does not keep valuable medicine in his dispensary.', 'He keeps some common and necessary medicines.', 'His chamber is usually seen in the market.', 'A few chairs, a table, an almirah and a few benches are seen in his chamber.', 'He is very active, punctual and dutiful.', 'He gets up early in the morning.', 'Generally, he opens his dispensary early in the morning and begins to attend to the patients.', 'He tries his best to cure the patient but takes little fees from them.', 'He leads a very simple life.', 'A village doctor is an important figure to the villagers because they find him whenever they call him.', 'Actually, he is the best friend of the villagers.']\n",
            "['A', 'village', 'doctor', 'is', 'a', 'person', 'who', 'gives', 'medicine', 'and', 'treatment', 'with', 'his', 'little', 'knowledge', 'to', 'the', 'village', 'people', '.', 'He', 'is', 'very', 'popular', 'and', 'familiar', 'figure', 'to', 'the', 'villagers', '.', 'Though', 'he', 'is', 'quack', ',', 'he', 'is', 'very', 'important', 'in', 'the', 'village', '.', 'He', 'is', 'not', 'a', 'well-educated', 'person', '.', 'He', 'may', 'pass', 'the', 'SSC', 'or', 'HSC', 'examination', '.', 'He', 'generally', 'gathers', 'experience', 'by', 'working', 'under', 'a', 'qualified', 'doctor', 'or', 'in', 'a', 'medicine', 'shop', '.', 'He', 'does', 'not', 'keep', 'valuable', 'medicine', 'in', 'his', 'dispensary', '.', 'He', 'keeps', 'some', 'common', 'and', 'necessary', 'medicines', '.', 'His', 'chamber', 'is', 'usually', 'seen', 'in', 'the', 'market', '.', 'A', 'few', 'chairs', ',', 'a', 'table', ',', 'an', 'almirah', 'and', 'a', 'few', 'benches', 'are', 'seen', 'in', 'his', 'chamber', '.', 'He', 'is', 'very', 'active', ',', 'punctual', 'and', 'dutiful', '.', 'He', 'gets', 'up', 'early', 'in', 'the', 'morning', '.', 'Generally', ',', 'he', 'opens', 'his', 'dispensary', 'early', 'in', 'the', 'morning', 'and', 'begins', 'to', 'attend', 'to', 'the', 'patients', '.', 'He', 'tries', 'his', 'best', 'to', 'cure', 'the', 'patient', 'but', 'takes', 'little', 'fees', 'from', 'them', '.', 'He', 'leads', 'a', 'very', 'simple', 'life', '.', 'A', 'village', 'doctor', 'is', 'an', 'important', 'figure', 'to', 'the', 'villagers', 'because', 'they', 'find', 'him', 'whenever', 'they', 'call', 'him', '.', 'Actually', ',', 'he', 'is', 'the', 'best', 'friend', 'of', 'the', 'villagers', '.']\n"
          ],
          "name": "stdout"
        }
      ]
    },
    {
      "cell_type": "markdown",
      "metadata": {
        "id": "0cCYCrOKbNrY"
      },
      "source": [
        "<font color=\"red\"><h1>---------Stop Word-----------</h1></font>"
      ]
    },
    {
      "cell_type": "code",
      "metadata": {
        "id": "wx27n1TvVXo_",
        "outputId": "032d0e60-ff6d-478d-e6bf-0fbd5f01c5c6",
        "colab": {
          "base_uri": "https://localhost:8080/",
          "height": 55
        }
      },
      "source": [
        "stop_word=set(stopwords.words('english'))\n",
        "\n",
        "\n",
        "filter_words=word_tokenize(exp)\n",
        "\n",
        "for i in filter_words:\n",
        "  if i in stop_word:\n",
        "    filter_words.remove(i)\n",
        "print(filter_words)\n"
      ],
      "execution_count": 15,
      "outputs": [
        {
          "output_type": "stream",
          "text": [
            "['A', 'village', 'doctor', 'person', 'gives', 'medicine', 'treatment', 'little', 'knowledge', 'village', 'people', '.', 'He', 'popular', 'familiar', 'figure', 'villagers', '.', 'Though', 'quack', ',', 'very', 'important', 'village', '.', 'He', 'not', 'well-educated', 'person', '.', 'He', 'may', 'pass', 'the', 'SSC', 'HSC', 'examination', '.', 'He', 'generally', 'gathers', 'experience', 'working', 'qualified', 'doctor', 'medicine', 'shop', '.', 'He', 'not', 'keep', 'valuable', 'medicine', 'dispensary', '.', 'He', 'keeps', 'common', 'necessary', 'medicines', '.', 'His', 'chamber', 'usually', 'seen', 'the', 'market', '.', 'A', 'chairs', ',', 'a', 'table', ',', 'almirah', 'a', 'benches', 'seen', 'his', 'chamber', '.', 'He', 'is', 'very', 'active', ',', 'punctual', 'dutiful', '.', 'He', 'gets', 'early', 'the', 'morning', '.', 'Generally', ',', 'opens', 'his', 'dispensary', 'early', 'in', 'the', 'morning', 'begins', 'attend', 'the', 'patients', '.', 'He', 'tries', 'his', 'best', 'cure', 'the', 'patient', 'takes', 'little', 'fees', 'them', '.', 'He', 'leads', 'a', 'very', 'simple', 'life', '.', 'A', 'village', 'doctor', 'is', 'an', 'important', 'figure', 'the', 'villagers', 'find', 'whenever', 'they', 'call', '.', 'Actually', ',', 'is', 'the', 'best', 'friend', 'the', 'villagers', '.']\n"
          ],
          "name": "stdout"
        }
      ]
    },
    {
      "cell_type": "markdown",
      "metadata": {
        "id": "pNiYLRZFtJ8_"
      },
      "source": [
        "<font color=\"red\"><h1>---------Stemmed-----------</h1></font>"
      ]
    },
    {
      "cell_type": "code",
      "metadata": {
        "id": "0BDLxwywdtvo",
        "outputId": "20aed8b9-8d4c-4e5a-831a-3fd17f42fcbb",
        "colab": {
          "base_uri": "https://localhost:8080/",
          "height": 35
        }
      },
      "source": [
        "ps = PorterStemmer()\n",
        "talika=[]\n",
        "word=[\"python\",\"pythonist\",\"pythonian\",\"pythoner\",\"pythoned\",\"pythonly\"]\n",
        "\n",
        "for i in word:\n",
        "  talika.append(ps.stem(i))\n",
        "print(talika)"
      ],
      "execution_count": 16,
      "outputs": [
        {
          "output_type": "stream",
          "text": [
            "['python', 'pythonist', 'pythonian', 'python', 'python', 'pythonli']\n"
          ],
          "name": "stdout"
        }
      ]
    },
    {
      "cell_type": "code",
      "metadata": {
        "id": "v80eFO3uud1s"
      },
      "source": [
        ""
      ],
      "execution_count": null,
      "outputs": []
    }
  ]
}